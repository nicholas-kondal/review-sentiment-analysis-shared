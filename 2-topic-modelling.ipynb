{
 "cells": [
  {
   "cell_type": "markdown",
   "metadata": {},
   "source": [
    "# Topic Modelling"
   ]
  },
  {
   "cell_type": "markdown",
   "metadata": {},
   "source": [
    "Please note that the work below relies on data files I no longer have access to (only samples of which I have saved).\n",
    "\n",
    "The goal of this work is to produce visualisations and insights that could be shared with our client to show what common themes/products/services are being referred to by customers in their reviews so that the client can direct resources towards improving those that are mentioned in a negative context (as informed by further work on the polarity and subjectivity of reviews)."
   ]
  },
  {
   "cell_type": "code",
   "execution_count": 2,
   "metadata": {},
   "outputs": [],
   "source": [
    "import pandas as pd\n",
    "import matplotlib.pyplot as plt\n",
    "from pprint import pprint\n",
    "import numpy as np\n",
    "\n",
    "import gensim\n",
    "from gensim.utils import simple_preprocess\n",
    "from gensim import corpora, models\n",
    "from gensim.models import CoherenceModel\n",
    "from nltk.corpus import stopwords\n",
    "import pyLDAvis, pyLDAvis.sklearn, pyLDAvis.gensim_models\n",
    "from wordcloud import WordCloud, STOPWORDS\n",
    "\n",
    "from sklearn.feature_extraction.text import TfidfVectorizer\n",
    "from sklearn.decomposition import LatentDirichletAllocation, NMF\n",
    "from sklearn.model_selection import GridSearchCV"
   ]
  },
  {
   "cell_type": "code",
   "execution_count": null,
   "metadata": {},
   "outputs": [],
   "source": [
    "fields = ['field_1', 'field_2', 'field_3']"
   ]
  },
  {
   "cell_type": "code",
   "execution_count": 63,
   "metadata": {},
   "outputs": [],
   "source": [
    "def remove_all_stopwords(text):\n",
    "    tokens = [word for word in text.split() if word not in stopwords.words('english')]\n",
    "    return ' '.join(tokens)"
   ]
  },
  {
   "cell_type": "markdown",
   "metadata": {},
   "source": [
    "## Latent Dirichlet Allocation"
   ]
  },
  {
   "cell_type": "markdown",
   "metadata": {},
   "source": [
    "LDA assumes that each document i.e. review contains a mixture of topics. As such, reviews have not been split and tokenised into sentences.\n",
    "\n",
    "LDA also requires choosing the number of topics (n) manually, which is chosen based on domain knowledge or EDA - for now it's been set to 5."
   ]
  },
  {
   "cell_type": "markdown",
   "metadata": {},
   "source": [
    "### Approach 1"
   ]
  },
  {
   "cell_type": "code",
   "execution_count": 23,
   "metadata": {},
   "outputs": [
    {
     "data": {
      "text/html": [
       "<div>\n",
       "<style scoped>\n",
       "    .dataframe tbody tr th:only-of-type {\n",
       "        vertical-align: middle;\n",
       "    }\n",
       "\n",
       "    .dataframe tbody tr th {\n",
       "        vertical-align: top;\n",
       "    }\n",
       "\n",
       "    .dataframe thead th {\n",
       "        text-align: right;\n",
       "    }\n",
       "</style>\n",
       "<table border=\"1\" class=\"dataframe\">\n",
       "  <thead>\n",
       "    <tr style=\"text-align: right;\">\n",
       "      <th></th>\n",
       "      <th>review_year</th>\n",
       "      <th>review_month</th>\n",
       "      <th>review_text</th>\n",
       "      <th>processed_review_text</th>\n",
       "    </tr>\n",
       "  </thead>\n",
       "  <tbody>\n",
       "    <tr>\n",
       "      <th>0</th>\n",
       "      <td>2021</td>\n",
       "      <td>Oct</td>\n",
       "      <td>The ticketing process and hiring process was g...</td>\n",
       "      <td>ticket process hire process be great easy all ...</td>\n",
       "    </tr>\n",
       "    <tr>\n",
       "      <th>1</th>\n",
       "      <td>2021</td>\n",
       "      <td>Aug</td>\n",
       "      <td>Excellent team, thank you Laura and the girl d...</td>\n",
       "      <td>excellent team thank you laura girl driver who...</td>\n",
       "    </tr>\n",
       "    <tr>\n",
       "      <th>2</th>\n",
       "      <td>2021</td>\n",
       "      <td>Jul</td>\n",
       "      <td>Won’t go back in a hurry. Massive long lines, ...</td>\n",
       "      <td>will not go back in hurry massive long line sh...</td>\n",
       "    </tr>\n",
       "    <tr>\n",
       "      <th>3</th>\n",
       "      <td>2021</td>\n",
       "      <td>Mar</td>\n",
       "      <td>We spent 2 hours on the ski field riding the m...</td>\n",
       "      <td>we spent 2 hour on ski field rid mountain cart...</td>\n",
       "    </tr>\n",
       "    <tr>\n",
       "      <th>4</th>\n",
       "      <td>2021</td>\n",
       "      <td>Feb</td>\n",
       "      <td>Visited as a group of 4 couples and everyone h...</td>\n",
       "      <td>visit a group of 4 couple everyone have an abs...</td>\n",
       "    </tr>\n",
       "  </tbody>\n",
       "</table>\n",
       "</div>"
      ],
      "text/plain": [
       "   review_year review_month  \\\n",
       "0         2021          Oct   \n",
       "1         2021          Aug   \n",
       "2         2021          Jul   \n",
       "3         2021          Mar   \n",
       "4         2021          Feb   \n",
       "\n",
       "                                         review_text  \\\n",
       "0  The ticketing process and hiring process was g...   \n",
       "1  Excellent team, thank you Laura and the girl d...   \n",
       "2  Won’t go back in a hurry. Massive long lines, ...   \n",
       "3  We spent 2 hours on the ski field riding the m...   \n",
       "4  Visited as a group of 4 couples and everyone h...   \n",
       "\n",
       "                               processed_review_text  \n",
       "0  ticket process hire process be great easy all ...  \n",
       "1  excellent team thank you laura girl driver who...  \n",
       "2  will not go back in hurry massive long line sh...  \n",
       "3  we spent 2 hour on ski field rid mountain cart...  \n",
       "4  visit a group of 4 couple everyone have an abs...  "
      ]
     },
     "execution_count": 23,
     "metadata": {},
     "output_type": "execute_result"
    }
   ],
   "source": [
    "selected_field = fields[0]\n",
    "df = pd.read_csv(f'path/to/{selected_field}.csv')\n",
    "df.head()"
   ]
  },
  {
   "cell_type": "code",
   "execution_count": 24,
   "metadata": {},
   "outputs": [],
   "source": [
    "df['processed_review_text'] = df['processed_review_text'].apply(lambda x: remove_all_stopwords(x))"
   ]
  },
  {
   "cell_type": "code",
   "execution_count": 52,
   "metadata": {},
   "outputs": [
    {
     "name": "stdout",
     "output_type": "stream",
     "text": [
      "0.017*\"day\" + 0.015*\"great\" + 0.015*\"ski\" + 0.013*\"cardrona\" + 0.011*\"time\"\n",
      "0.016*\"day\" + 0.016*\"ski\" + 0.012*\"cardrona\" + 0.011*\"get\" + 0.009*\"time\"\n",
      "0.018*\"great\" + 0.015*\"staff\" + 0.015*\"ski\" + 0.014*\"mountain\" + 0.011*\"get\"\n",
      "0.019*\"ski\" + 0.015*\"cardrona\" + 0.014*\"day\" + 0.012*\"get\" + 0.012*\"great\"\n",
      "0.008*\"ski\" + 0.008*\"staff\" + 0.007*\"cardrona\" + 0.006*\"lift\" + 0.006*\"resort\"\n"
     ]
    }
   ],
   "source": [
    "# training LDA model to find a specified number of topics\n",
    "processed_reviews = [df['processed_review_text'][i].split() for i in range(df.shape[0])]\n",
    "dictionary = corpora.Dictionary(processed_reviews)\n",
    "corpus = [dictionary.doc2bow(review) for review in processed_reviews]\n",
    "model = models.ldamodel.LdaModel(corpus, num_topics=5, id2word=dictionary, passes=15)\n",
    "topics = model.print_topics(num_words=5)\n",
    "for topic in topics:\n",
    "    print(topic[1])"
   ]
  },
  {
   "cell_type": "markdown",
   "metadata": {},
   "source": [
    "### Approach 2"
   ]
  },
  {
   "cell_type": "markdown",
   "metadata": {},
   "source": [
    "This refined approach treats the number of topics as a hyperparameter in a cross-validation procedure with perplexity as the evaluation metric so that an optimal number of topics are  found (too few and there may not be enough nuance captured, but too many and the outputs may become less interpretable)."
   ]
  },
  {
   "cell_type": "code",
   "execution_count": 40,
   "metadata": {},
   "outputs": [
    {
     "data": {
      "text/html": [
       "<div>\n",
       "<style scoped>\n",
       "    .dataframe tbody tr th:only-of-type {\n",
       "        vertical-align: middle;\n",
       "    }\n",
       "\n",
       "    .dataframe tbody tr th {\n",
       "        vertical-align: top;\n",
       "    }\n",
       "\n",
       "    .dataframe thead th {\n",
       "        text-align: right;\n",
       "    }\n",
       "</style>\n",
       "<table border=\"1\" class=\"dataframe\">\n",
       "  <thead>\n",
       "    <tr style=\"text-align: right;\">\n",
       "      <th></th>\n",
       "      <th>review_year</th>\n",
       "      <th>review_month</th>\n",
       "      <th>review_text</th>\n",
       "      <th>processed_review_text</th>\n",
       "    </tr>\n",
       "  </thead>\n",
       "  <tbody>\n",
       "    <tr>\n",
       "      <th>0</th>\n",
       "      <td>2021</td>\n",
       "      <td>Oct</td>\n",
       "      <td>The ticketing process and hiring process was g...</td>\n",
       "      <td>ticket process hire process be great easy all ...</td>\n",
       "    </tr>\n",
       "    <tr>\n",
       "      <th>1</th>\n",
       "      <td>2021</td>\n",
       "      <td>Aug</td>\n",
       "      <td>Excellent team, thank you Laura and the girl d...</td>\n",
       "      <td>excellent team thank you laura girl driver who...</td>\n",
       "    </tr>\n",
       "    <tr>\n",
       "      <th>2</th>\n",
       "      <td>2021</td>\n",
       "      <td>Jul</td>\n",
       "      <td>Won’t go back in a hurry. Massive long lines, ...</td>\n",
       "      <td>will not go back in hurry massive long line sh...</td>\n",
       "    </tr>\n",
       "    <tr>\n",
       "      <th>3</th>\n",
       "      <td>2021</td>\n",
       "      <td>Mar</td>\n",
       "      <td>We spent 2 hours on the ski field riding the m...</td>\n",
       "      <td>we spent 2 hour on ski field rid mountain cart...</td>\n",
       "    </tr>\n",
       "    <tr>\n",
       "      <th>4</th>\n",
       "      <td>2021</td>\n",
       "      <td>Feb</td>\n",
       "      <td>Visited as a group of 4 couples and everyone h...</td>\n",
       "      <td>visit a group of 4 couple everyone have an abs...</td>\n",
       "    </tr>\n",
       "  </tbody>\n",
       "</table>\n",
       "</div>"
      ],
      "text/plain": [
       "   review_year review_month  \\\n",
       "0         2021          Oct   \n",
       "1         2021          Aug   \n",
       "2         2021          Jul   \n",
       "3         2021          Mar   \n",
       "4         2021          Feb   \n",
       "\n",
       "                                         review_text  \\\n",
       "0  The ticketing process and hiring process was g...   \n",
       "1  Excellent team, thank you Laura and the girl d...   \n",
       "2  Won’t go back in a hurry. Massive long lines, ...   \n",
       "3  We spent 2 hours on the ski field riding the m...   \n",
       "4  Visited as a group of 4 couples and everyone h...   \n",
       "\n",
       "                               processed_review_text  \n",
       "0  ticket process hire process be great easy all ...  \n",
       "1  excellent team thank you laura girl driver who...  \n",
       "2  will not go back in hurry massive long line sh...  \n",
       "3  we spent 2 hour on ski field rid mountain cart...  \n",
       "4  visit a group of 4 couple everyone have an abs...  "
      ]
     },
     "execution_count": 40,
     "metadata": {},
     "output_type": "execute_result"
    }
   ],
   "source": [
    "selected_field = fields[0]\n",
    "df = pd.read_csv(f'path/to/{selected_field}.csv')\n",
    "df.head()"
   ]
  },
  {
   "cell_type": "code",
   "execution_count": 41,
   "metadata": {},
   "outputs": [
    {
     "data": {
      "text/html": [
       "<div>\n",
       "<style scoped>\n",
       "    .dataframe tbody tr th:only-of-type {\n",
       "        vertical-align: middle;\n",
       "    }\n",
       "\n",
       "    .dataframe tbody tr th {\n",
       "        vertical-align: top;\n",
       "    }\n",
       "\n",
       "    .dataframe thead th {\n",
       "        text-align: right;\n",
       "    }\n",
       "</style>\n",
       "<table border=\"1\" class=\"dataframe\">\n",
       "  <thead>\n",
       "    <tr style=\"text-align: right;\">\n",
       "      <th></th>\n",
       "      <th>review_year</th>\n",
       "      <th>review_month</th>\n",
       "      <th>review_text</th>\n",
       "      <th>processed_review_text</th>\n",
       "    </tr>\n",
       "  </thead>\n",
       "  <tbody>\n",
       "    <tr>\n",
       "      <th>0</th>\n",
       "      <td>2021</td>\n",
       "      <td>Oct</td>\n",
       "      <td>The ticketing process and hiring process was g...</td>\n",
       "      <td>[ticket, process, hire, process, great, easy, ...</td>\n",
       "    </tr>\n",
       "    <tr>\n",
       "      <th>1</th>\n",
       "      <td>2021</td>\n",
       "      <td>Aug</td>\n",
       "      <td>Excellent team, thank you Laura and the girl d...</td>\n",
       "      <td>[excellent, team, thank, laura, girl, driver, ...</td>\n",
       "    </tr>\n",
       "    <tr>\n",
       "      <th>2</th>\n",
       "      <td>2021</td>\n",
       "      <td>Jul</td>\n",
       "      <td>Won’t go back in a hurry. Massive long lines, ...</td>\n",
       "      <td>[go, back, hurry, massive, long, line, short, ...</td>\n",
       "    </tr>\n",
       "    <tr>\n",
       "      <th>3</th>\n",
       "      <td>2021</td>\n",
       "      <td>Mar</td>\n",
       "      <td>We spent 2 hours on the ski field riding the m...</td>\n",
       "      <td>[spent, 2, hour, ski, field, rid, mountain, ca...</td>\n",
       "    </tr>\n",
       "    <tr>\n",
       "      <th>4</th>\n",
       "      <td>2021</td>\n",
       "      <td>Feb</td>\n",
       "      <td>Visited as a group of 4 couples and everyone h...</td>\n",
       "      <td>[visit, group, 4, couple, everyone, absolute, ...</td>\n",
       "    </tr>\n",
       "  </tbody>\n",
       "</table>\n",
       "</div>"
      ],
      "text/plain": [
       "   review_year review_month  \\\n",
       "0         2021          Oct   \n",
       "1         2021          Aug   \n",
       "2         2021          Jul   \n",
       "3         2021          Mar   \n",
       "4         2021          Feb   \n",
       "\n",
       "                                         review_text  \\\n",
       "0  The ticketing process and hiring process was g...   \n",
       "1  Excellent team, thank you Laura and the girl d...   \n",
       "2  Won’t go back in a hurry. Massive long lines, ...   \n",
       "3  We spent 2 hours on the ski field riding the m...   \n",
       "4  Visited as a group of 4 couples and everyone h...   \n",
       "\n",
       "                               processed_review_text  \n",
       "0  [ticket, process, hire, process, great, easy, ...  \n",
       "1  [excellent, team, thank, laura, girl, driver, ...  \n",
       "2  [go, back, hurry, massive, long, line, short, ...  \n",
       "3  [spent, 2, hour, ski, field, rid, mountain, ca...  \n",
       "4  [visit, group, 4, couple, everyone, absolute, ...  "
      ]
     },
     "execution_count": 41,
     "metadata": {},
     "output_type": "execute_result"
    }
   ],
   "source": [
    "def remove_all_stopwords(text):\n",
    "    stops = stopwords.words('english')\n",
    "    tokens = [word for word in text.split() if word not in stops]\n",
    "    return str(tokens)\n",
    "\n",
    "df['processed_review_text'] = df['processed_review_text'].apply(lambda x: remove_all_stopwords(x))\n",
    "df.head()"
   ]
  },
  {
   "cell_type": "markdown",
   "metadata": {},
   "source": [
    "#### Create document-word matrix"
   ]
  },
  {
   "cell_type": "code",
   "execution_count": 47,
   "metadata": {},
   "outputs": [],
   "source": [
    "vectorizer = TfidfVectorizer(analyzer='word', token_pattern=r'\\b[a-zA-Z]{3,}\\b', ngram_range=(2,2), lowercase=False)  \n",
    "matrix = vectorizer.fit_transform(df.processed_review_text.values)"
   ]
  },
  {
   "cell_type": "code",
   "execution_count": 51,
   "metadata": {},
   "outputs": [
    {
     "name": "stdout",
     "output_type": "stream",
     "text": [
      "Density: 0.19%\n"
     ]
    }
   ],
   "source": [
    "# Compute density (percentage of non-zero values in matrix - most values will be zero)\n",
    "data_dense = matrix.todense()\n",
    "print(f\"Density: {((data_dense > 0).sum()/data_dense.size)*100:.2f}%\")"
   ]
  },
  {
   "cell_type": "markdown",
   "metadata": {},
   "source": [
    "#### Grid search to tune hyperparameters"
   ]
  },
  {
   "cell_type": "code",
   "execution_count": 58,
   "metadata": {},
   "outputs": [
    {
     "data": {
      "text/plain": [
       "GridSearchCV(estimator=LatentDirichletAllocation(),\n",
       "             param_grid={'learning_decay': [0.5, 0.7, 0.9],\n",
       "                         'n_components': [10, 15, 20, 25, 30]})"
      ]
     },
     "execution_count": 58,
     "metadata": {},
     "output_type": "execute_result"
    }
   ],
   "source": [
    "# Tune n_components (number of topics), learning_decay (learning rate) \n",
    "# can also try learning_offset (downweigh early iterations, should be > 1), max_iter, and others\n",
    "search_params = {'n_components': [10, 15, 20, 25, 30], 'learning_decay': [.5, .7, .9]}\n",
    "lda_model_tuned = LatentDirichletAllocation()\n",
    "gs = GridSearchCV(lda_model_tuned, param_grid=search_params)\n",
    "gs.fit(matrix)"
   ]
  },
  {
   "cell_type": "code",
   "execution_count": 59,
   "metadata": {},
   "outputs": [
    {
     "name": "stdout",
     "output_type": "stream",
     "text": [
      "Parameter values:  {'learning_decay': 0.7, 'n_components': 10}\n",
      "Log likelihood score:  -23584.961340219015\n",
      "Model perplexity:  2791761.8129768637\n"
     ]
    }
   ],
   "source": [
    "# Good model = high log likelihood, low perplexity (e^-log_likelihood_per_word)\n",
    "\n",
    "best_lda_model = gs.best_estimator_\n",
    "print(\"Parameter values: \", gs.best_params_)\n",
    "print(\"Log likelihood: \", gs.best_score_)\n",
    "print(\"Perplexity: \", best_lda_model.perplexity(matrix))"
   ]
  },
  {
   "cell_type": "markdown",
   "metadata": {},
   "source": [
    "#### Build LDA model"
   ]
  },
  {
   "cell_type": "code",
   "execution_count": 64,
   "metadata": {},
   "outputs": [
    {
     "name": "stdout",
     "output_type": "stream",
     "text": [
      "Parameter values:  {'batch_size': 128, 'doc_topic_prior': None, 'evaluate_every': -1, 'learning_decay': 0.7, 'learning_method': 'batch', 'learning_offset': 10.0, 'max_doc_update_iter': 100, 'max_iter': 10, 'mean_change_tol': 0.001, 'n_components': 10, 'n_jobs': None, 'perp_tol': 0.1, 'random_state': 100, 'topic_word_prior': None, 'total_samples': 1000000.0, 'verbose': 0}\n",
      "Log likelihood:  -66609.20437894973\n",
      "Perplexity:  2825962.8142750976\n"
     ]
    }
   ],
   "source": [
    "lda_model = LatentDirichletAllocation(n_components=10, learning_decay = 0.7, random_state=100)\n",
    "lda_output = lda_model.fit_transform(matrix)\n",
    "print(\"Parameter values: \", lda_model.get_params())\n",
    "print(\"Log likelihood: \", lda_model.score(matrix))\n",
    "print(\"Perplexity: \", lda_model.perplexity(matrix))"
   ]
  },
  {
   "cell_type": "code",
   "execution_count": 69,
   "metadata": {},
   "outputs": [
    {
     "name": "stdout",
     "output_type": "stream",
     "text": [
      "Top 5 bigrams for topic 1:\n",
      "['day skiing', 'time cardrona', 'ski resort', 'first time', 'great day']\n",
      "Top 5 bigrams for topic 2:\n",
      "['drive queenstown', 'make sure', 'kid club', 'highly recommend', 'really good']\n",
      "Top 5 bigrams for topic 3:\n",
      "['come back', 'still great', 'ski hire', 'white star', 'ski field']\n",
      "Top 5 bigrams for topic 4:\n",
      "['well worth', 'day skiing', 'ski field', 'ski resort', 'first time']\n",
      "Top 5 bigrams for topic 5:\n",
      "['ski resort', 'school holiday', 'would recommend', 'friendly staff', 'ski field']\n",
      "Top 5 bigrams for topic 6:\n",
      "['whole family', 'come back', 'ski field', 'year old', 'highly recommend']\n",
      "Top 5 bigrams for topic 7:\n",
      "['great coffee', 'first time', 'valley view', 'great place', 'ski field']\n",
      "Top 5 bigrams for topic 8:\n",
      "['customer service', 'ski lesson', 'coronet peak', 'instructor helpful', 'first time']\n",
      "Top 5 bigrams for topic 9:\n",
      "['never ski', 'super helpful', 'first time', 'ski instructor', 'staff friendly']\n",
      "Top 5 bigrams for topic 10:\n",
      "['first time', 'ski field', 'skiing cardrona', 'great day', 'highly recommend']\n"
     ]
    }
   ],
   "source": [
    "# Top 5 bigrams with the highest probabilities for each of the 10 topics\n",
    "for i, topic in enumerate(lda_model.components_):\n",
    "    print(f'Top 5 bigrams for topic {i+1}:')\n",
    "    print([vectorizer.get_feature_names()[i] for i in topic.argsort()[-5:]])"
   ]
  },
  {
   "cell_type": "markdown",
   "metadata": {},
   "source": [
    "We can start to see some overarching topics being found, particularly topic 6 (which seems to be relating to how family-friendly the ski field is), topic 8 (relating to customer service), topic 9 (relating to beginner-friendliness)"
   ]
  },
  {
   "cell_type": "markdown",
   "metadata": {},
   "source": [
    "#### Visualise model"
   ]
  },
  {
   "cell_type": "markdown",
   "metadata": {},
   "source": [
    "Trying to visualise the principal components that constitute the model"
   ]
  },
  {
   "cell_type": "code",
   "execution_count": 73,
   "metadata": {},
   "outputs": [
    {
     "name": "stderr",
     "output_type": "stream",
     "text": [
      "g:\\My Drive\\Professional\\Internship and Graduate\\2021\\Qrious\\Project 3  NZ Ski Sentiment Analysis\\nzski\\venv\\lib\\site-packages\\sklearn\\utils\\deprecation.py:87: FutureWarning: Function get_feature_names is deprecated; get_feature_names is deprecated in 1.0 and will be removed in 1.2. Please use get_feature_names_out instead.\n",
      "  warnings.warn(msg, category=FutureWarning)\n",
      "g:\\My Drive\\Professional\\Internship and Graduate\\2021\\Qrious\\Project 3  NZ Ski Sentiment Analysis\\nzski\\venv\\lib\\site-packages\\pyLDAvis\\_prepare.py:246: FutureWarning: In a future version of pandas all arguments of DataFrame.drop except for the argument 'labels' will be keyword-only\n",
      "  default_term_info = default_term_info.sort_values(\n",
      "g:\\My Drive\\Professional\\Internship and Graduate\\2021\\Qrious\\Project 3  NZ Ski Sentiment Analysis\\nzski\\venv\\lib\\site-packages\\sklearn\\manifold\\_t_sne.py:780: FutureWarning: The default initialization in TSNE will change from 'random' to 'pca' in 1.2.\n",
      "  warnings.warn(\n",
      "g:\\My Drive\\Professional\\Internship and Graduate\\2021\\Qrious\\Project 3  NZ Ski Sentiment Analysis\\nzski\\venv\\lib\\site-packages\\sklearn\\manifold\\_t_sne.py:790: FutureWarning: The default learning rate in TSNE will change from 200.0 to 'auto' in 1.2.\n",
      "  warnings.warn(\n",
      "g:\\My Drive\\Professional\\Internship and Graduate\\2021\\Qrious\\Project 3  NZ Ski Sentiment Analysis\\nzski\\venv\\lib\\site-packages\\sklearn\\manifold\\_t_sne.py:819: FutureWarning: 'square_distances' has been introduced in 0.24 to help phase out legacy squaring behavior. The 'legacy' setting will be removed in 1.1 (renaming of 0.26), and the default setting will be changed to True. In 1.3, 'square_distances' will be removed altogether, and distances will be squared by default. Set 'square_distances'=True to silence this warning.\n",
      "  warnings.warn(\n"
     ]
    },
    {
     "data": {
      "text/html": [
       "\n",
       "<link rel=\"stylesheet\" type=\"text/css\" href=\"https://cdn.jsdelivr.net/gh/bmabey/pyLDAvis@3.3.1/pyLDAvis/js/ldavis.v1.0.0.css\">\n",
       "\n",
       "\n",
       "<div id=\"ldavis_el6257219007295233286360963711\"></div>\n",
       "<script type=\"text/javascript\">\n",
       "\n",
       "var ldavis_el6257219007295233286360963711_data = {\"mdsDat\": {\"x\": [32.42095184326172, 0.648955225944519, 71.01968383789062, 3.7859814167022705, -42.666500091552734, -3.6216893196105957, -3.632401704788208, -36.58440017700195, 44.391380310058594, 40.235809326171875], \"y\": [8.115229606628418, 71.70709991455078, 9.971006393432617, 33.18513488769531, -9.22206974029541, -43.52651596069336, -4.171707630157471, 35.804412841796875, 50.61538314819336, -31.591665267944336], \"topics\": [1, 2, 3, 4, 5, 6, 7, 8, 9, 10], \"cluster\": [1, 1, 1, 1, 1, 1, 1, 1, 1, 1], \"Freq\": [11.320479437246325, 10.652609545134583, 10.52445865523432, 10.473754408404218, 10.390878554277428, 10.271547176704718, 9.499301663647538, 9.227085735252624, 8.961668864654563, 8.678215959443685]}, \"tinfo\": {\"Term\": [\"highly recommend\", \"come back\", \"great staff\", \"white star\", \"friendly staff\", \"staff friendly\", \"still great\", \"instructor helpful\", \"alpine resort\", \"much fun\", \"kid club\", \"wait back\", \"love skiing\", \"really good\", \"queenstown well\", \"resort queenstown\", \"cardrona alpine\", \"cardrona best\", \"morning afternoon\", \"great service\", \"instructor patient\", \"time cardrona\", \"young child\", \"good overall\", \"first time\", \"school holiday\", \"super helpful\", \"great coffee\", \"chair lift\", \"day pas\", \"good overall\", \"family staff\", \"day fun\", \"staff good\", \"field good\", \"also good\", \"drink option\", \"excellent food\", \"nice ski\", \"option really\", \"awesome kid\", \"heap time\", \"progress heap\", \"time cadrona\", \"great boot\", \"include reasonable\", \"lift include\", \"great help\", \"nice weather\", \"day snowboard\", \"beautiful day\", \"four beautiful\", \"season four\", \"snow lovely\", \"instructor awesome\", \"amaze snow\", \"place view\", \"queenstown good\", \"well bit\", \"instructor really\", \"first ski\", \"cardrona amaze\", \"bike park\", \"cardrona also\", \"kid club\", \"absolute beginner\", \"really good\", \"slope beginner\", \"drive queenstown\", \"make sure\", \"highly recommend\", \"good value\", \"great snow\", \"good day\", \"great place\", \"young child\", \"variety run\", \"first time\", \"friendly helpful\", \"school holiday\", \"snow condition\", \"take lesson\", \"ski field\", \"ski resort\", \"chair lift\", \"staff amaze\", \"ski instructor\", \"magic carpet\", \"year old\", \"valley view\", \"great green\", \"time great\", \"outstanding instructor\", \"crowd school\", \"awesome snow\", \"excellent ski\", \"view learn\", \"cardrona team\", \"run want\", \"eat little\", \"courteous friendly\", \"experienced need\", \"fantastic grade\", \"field whether\", \"grade plenty\", \"plenty offer\", \"whether experienced\", \"much harder\", \"next day\", \"slope awesome\", \"challenge slope\", \"need slope\", \"adaptive team\", \"amaze love\", \"field adaptive\", \"love ski\", \"nothing short\", \"short amaze\", \"team nothing\", \"beautiful slope\", \"lesson kid\", \"whole experience\", \"friendly staff\", \"place ski\", \"green blue\", \"would recommend\", \"ski field\", \"cardrona day\", \"helpful friendly\", \"cardrona best\", \"school holiday\", \"chair lift\", \"first day\", \"family ski\", \"staff excellent\", \"ski resort\", \"friendly helpful\", \"blue run\", \"staff helpful\", \"alpine resort\", \"car park\", \"love cardrona\", \"snow condition\", \"ski instructor\", \"beginner intermediate\", \"great day\", \"great place\", \"choice food\", \"run different\", \"favourite mountain\", \"different run\", \"good level\", \"three wheel\", \"lot different\", \"track lot\", \"hour ski\", \"long run\", \"food queue\", \"incredible location\", \"incredible trail\", \"location great\", \"queue love\", \"trail incredible\", \"incredible staff\", \"mountain make\", \"express lift\", \"day snow\", \"lot track\", \"time use\", \"skiing enjoy\", \"amaze bring\", \"available waste\", \"bring gear\", \"equipment available\", \"gear people\", \"hill really\", \"really view\", \"great coffee\", \"field would\", \"different level\", \"captain express\", \"get skiing\", \"cardrona make\", \"green run\", \"valley view\", \"cardrona best\", \"ski field\", \"great place\", \"new zealand\", \"come back\", \"much fun\", \"first time\", \"staff helpful\", \"would definitely\", \"staff great\", \"top mountain\", \"ski resort\", \"blue run\", \"mountain could\", \"nice view\", \"busy lucky\", \"open slope\", \"skiing wide\", \"mountain learn\", \"brilliant drove\", \"drive snow\", \"quality brilliant\", \"queenstown twice\", \"twice crown\", \"awesome mountain\", \"could faster\", \"faster lift\", \"good moment\", \"lift mcdougalls\", \"mcdougalls trail\", \"trail really\", \"candrona today\", \"instructor tim\", \"skiing candrona\", \"snow instructor\", \"tim fantastic\", \"old boy\", \"felt short\", \"place buying\", \"view spectacular\", \"lucky weather\", \"young old\", \"amaze eagle\", \"enjoy mountain\", \"day fantastic\", \"time cardrona\", \"really friendly\", \"wide open\", \"great day\", \"first time\", \"enjoy day\", \"day skiing\", \"ski resort\", \"worth drive\", \"cardrona alpine\", \"would definitely\", \"would highly\", \"alpine resort\", \"day mountain\", \"highly recommend\", \"ski field\", \"definitely back\", \"experience skiing\", \"day ski\", \"visit cardrona\", \"access beginner\", \"car ditch\", \"job manage\", \"staff everything\", \"get day\", \"ball staff\", \"boy skiing\", \"friendly approachable\", \"take boy\", \"time ball\", \"park well\", \"four lovely\", \"instructor rental\", \"lifties helpful\", \"lovely day\", \"skiing still\", \"staff lifties\", \"everything hassle\", \"free trail\", \"ride super\", \"trail could\", \"make well\", \"resort lot\", \"quickly thanks\", \"mountain option\", \"cardrona park\", \"childhood dream\", \"disappoint shaper\", \"dream ride\", \"hard kicker\", \"get lesson\", \"super helpful\", \"never ski\", \"rental staff\", \"facility staff\", \"really fun\", \"never see\", \"really enjoy\", \"staff friendly\", \"great staff\", \"visit cardrona\", \"ski instructor\", \"skiing first\", \"love love\", \"snow great\", \"coronet peak\", \"first time\", \"day cardrona\", \"great view\", \"resort able\", \"book beginner\", \"two day\", \"great place\", \"ski resort\", \"treble cone\", \"ski field\", \"nice open\", \"run level\", \"plenty trail\", \"beginner thorough\", \"business complaint\", \"equipment professionally\", \"run business\", \"much snow\", \"patient lesson\", \"lunch hour\", \"cardrona instructor\", \"plenty fun\", \"new gondola\", \"even busy\", \"get book\", \"get ticket\", \"angie instructor\", \"easy process\", \"facility easy\", \"mountain angie\", \"slope back\", \"wait back\", \"long enough\", \"big best\", \"everyone see\", \"guy jump\", \"jump excellent\", \"see skill\", \"skill guy\", \"lesson beginner\", \"beginner advanced\", \"instructor patient\", \"ball cardrona\", \"good equipment\", \"amount people\", \"minute lift\", \"much fun\", \"open run\", \"skiing cardrona\", \"highly recommend\", \"make much\", \"easy access\", \"definitely recommend\", \"great day\", \"morning afternoon\", \"lift get\", \"professionally run\", \"time snow\", \"cardrona ski\", \"staff friendly\", \"ski field\", \"first time\", \"day cardrona\", \"ski resort\", \"staff helpful\", \"mountain cart\", \"look forward\", \"resort queenstown\", \"bar restaurant\", \"queenstown well\", \"field charge\", \"trip enjoy\", \"much would\", \"design ski\", \"atmosphere great\", \"back near\", \"fun atmosphere\", \"near future\", \"terrain staff\", \"best mountain\", \"cater age\", \"rental cafe\", \"try cart\", \"well design\", \"restaurant option\", \"minute get\", \"hire lift\", \"alpine hotel\", \"complaint whatsoever\", \"fantastic snow\", \"great complaint\", \"hotel absolutely\", \"parkslifts great\", \"snow parkslifts\", \"whatsoever love\", \"friendly back\", \"facility amaze\", \"worth trip\", \"teach kid\", \"skiing back\", \"first time\", \"next year\", \"large ski\", \"well worth\", \"lesson package\", \"great staff\", \"staff super\", \"ski resort\", \"day skiing\", \"facility great\", \"school holiday\", \"great day\", \"ski field\", \"cardrona alpine\", \"good day\", \"really good\", \"best ski\", \"kid club\", \"kid ski\", \"skiing cardrona\", \"staff friendly\", \"time cardrona\", \"first day\", \"hire ski\", \"fun whole\", \"compare mountain\", \"mountain overseas\", \"overseas good\", \"track great\", \"group one\", \"interest anymore\", \"pas interest\", \"put group\", \"skiing put\", \"wait private\", \"wait come\", \"early great\", \"stay night\", \"field open\", \"snow start\", \"whole family\", \"scary drive\", \"expert helpful\", \"lot wonderful\", \"really expert\", \"resort highly\", \"wonderful run\", \"great team\", \"skiing small\", \"chinese speak\", \"love back\", \"lack snow\", \"cart fantastic\", \"fantastic way\", \"patient helpful\", \"fantastic weather\", \"highly recommend\", \"young child\", \"year old\", \"come back\", \"one day\", \"day pas\", \"mountain biking\", \"noodle bar\", \"mountain cart\", \"love skiing\", \"ski field\", \"get early\", \"great time\", \"first timer\", \"helpful friendly\", \"ski instructor\", \"great beginner\", \"really good\", \"new zealand\", \"much well\", \"private lesson\", \"great fun\", \"white star\", \"although skiing\", \"still great\", \"season still\", \"lift excellent\", \"field reasonable\", \"rate next\", \"reasonable rate\", \"staff come\", \"excellent day\", \"bit scary\", \"hire lesson\", \"day extremely\", \"extremely foggy\", \"foggy still\", \"food area\", \"service upstairs\", \"unfortunately day\", \"upstairs food\", \"cannelloni flavoursome\", \"chocolate need\", \"friendly coffee\", \"good hot\", \"ricotta cannelloni\", \"spinach ricotta\", \"work spinach\", \"family cardrona\", \"information drive\", \"fun family\", \"old love\", \"ski hire\", \"great service\", \"love skiing\", \"great experience\", \"next time\", \"come back\", \"ski field\", \"chair lift\", \"ski snow\", \"staff friendly\", \"drive mountain\", \"time visit\", \"beginner skier\", \"ski resort\", \"snow great\", \"friendly helpful\", \"highly recommend\", \"would highly\", \"cardrona alpine\", \"new zealand\", \"year old\", \"alpine resort\", \"first time\", \"emma patient\", \"lesson emma\", \"skier thrill\", \"thrill time\", \"time book\", \"power cut\", \"around wanaka\", \"service great\", \"ability good\", \"absolutely blown\", \"away run\", \"quality instructor\", \"visitor absolutely\", \"everything great\", \"awesome thanks\", \"cardona alpine\", \"day awesome\", \"experience cardona\", \"lesson mark\", \"mark awesome\", \"timer snowboard\", \"improvement great\", \"region visit\", \"see improvement\", \"visit yearly\", \"yearly family\", \"instructor helpful\", \"take easy\", \"service unbeatable\", \"mountain everything\", \"great customer\", \"great see\", \"time skier\", \"customer service\", \"resort family\", \"ski lesson\", \"coronet peak\", \"first time\", \"amaze service\", \"alpine resort\", \"first timer\", \"ski instructor\", \"book ski\", \"day skiing\", \"cardrona ski\", \"ski field\", \"next year\", \"great resort\", \"staff help\"], \"Freq\": [0.0, 0.0, 0.0, 0.0, 0.0, 0.0, 0.0, 0.0, 0.0, 0.0, 0.0, 0.0, 0.0, 0.0, 0.0, 0.0, 0.0, 0.0, 0.0, 0.0, 0.0, 0.0, 0.0, 0.0, 1.0, 0.0, 0.0, 0.0, 0.0, 0.0, 0.11703753294371892, 0.08345738164135359, 0.0832603660981562, 0.11650185470432169, 0.0796909045068992, 0.09999347080213745, 0.07716091960128034, 0.07716091960128034, 0.07716091960128034, 0.07716091960128034, 0.07667145647405756, 0.07667145647405756, 0.07667145647405756, 0.07667145647405756, 0.07532106486441342, 0.07532106486441342, 0.07532106486441342, 0.07517637103332254, 0.07381580850473317, 0.0818029118779139, 0.0726204908152607, 0.0726204908152607, 0.0726204908152607, 0.0726204908152607, 0.10044062601755513, 0.07181801983240677, 0.07181801983240677, 0.07181801983240677, 0.07181801983240677, 0.07172175449721026, 0.10617632759300681, 0.08574873442300704, 0.08250109801725104, 0.07795404828346159, 0.13580648131196077, 0.09920164729471798, 0.15492204542178076, 0.09018918850515094, 0.1259473963752272, 0.12666807295284035, 0.1548145889921287, 0.0899918521490004, 0.10415435477688885, 0.09037481753816161, 0.11334979233999866, 0.09075084940965178, 0.08753192981029267, 0.12386967121851168, 0.10502536641276283, 0.10288887435910035, 0.08938938506902824, 0.08647510975735308, 0.11847873427921307, 0.10627690098180896, 0.09159615666482113, 0.0856667995565917, 0.08992197576410273, 0.08762425287991915, 0.08735191421518863, 0.08603676257396581, 0.08943127649287698, 0.10791222717346566, 0.077240798827172, 0.10153371253956785, 0.07325362176106993, 0.07325362176106993, 0.07325362176106993, 0.07313592842298537, 0.07297623009679279, 0.0721522515471568, 0.07020160044572019, 0.06812326717206528, 0.06812326717206528, 0.06812326717206528, 0.06812326717206528, 0.06812326717206528, 0.06812326717206528, 0.06777635295700826, 0.09426308301585248, 0.06695495528044725, 0.0659057131877641, 0.06518314673449672, 0.06496550014107065, 0.06496550014107065, 0.06496550014107065, 0.06496550014107065, 0.06496550014107065, 0.06496550014107065, 0.06496550014107065, 0.06486669329012612, 0.08764182770660074, 0.09048087872464378, 0.16863366648048228, 0.09844925386340576, 0.07568533301770353, 0.1398272927946712, 0.2396071105276729, 0.08887026172699163, 0.12860617171004274, 0.091280157673714, 0.1295947682723997, 0.10767327421464991, 0.10110329859305181, 0.08347290755126557, 0.07899929842662769, 0.1290011507684919, 0.10485141342387175, 0.08938062514459309, 0.09973944939278284, 0.0919591993629265, 0.0909097532023466, 0.08129969793351169, 0.08062219658985986, 0.08805835222994653, 0.07992429975738186, 0.08497286202563231, 0.08281931003370281, 0.09368833737678338, 0.09028770115571205, 0.09470851299143453, 0.08693940527483784, 0.09528995964168845, 0.07224281241835354, 0.08693793512146801, 0.06918745705105149, 0.0853294835965041, 0.09323513968918873, 0.06800772267810097, 0.06800772267810097, 0.06800772267810097, 0.06800772267810097, 0.06800772267810097, 0.06800772267810097, 0.06800772267810096, 0.07624118323881346, 0.08894813055907434, 0.08057619319348737, 0.06529498703447228, 0.0628345543516415, 0.06259399631875477, 0.061564700475883784, 0.061564700475883784, 0.061564700475883784, 0.061564700475883784, 0.061564700475883784, 0.061564700475883784, 0.061564700475883784, 0.09632776444824485, 0.07179315627541327, 0.08221904326530592, 0.0712965841499999, 0.0658804067118576, 0.06598297608804034, 0.09505183555767031, 0.10108011310397806, 0.08659833365112632, 0.14877611860602707, 0.10507939570028581, 0.09598941895048727, 0.08798529887412115, 0.08181675692035527, 0.10090162241396199, 0.08785256977998722, 0.07934434317869545, 0.07745662936273463, 0.07746902724386452, 0.08083657248226109, 0.07445386075381161, 0.07526669283376444, 0.07486959652094062, 0.07378466871930296, 0.07378466871930296, 0.07378466871930296, 0.07140065324539607, 0.07086907025101236, 0.07086907025101236, 0.07086907025101236, 0.07086907025101236, 0.07086907025101236, 0.06859789696880167, 0.06859789696880167, 0.06859789696880167, 0.06859789696880167, 0.06859789696880167, 0.06859789696880167, 0.06859789696880167, 0.06828883731924949, 0.06828883731924949, 0.06828883731924949, 0.06828883731924949, 0.06828883731924949, 0.06806148597385142, 0.06577460048620867, 0.06441334579931435, 0.07145714071866804, 0.07031884854507921, 0.07071167047928435, 0.06286984189683928, 0.0825770527022372, 0.07311227123454876, 0.11634385318820034, 0.08041223136923253, 0.08833424686313329, 0.13736934986288338, 0.13670595135863853, 0.08431878405011839, 0.10622235995934785, 0.11681185535337162, 0.0857011007576281, 0.09132653919716376, 0.08862173387902794, 0.08493536266734251, 0.0881578232683396, 0.08036797008322509, 0.09412209125560368, 0.0948997198740892, 0.07809518144836504, 0.07316350958589524, 0.07503131577698113, 0.07391114775421151, 0.09121467220730507, 0.0888641897044569, 0.07863471798151989, 0.07808490652873705, 0.07725194615092086, 0.07612708185409363, 0.07612708185409363, 0.07612708185409363, 0.07612708185409363, 0.07612708185409363, 0.07255726149855332, 0.06574858574596923, 0.06574858574596923, 0.06574858574596923, 0.06574858574596923, 0.06574858574596923, 0.06574858574596923, 0.0654324788219615, 0.0654324788219615, 0.0654324788219615, 0.0654324788219615, 0.06526998493499703, 0.06490432414363763, 0.064660142789953, 0.062133548794424905, 0.061557719722012794, 0.061557719722012794, 0.061557719722012794, 0.061557719722012794, 0.061557719722012794, 0.08932687121295266, 0.11173591614898945, 0.10920473178560532, 0.08805751988998378, 0.06628827742336386, 0.07242079024740956, 0.08156309637697286, 0.09994560037096767, 0.14097704928295945, 0.10068266779929956, 0.10440081794745086, 0.13226041160695728, 0.08373423972905869, 0.07210296345167924, 0.09584125675294447, 0.09603208124992153, 0.12268916286163072, 0.08526513008848342, 0.07484057825600018, 0.06774744074800358, 0.06873709786809987, 0.07459153685346555, 0.08494915356703074, 0.08464049208484913, 0.07689178063665322, 0.0755197726426857, 0.0933634011397853, 0.10349212492191413, 0.08218738017987258, 0.0814674120791471, 0.07457983300184783, 0.07457983300184783, 0.07457983300184783, 0.08265086166697394, 0.07752965814606777, 0.06557401833397337, 0.07752950319976849, 0.06528392624921842, 0.07581453276946938, 0.07105414080031007, 0.06446776974559129, 0.06398075567963656, 0.06386825755564515, 0.06386825755564515, 0.06386825755564515, 0.06386825755564515, 0.06386825755564515, 0.1047137017138774, 0.06304984535570542, 0.06282676461453925, 0.06282676461453925, 0.06282676461453925, 0.06282676461453925, 0.06282676461453925, 0.06282676461453925, 0.07473708161513042, 0.08379407653793065, 0.09358990111099379, 0.07752919174448641, 0.07105023090597193, 0.06904155758857153, 0.06866892564157955, 0.1123166278359292, 0.08305091433466254, 0.12072040189217688, 0.16974595515751062, 0.06701027544623314, 0.08038632024554572, 0.0989738784776514, 0.12149766036124371, 0.08470960877704567, 0.06958998444361723, 0.07104987716196565, 0.07765693240469869, 0.09450759178137724, 0.09947655948710404, 0.11832832746428402, 0.11347973949220064, 0.08410085635864188, 0.09232369281985643, 0.08487231137631833, 0.08046834119337307, 0.07506800830047118, 0.0969752496546544, 0.08041136367317157, 0.09657060841829324, 0.07100162684021939, 0.06978000414129729, 0.06900685053884374, 0.06732745235622199, 0.06404313369307295, 0.06404313369307295, 0.06404313369307295, 0.06404313369307295, 0.06404313369307295, 0.07180923708359813, 0.06364935844709564, 0.06296977842836347, 0.060744065840690004, 0.06494825633989086, 0.059542810557688806, 0.06782938117099192, 0.0568183603874488, 0.05639844531316035, 0.05639844531316035, 0.05639844531316035, 0.05639844531316035, 0.05639844531316035, 0.05639844531316035, 0.05639844531316035, 0.05639844531316035, 0.061082477889263534, 0.05460549338024478, 0.07478438804879813, 0.07091761561758364, 0.06647871342086849, 0.19306883901750377, 0.09382336586566031, 0.06056916885226928, 0.10663837414100451, 0.06427821459445236, 0.09026652119033163, 0.07799065389990274, 0.13922804455603868, 0.1077684828840116, 0.07515386790805392, 0.09622480494895502, 0.10417157288341793, 0.1143106592514656, 0.07888834396855839, 0.07076188779681705, 0.0778425828168035, 0.07260900718264156, 0.07354530186291747, 0.06768992150350872, 0.07272630968575822, 0.07362342230176028, 0.06953552862586364, 0.0691724327489864, 0.06824151968466492, 0.06939358359049697, 0.06364442313142586, 0.06364442313142586, 0.06364442313142586, 0.06343683780565082, 0.06189984997342731, 0.06189984997342731, 0.06189984997342731, 0.06189984997342731, 0.06189984997342731, 0.06189984997342731, 0.06131422906335833, 0.05856261346435, 0.05848302946163589, 0.05844599175481722, 0.057839310923595406, 0.08803366983605329, 0.05716095976926495, 0.05671136998079005, 0.05671136998079005, 0.05671136998079005, 0.05671136998079005, 0.05671136998079005, 0.06435829573498618, 0.060689394105334485, 0.055288087981277385, 0.06068933150218618, 0.05799452264220214, 0.05418120080565304, 0.05418120080565304, 0.07023139667251103, 0.05766984949374382, 0.15764158251173305, 0.0838167525694463, 0.11556688250145061, 0.1001014945130004, 0.08776641385003685, 0.07486192508026365, 0.07976589399298288, 0.0861396214007837, 0.07935749004254333, 0.06819648844619307, 0.10790820420981012, 0.06846495228829681, 0.07414275748650483, 0.07269785240331729, 0.07008606461139719, 0.07072896766546495, 0.06689517001753999, 0.06582694744522902, 0.06479509573901315, 0.06357748458052445, 0.06281624629907719, 0.06197650618765162, 0.1003755979096017, 0.0738169796899684, 0.09696662866026623, 0.07011549005171296, 0.07711969586476951, 0.06276809404056485, 0.06276809404056485, 0.06276809404056485, 0.08510394593550354, 0.0768963756926143, 0.0593172155705166, 0.07021830819985725, 0.05742037234502953, 0.05742037234502953, 0.05742037234502953, 0.05742037234502953, 0.05742037234502953, 0.05742037234502953, 0.05742037234502953, 0.05686960852527771, 0.05686960852527771, 0.05686960852527771, 0.05686960852527771, 0.05686960852527771, 0.05686960852527771, 0.05686960852527771, 0.0654254852264966, 0.056231670663145335, 0.06076240243760176, 0.05984395031993403, 0.09961954758465438, 0.07965957988075652, 0.07441751818718519, 0.07476186540192993, 0.0785344255738757, 0.09530236036833993, 0.12211919684125158, 0.08415666900060828, 0.062082761771276106, 0.08706295407585377, 0.06965966320616375, 0.061302226198334295, 0.059825505745280186, 0.08473341660102568, 0.07147523073972184, 0.07530264393816431, 0.07824176296443408, 0.06692842480384296, 0.06790988349538749, 0.06781925661418031, 0.06776740350285176, 0.06563893165656212, 0.06385153532450354, 0.06024119485230526, 0.06024119485230526, 0.06024119485230526, 0.06024119485230526, 0.06024119485230526, 0.05883789601091785, 0.05867260747971499, 0.06496493992813385, 0.05507571020551358, 0.05507571020551358, 0.05507571020551358, 0.05507571020551358, 0.05507571020551358, 0.06565360865354035, 0.05406304687222943, 0.05406304687222943, 0.05406304687222943, 0.05406304687222943, 0.05406304687222943, 0.05406304687222943, 0.05406304687222943, 0.053369533300071374, 0.053369533300071374, 0.053369533300071374, 0.053369533300071374, 0.053369533300071374, 0.08884019146496529, 0.05663490324834853, 0.060830345149346376, 0.05045594013348179, 0.05869617723443739, 0.0639336047094779, 0.07229208894402706, 0.07447418215396363, 0.06429100678289554, 0.07865157840321685, 0.07936262437057176, 0.10178671915106795, 0.058695845571307796, 0.07289579808794962, 0.06750335488994176, 0.07086217445637845, 0.055463203343527, 0.06974513647344807, 0.06389885136650933, 0.06283428914557698, 0.0566373412651637, 0.05567296653684915, 0.055488242419753205], \"Total\": [0.0, 0.0, 0.0, 0.0, 0.0, 0.0, 0.0, 0.0, 0.0, 0.0, 0.0, 0.0, 0.0, 0.0, 0.0, 0.0, 0.0, 0.0, 0.0, 0.0, 0.0, 0.0, 0.0, 0.0, 1.0, 0.0, 0.0, 0.0, 0.0, 0.0, 0.24791082704260836, 0.21433067567331424, 0.21413366011110674, 0.3002155261744023, 0.21056419843947982, 0.2691446995830878, 0.20803421422457322, 0.20803421422457322, 0.20803421422457322, 0.20803421422457322, 0.20754475117557442, 0.20754475117557442, 0.20754475117557442, 0.20754475117557442, 0.2061943595863437, 0.2061943595863437, 0.2061943595863437, 0.2060496650696547, 0.20468910253769185, 0.22880102676998706, 0.20349378545710317, 0.20349378545710317, 0.20349378545710317, 0.20349378545710317, 0.28320263148727626, 0.20269131449834774, 0.20269131449834774, 0.20269131449834774, 0.20269131449834774, 0.20259504853446064, 0.30684225204622395, 0.2459821539336071, 0.238484384635798, 0.22417077780294023, 0.451325062064802, 0.30591117378114313, 0.576971969472531, 0.2790782498767545, 0.4873781153392253, 0.5079779452522022, 0.8624030543461999, 0.3122151430018232, 0.45337577691969566, 0.33182718767270636, 0.6037992713579886, 0.3495664750150865, 0.31247487728880063, 1.0684247352790581, 0.6525907666066136, 0.612790191328985, 0.36078584158122323, 0.32714161064067576, 1.202782132842076, 0.9228342003083119, 0.4942732693608966, 0.3198359750918891, 0.6806826791969003, 0.4619691997882667, 0.6171498173169108, 0.41778900400196717, 0.22111213934147914, 0.27274242530029325, 0.20892166159262815, 0.2813141365541436, 0.2049344849998084, 0.2049344849998084, 0.2049344849998084, 0.20481679120151033, 0.2046570933985936, 0.2038331142951075, 0.20188246328056764, 0.1998041305472519, 0.1998041305472519, 0.1998041305472519, 0.1998041305472519, 0.1998041305472519, 0.1998041305472519, 0.19945721571609135, 0.27796762312205736, 0.19863581801696317, 0.19758657600020557, 0.19686400947931024, 0.19664636358680243, 0.19664636358680243, 0.19664636358680243, 0.19664636358680243, 0.19664636358680243, 0.19664636358680243, 0.19664636358680243, 0.19654755673972155, 0.2679666956798373, 0.27848382589967313, 0.6108633307674112, 0.32720763142538145, 0.23693524643372477, 0.5074258440452843, 1.202782132842076, 0.31421975680782016, 0.5596524898531183, 0.3349299043513531, 0.612790191328985, 0.4942732693608966, 0.5026776963053188, 0.32061239964251403, 0.2827110031233088, 0.9228342003083119, 0.6525907666066136, 0.43082545541525247, 0.6020820081917883, 0.5132640085414368, 0.4966307108396524, 0.3652515856091172, 0.36078584158122323, 0.6806826791969003, 0.38535782323348144, 0.7536140756900054, 0.6037992713579886, 0.22551366185282476, 0.22211302582097753, 0.2428868499118198, 0.22819913910255105, 0.2623734153639548, 0.20406813707962917, 0.24885508717629634, 0.2010127817172768, 0.24917522071530843, 0.2728812062728065, 0.19983304810452382, 0.19983304810452382, 0.19983304810452382, 0.19983304810452382, 0.19983304810452382, 0.19983304810452382, 0.19983304810452382, 0.2249843044545054, 0.26459304336257783, 0.24278156899326161, 0.19712031170796948, 0.19465987902338702, 0.19441932098939452, 0.19339002588236767, 0.19339002588236767, 0.19339002588236767, 0.19339002588236767, 0.19339002588236767, 0.19339002588236767, 0.19339002588236767, 0.3143183842281562, 0.22857966713567515, 0.2685352737401843, 0.23352483350709924, 0.2109772588960442, 0.21153253927266819, 0.36879643878190127, 0.41778900400196717, 0.3349299043513531, 1.202782132842076, 0.6037992713579886, 0.5060528098789578, 0.5401629657343409, 0.4125216388143466, 1.0684247352790581, 0.6020820081917883, 0.45335762664020457, 0.40376957262957486, 0.46899542329553007, 0.9228342003083119, 0.43082545541525247, 0.207138027318995, 0.2067409306433704, 0.20565600350129348, 0.20565600350129348, 0.20565600350129348, 0.20327198729027862, 0.20274040501646964, 0.20274040501646964, 0.20274040501646964, 0.20274040501646964, 0.20274040501646964, 0.20046923180114382, 0.20046923180114382, 0.20046923180114382, 0.20046923180114382, 0.20046923180114382, 0.20046923180114382, 0.20046923180114382, 0.2001601720163835, 0.2001601720163835, 0.2001601720163835, 0.2001601720163835, 0.2001601720163835, 0.19993282010439622, 0.19764593455968388, 0.19628467988657156, 0.21825874919521882, 0.21588417924784878, 0.2175135455138277, 0.19474117668333324, 0.25591626310494814, 0.22778658285593548, 0.4394719717320005, 0.2685259169618224, 0.3157702499170036, 0.7536140756900054, 1.0684247352790581, 0.3500244950560614, 0.6722110457504886, 0.9228342003083119, 0.3847839495563582, 0.4664649765938037, 0.45335762664020457, 0.4116747470528329, 0.5132640085414368, 0.3879995120510333, 0.8624030543461999, 1.202782132842076, 0.4011831123306762, 0.2686702881165211, 0.3464457500104565, 0.4380901397094992, 0.22319597447271625, 0.22084549236522694, 0.21061602066642002, 0.21006620930487724, 0.20923324894113915, 0.20810838511351257, 0.20810838511351257, 0.20810838511351257, 0.20810838511351257, 0.20810838511351257, 0.204538564082659, 0.1977298889454553, 0.1977298889454553, 0.1977298889454553, 0.1977298889454553, 0.1977298889454553, 0.1977298889454553, 0.19741378207741328, 0.19741378207741328, 0.19741378207741328, 0.19741378207741328, 0.19725128753102988, 0.19688562673608825, 0.19664144536272676, 0.19411485146189428, 0.19353902310029514, 0.19353902310029514, 0.19353902310029514, 0.19353902310029514, 0.19353902310029514, 0.2824465870226035, 0.3553951401140777, 0.35126942586914706, 0.28431425974384467, 0.21092624213625982, 0.23827141555752598, 0.27989392504595234, 0.3730953772782201, 0.635024130384191, 0.40797437806321657, 0.4380901397094992, 0.6806826791969003, 0.30640076349258266, 0.23702396923753213, 0.48265030118564634, 0.5286728914899174, 1.0684247352790581, 0.4465575936164239, 0.303239793539262, 0.21792163486570496, 0.2308435027038913, 0.32516813805184225, 0.6037992713579886, 0.9228342003083119, 0.44966223291562313, 1.202782132842076, 0.22551101264896445, 0.260384255719876, 0.21433499167394549, 0.21361502429849535, 0.20672744523943715, 0.20672744523943715, 0.20672744523943715, 0.2414163161675181, 0.22990036312263312, 0.19772162981967478, 0.23393390610733342, 0.1974315377613074, 0.22941961898561236, 0.21526328069505093, 0.19661538124354036, 0.19612836732273042, 0.19601586967222953, 0.19601586967222953, 0.19601586967222953, 0.19601586967222953, 0.19601586967222953, 0.32233166656159884, 0.19519745690952653, 0.1949743767695369, 0.1949743767695369, 0.1949743767695369, 0.1949743767695369, 0.1949743767695369, 0.1949743767695369, 0.23277318305496172, 0.2711051571536991, 0.3143797966920338, 0.25161680327716823, 0.22643886888222017, 0.21895292353423879, 0.21790448773587812, 0.4125216388143466, 0.2893780300093888, 0.510875959480627, 0.8624030543461999, 0.2121028405535591, 0.29423759342000316, 0.43290358255561434, 0.7536140756900054, 0.35121205756638896, 0.23112151547247622, 0.24343602477015672, 0.3125587192277479, 0.5402122667437291, 0.635024130384191, 1.202782132842076, 1.0684247352790581, 0.4465575936164239, 0.9228342003083119, 0.6020820081917883, 0.42158600828589843, 0.31465630912162235, 0.23006770844332983, 0.21350382245651212, 0.26405875492905884, 0.20409408560160083, 0.20287246340195203, 0.20209930932850026, 0.20041991113214866, 0.19713559315950968, 0.19713559315950968, 0.19713559315950968, 0.19713559315950968, 0.19713559315950968, 0.22162058907385843, 0.19674181734365864, 0.19606223715177842, 0.19383652461680198, 0.20747610608878894, 0.19263526945010026, 0.22202876009208142, 0.1899108191267879, 0.1894909047566968, 0.1894909047566968, 0.1894909047566968, 0.1894909047566968, 0.1894909047566968, 0.1894909047566968, 0.1894909047566968, 0.1894909047566968, 0.20785430328433066, 0.18769795283760035, 0.2588465527925026, 0.2524538279892713, 0.23332053756744986, 1.0684247352790581, 0.39812068376676085, 0.21060055275745546, 0.49287677536997376, 0.23363458027057288, 0.40797437806321657, 0.32587432707236574, 0.9228342003083119, 0.6722110457504886, 0.3266197273163606, 0.612790191328985, 0.7536140756900054, 1.202782132842076, 0.4664649765938037, 0.33182718767270636, 0.576971969472531, 0.40659881444495827, 0.451325062064802, 0.2759491620916799, 0.510875959480627, 0.635024130384191, 0.4394719717320005, 0.5026776963053188, 0.33241814428002625, 0.202791388545185, 0.19704222867339438, 0.19704222867339438, 0.19704222867339438, 0.1968346426744249, 0.19529765549812916, 0.19529765549812916, 0.19529765549812916, 0.19529765549812916, 0.19529765549812916, 0.19529765549812916, 0.1947120339427193, 0.19196041833220617, 0.19188083440567694, 0.19184379665527068, 0.19123711581810818, 0.2931745472865276, 0.19055876465947394, 0.19010917548055453, 0.19010917548055453, 0.19010917548055453, 0.19010917548055453, 0.19010917548055453, 0.21580427714164682, 0.20559425688620223, 0.1886858928721898, 0.20776644934632096, 0.19966338722406227, 0.18757900633384034, 0.18757900633384034, 0.25168484159083, 0.20360738009804147, 0.8624030543461999, 0.3495664750150865, 0.6171498173169108, 0.5401629657343409, 0.4693801930128233, 0.33953474612095874, 0.39549560013694673, 0.5062919614842972, 0.42158600828589843, 0.2961038056400017, 1.202782132842076, 0.30675613938082447, 0.45010936098427295, 0.5120645066307442, 0.5596524898531183, 0.6806826791969003, 0.4161587357938433, 0.576971969472531, 0.5060528098789578, 0.4188547610242678, 0.4342380741276582, 0.40900613338061986, 0.2753498292885147, 0.2075675238278668, 0.2729862001807964, 0.2038660341893604, 0.2397819961488283, 0.19651863870577463, 0.19651863870577463, 0.19651863870577463, 0.2698623573731605, 0.24605892902958748, 0.19306775975594423, 0.2288898915549638, 0.19117091715338075, 0.19117091715338075, 0.19117091715338075, 0.19117091715338075, 0.19117091715338075, 0.19117091715338075, 0.19117091715338075, 0.19062015335726537, 0.19062015335726537, 0.19062015335726537, 0.19062015335726537, 0.19062015335726537, 0.19062015335726537, 0.19062015335726537, 0.22059001543243498, 0.18998221489296008, 0.20920820479301905, 0.2095085173846126, 0.36207527676719137, 0.292862381174254, 0.2961038056400017, 0.31439860938818115, 0.3586768658894694, 0.5401629657343409, 1.202782132842076, 0.4942732693608966, 0.23574380497590208, 0.635024130384191, 0.337850462548242, 0.23941049805991305, 0.22406863579411182, 0.9228342003083119, 0.48265030118564634, 0.6525907666066136, 0.8624030543461999, 0.4116747470528329, 0.4664649765938037, 0.5060528098789578, 0.6171498173169108, 0.5132640085414368, 1.0684247352790581, 0.19434328243335378, 0.19434328243335378, 0.19434328243335378, 0.19434328243335378, 0.19434328243335378, 0.19293998254483377, 0.19277469449819268, 0.22107713700217357, 0.18917779780844987, 0.18917779780844987, 0.18917779780844987, 0.18917779780844987, 0.18917779780844987, 0.2267008031793487, 0.18816513445806413, 0.18816513445806413, 0.18816513445806413, 0.18816513445806413, 0.18816513445806413, 0.18816513445806413, 0.18816513445806413, 0.1874716209048589, 0.1874716209048589, 0.1874716209048589, 0.1874716209048589, 0.1874716209048589, 0.3154858725069135, 0.2038059584242989, 0.21998500933793863, 0.18455802713055294, 0.22747397845993228, 0.25999431118470656, 0.3504026255604704, 0.37620280842696446, 0.280774730321281, 0.4798490687703817, 0.5286728914899174, 1.0684247352790581, 0.23761442875854594, 0.5132640085414368, 0.5120645066307442, 0.6806826791969003, 0.2134730374467918, 0.6722110457504886, 0.5402122667437291, 1.202782132842076, 0.39812068376676085, 0.2685920252866721, 0.28990989107363857], \"Category\": [\"Default\", \"Default\", \"Default\", \"Default\", \"Default\", \"Default\", \"Default\", \"Default\", \"Default\", \"Default\", \"Default\", \"Default\", \"Default\", \"Default\", \"Default\", \"Default\", \"Default\", \"Default\", \"Default\", \"Default\", \"Default\", \"Default\", \"Default\", \"Default\", \"Default\", \"Default\", \"Default\", \"Default\", \"Default\", \"Default\", \"Topic1\", \"Topic1\", \"Topic1\", \"Topic1\", \"Topic1\", \"Topic1\", \"Topic1\", \"Topic1\", \"Topic1\", \"Topic1\", \"Topic1\", \"Topic1\", \"Topic1\", \"Topic1\", \"Topic1\", \"Topic1\", \"Topic1\", \"Topic1\", \"Topic1\", \"Topic1\", \"Topic1\", \"Topic1\", \"Topic1\", \"Topic1\", \"Topic1\", \"Topic1\", \"Topic1\", \"Topic1\", \"Topic1\", \"Topic1\", \"Topic1\", \"Topic1\", \"Topic1\", \"Topic1\", \"Topic1\", \"Topic1\", \"Topic1\", \"Topic1\", \"Topic1\", \"Topic1\", \"Topic1\", \"Topic1\", \"Topic1\", \"Topic1\", \"Topic1\", \"Topic1\", \"Topic1\", \"Topic1\", \"Topic1\", \"Topic1\", \"Topic1\", \"Topic1\", \"Topic1\", \"Topic1\", \"Topic1\", \"Topic1\", \"Topic1\", \"Topic1\", \"Topic1\", \"Topic1\", \"Topic2\", \"Topic2\", \"Topic2\", \"Topic2\", \"Topic2\", \"Topic2\", \"Topic2\", \"Topic2\", \"Topic2\", \"Topic2\", \"Topic2\", \"Topic2\", \"Topic2\", \"Topic2\", \"Topic2\", \"Topic2\", \"Topic2\", \"Topic2\", \"Topic2\", \"Topic2\", \"Topic2\", \"Topic2\", \"Topic2\", \"Topic2\", \"Topic2\", \"Topic2\", \"Topic2\", \"Topic2\", \"Topic2\", \"Topic2\", \"Topic2\", \"Topic2\", \"Topic2\", \"Topic2\", \"Topic2\", \"Topic2\", \"Topic2\", \"Topic2\", \"Topic2\", \"Topic2\", \"Topic2\", \"Topic2\", \"Topic2\", \"Topic2\", \"Topic2\", \"Topic2\", \"Topic2\", \"Topic2\", \"Topic2\", \"Topic2\", \"Topic2\", \"Topic2\", \"Topic2\", \"Topic2\", \"Topic2\", \"Topic2\", \"Topic2\", \"Topic3\", \"Topic3\", \"Topic3\", \"Topic3\", \"Topic3\", \"Topic3\", \"Topic3\", \"Topic3\", \"Topic3\", \"Topic3\", \"Topic3\", \"Topic3\", \"Topic3\", \"Topic3\", \"Topic3\", \"Topic3\", \"Topic3\", \"Topic3\", \"Topic3\", \"Topic3\", \"Topic3\", \"Topic3\", \"Topic3\", \"Topic3\", \"Topic3\", \"Topic3\", \"Topic3\", \"Topic3\", \"Topic3\", \"Topic3\", \"Topic3\", \"Topic3\", \"Topic3\", \"Topic3\", \"Topic3\", \"Topic3\", \"Topic3\", \"Topic3\", \"Topic3\", \"Topic3\", \"Topic3\", \"Topic3\", \"Topic3\", \"Topic3\", \"Topic3\", \"Topic3\", \"Topic3\", \"Topic3\", \"Topic3\", \"Topic3\", \"Topic3\", \"Topic4\", \"Topic4\", \"Topic4\", \"Topic4\", \"Topic4\", \"Topic4\", \"Topic4\", \"Topic4\", \"Topic4\", \"Topic4\", \"Topic4\", \"Topic4\", \"Topic4\", \"Topic4\", \"Topic4\", \"Topic4\", \"Topic4\", \"Topic4\", \"Topic4\", \"Topic4\", \"Topic4\", \"Topic4\", \"Topic4\", \"Topic4\", \"Topic4\", \"Topic4\", \"Topic4\", \"Topic4\", \"Topic4\", \"Topic4\", \"Topic4\", \"Topic4\", \"Topic4\", \"Topic4\", \"Topic4\", \"Topic4\", \"Topic4\", \"Topic4\", \"Topic4\", \"Topic4\", \"Topic4\", \"Topic4\", \"Topic4\", \"Topic4\", \"Topic4\", \"Topic4\", \"Topic4\", \"Topic4\", \"Topic4\", \"Topic4\", \"Topic4\", \"Topic4\", \"Topic5\", \"Topic5\", \"Topic5\", \"Topic5\", \"Topic5\", \"Topic5\", \"Topic5\", \"Topic5\", \"Topic5\", \"Topic5\", \"Topic5\", \"Topic5\", \"Topic5\", \"Topic5\", \"Topic5\", \"Topic5\", \"Topic5\", \"Topic5\", \"Topic5\", \"Topic5\", \"Topic5\", \"Topic5\", \"Topic5\", \"Topic5\", \"Topic5\", \"Topic5\", \"Topic5\", \"Topic5\", \"Topic5\", \"Topic5\", \"Topic5\", \"Topic5\", \"Topic5\", \"Topic5\", \"Topic5\", \"Topic5\", \"Topic5\", \"Topic5\", \"Topic5\", \"Topic5\", \"Topic5\", \"Topic5\", \"Topic5\", \"Topic5\", \"Topic5\", \"Topic5\", \"Topic5\", \"Topic5\", \"Topic5\", \"Topic5\", \"Topic5\", \"Topic5\", \"Topic5\", \"Topic5\", \"Topic5\", \"Topic5\", \"Topic6\", \"Topic6\", \"Topic6\", \"Topic6\", \"Topic6\", \"Topic6\", \"Topic6\", \"Topic6\", \"Topic6\", \"Topic6\", \"Topic6\", \"Topic6\", \"Topic6\", \"Topic6\", \"Topic6\", \"Topic6\", \"Topic6\", \"Topic6\", \"Topic6\", \"Topic6\", \"Topic6\", \"Topic6\", \"Topic6\", \"Topic6\", \"Topic6\", \"Topic6\", \"Topic6\", \"Topic6\", \"Topic6\", \"Topic6\", \"Topic6\", \"Topic6\", \"Topic6\", \"Topic6\", \"Topic6\", \"Topic6\", \"Topic6\", \"Topic6\", \"Topic6\", \"Topic6\", \"Topic6\", \"Topic6\", \"Topic6\", \"Topic6\", \"Topic6\", \"Topic6\", \"Topic6\", \"Topic6\", \"Topic6\", \"Topic6\", \"Topic6\", \"Topic6\", \"Topic6\", \"Topic6\", \"Topic6\", \"Topic6\", \"Topic6\", \"Topic7\", \"Topic7\", \"Topic7\", \"Topic7\", \"Topic7\", \"Topic7\", \"Topic7\", \"Topic7\", \"Topic7\", \"Topic7\", \"Topic7\", \"Topic7\", \"Topic7\", \"Topic7\", \"Topic7\", \"Topic7\", \"Topic7\", \"Topic7\", \"Topic7\", \"Topic7\", \"Topic7\", \"Topic7\", \"Topic7\", \"Topic7\", \"Topic7\", \"Topic7\", \"Topic7\", \"Topic7\", \"Topic7\", \"Topic7\", \"Topic7\", \"Topic7\", \"Topic7\", \"Topic7\", \"Topic7\", \"Topic7\", \"Topic7\", \"Topic7\", \"Topic7\", \"Topic7\", \"Topic7\", \"Topic7\", \"Topic7\", \"Topic7\", \"Topic7\", \"Topic7\", \"Topic7\", \"Topic7\", \"Topic7\", \"Topic7\", \"Topic7\", \"Topic7\", \"Topic7\", \"Topic7\", \"Topic7\", \"Topic7\", \"Topic7\", \"Topic8\", \"Topic8\", \"Topic8\", \"Topic8\", \"Topic8\", \"Topic8\", \"Topic8\", \"Topic8\", \"Topic8\", \"Topic8\", \"Topic8\", \"Topic8\", \"Topic8\", \"Topic8\", \"Topic8\", \"Topic8\", \"Topic8\", \"Topic8\", \"Topic8\", \"Topic8\", \"Topic8\", \"Topic8\", \"Topic8\", \"Topic8\", \"Topic8\", \"Topic8\", \"Topic8\", \"Topic8\", \"Topic8\", \"Topic8\", \"Topic8\", \"Topic8\", \"Topic8\", \"Topic8\", \"Topic8\", \"Topic8\", \"Topic8\", \"Topic8\", \"Topic8\", \"Topic8\", \"Topic8\", \"Topic8\", \"Topic8\", \"Topic8\", \"Topic8\", \"Topic8\", \"Topic8\", \"Topic8\", \"Topic8\", \"Topic8\", \"Topic8\", \"Topic8\", \"Topic8\", \"Topic8\", \"Topic9\", \"Topic9\", \"Topic9\", \"Topic9\", \"Topic9\", \"Topic9\", \"Topic9\", \"Topic9\", \"Topic9\", \"Topic9\", \"Topic9\", \"Topic9\", \"Topic9\", \"Topic9\", \"Topic9\", \"Topic9\", \"Topic9\", \"Topic9\", \"Topic9\", \"Topic9\", \"Topic9\", \"Topic9\", \"Topic9\", \"Topic9\", \"Topic9\", \"Topic9\", \"Topic9\", \"Topic9\", \"Topic9\", \"Topic9\", \"Topic9\", \"Topic9\", \"Topic9\", \"Topic9\", \"Topic9\", \"Topic9\", \"Topic9\", \"Topic9\", \"Topic9\", \"Topic9\", \"Topic9\", \"Topic9\", \"Topic9\", \"Topic9\", \"Topic9\", \"Topic9\", \"Topic9\", \"Topic9\", \"Topic9\", \"Topic9\", \"Topic9\", \"Topic9\", \"Topic9\", \"Topic10\", \"Topic10\", \"Topic10\", \"Topic10\", \"Topic10\", \"Topic10\", \"Topic10\", \"Topic10\", \"Topic10\", \"Topic10\", \"Topic10\", \"Topic10\", \"Topic10\", \"Topic10\", \"Topic10\", \"Topic10\", \"Topic10\", \"Topic10\", \"Topic10\", \"Topic10\", \"Topic10\", \"Topic10\", \"Topic10\", \"Topic10\", \"Topic10\", \"Topic10\", \"Topic10\", \"Topic10\", \"Topic10\", \"Topic10\", \"Topic10\", \"Topic10\", \"Topic10\", \"Topic10\", \"Topic10\", \"Topic10\", \"Topic10\", \"Topic10\", \"Topic10\", \"Topic10\", \"Topic10\", \"Topic10\", \"Topic10\", \"Topic10\", \"Topic10\", \"Topic10\", \"Topic10\", \"Topic10\", \"Topic10\"], \"logprob\": [30.0, 29.0, 28.0, 27.0, 26.0, 25.0, 24.0, 23.0, 22.0, 21.0, 20.0, 19.0, 18.0, 17.0, 16.0, 15.0, 14.0, 13.0, 12.0, 11.0, 10.0, 9.0, 8.0, 7.0, 6.0, 5.0, 4.0, 3.0, 2.0, 1.0, -8.375, -8.7132, -8.7155, -8.3796, -8.7593, -8.5324, -8.7916, -8.7916, -8.7916, -8.7916, -8.798, -8.798, -8.798, -8.798, -8.8157, -8.8157, -8.8157, -8.8177, -8.8359, -8.7332, -8.8523, -8.8523, -8.8523, -8.8523, -8.5279, -8.8634, -8.8634, -8.8634, -8.8634, -8.8647, -8.4724, -8.6861, -8.7247, -8.7814, -8.2263, -8.5403, -8.0946, -8.6356, -8.3016, -8.2959, -8.0953, -8.6378, -8.4916, -8.6335, -8.407, -8.6294, -8.6655, -8.3183, -8.4833, -8.5039, -8.6445, -8.6776, -8.3628, -8.4715, -8.6201, -8.687, -8.6386, -8.6644, -8.6676, -8.6827, -8.5832, -8.3954, -8.7298, -8.4563, -8.7828, -8.7828, -8.7828, -8.7844, -8.7866, -8.7979, -8.8253, -8.8554, -8.8554, -8.8554, -8.8554, -8.8554, -8.8554, -8.8605, -8.5306, -8.8727, -8.8885, -8.8995, -8.9028, -8.9028, -8.9028, -8.9028, -8.9028, -8.9028, -8.9028, -8.9044, -8.6034, -8.5716, -7.949, -8.4872, -8.7501, -8.1363, -7.5977, -8.5895, -8.2199, -8.5628, -8.2123, -8.3976, -8.4606, -8.6522, -8.7073, -8.2169, -8.4242, -8.5838, -8.4741, -8.5553, -8.5668, -8.6786, -8.6869, -8.5987, -8.6956, -8.6344, -8.66, -8.5246, -8.5616, -8.5138, -8.5994, -8.5077, -8.7846, -8.5994, -8.8278, -8.6181, -8.5295, -8.845, -8.845, -8.845, -8.845, -8.845, -8.845, -8.845, -8.7307, -8.5765, -8.6754, -8.8857, -8.9241, -8.9279, -8.9445, -8.9445, -8.9445, -8.9445, -8.9445, -8.9445, -8.9445, -8.4968, -8.7908, -8.6552, -8.7977, -8.8768, -8.8752, -8.5102, -8.4487, -8.6033, -8.0621, -8.4099, -8.5004, -8.5874, -8.6601, -8.4504, -8.5889, -8.6908, -8.7149, -8.7147, -8.6722, -8.7544, -8.7387, -8.744, -8.7586, -8.7586, -8.7586, -8.7915, -8.7989, -8.7989, -8.7989, -8.7989, -8.7989, -8.8315, -8.8315, -8.8315, -8.8315, -8.8315, -8.8315, -8.8315, -8.836, -8.836, -8.836, -8.836, -8.836, -8.8394, -8.8735, -8.8944, -8.7907, -8.8067, -8.8012, -8.9187, -8.646, -8.7678, -8.3032, -8.6726, -8.5786, -8.1371, -8.1419, -8.6252, -8.3942, -8.2992, -8.6089, -8.5453, -8.5754, -8.6179, -8.5806, -8.6731, -8.5152, -8.5069, -8.7018, -8.7671, -8.7419, -8.7569, -8.5386, -8.5647, -8.687, -8.694, -8.7047, -8.7194, -8.7194, -8.7194, -8.7194, -8.7194, -8.7674, -8.866, -8.866, -8.866, -8.866, -8.866, -8.866, -8.8708, -8.8708, -8.8708, -8.8708, -8.8733, -8.8789, -8.8827, -8.9225, -8.9318, -8.9318, -8.9318, -8.9318, -8.9318, -8.5595, -8.3357, -8.3586, -8.5738, -8.8578, -8.7693, -8.6504, -8.4472, -8.1032, -8.4398, -8.4036, -8.167, -8.6242, -8.7737, -8.4891, -8.4871, -8.2422, -8.6061, -8.7365, -8.836, -8.8215, -8.7398, -8.6098, -8.6134, -8.7094, -8.7274, -8.5038, -8.4008, -8.6313, -8.6401, -8.7284, -8.7284, -8.7284, -8.6256, -8.6896, -8.8571, -8.6896, -8.8615, -8.712, -8.7768, -8.8741, -8.8817, -8.8834, -8.8834, -8.8834, -8.8834, -8.8834, -8.389, -8.8963, -8.8999, -8.8999, -8.8999, -8.8999, -8.8999, -8.8999, -8.7263, -8.6119, -8.5013, -8.6896, -8.7769, -8.8056, -8.811, -8.3189, -8.6208, -8.2468, -7.906, -8.8354, -8.6534, -8.4454, -8.2404, -8.601, -8.7976, -8.7769, -8.688, -8.4916, -8.4403, -8.2668, -8.3086, -8.6083, -8.515, -8.5991, -8.6524, -8.7219, -8.3877, -8.575, -8.3918, -8.6994, -8.7168, -8.7279, -8.7525, -8.8026, -8.8026, -8.8026, -8.8026, -8.8026, -8.6881, -8.8087, -8.8195, -8.8554, -8.7885, -8.8754, -8.7451, -8.9222, -8.9297, -8.9297, -8.9297, -8.9297, -8.9297, -8.9297, -8.9297, -8.9297, -8.8499, -8.962, -8.6475, -8.7006, -8.7652, -7.6991, -8.4207, -8.8583, -8.2927, -8.7989, -8.4593, -8.6055, -8.026, -8.2821, -8.6426, -8.3954, -8.3161, -8.2232, -8.5941, -8.7028, -8.6074, -8.677, -8.6642, -8.7472, -8.6754, -8.6631, -8.7203, -8.7255, -8.7391, -8.6932, -8.7797, -8.7797, -8.7797, -8.783, -8.8075, -8.8075, -8.8075, -8.8075, -8.8075, -8.8075, -8.817, -8.8629, -8.8643, -8.8649, -8.8754, -8.4553, -8.8872, -8.8951, -8.8951, -8.8951, -8.8951, -8.8951, -8.7686, -8.8273, -8.9205, -8.8273, -8.8727, -8.9407, -8.9407, -8.6812, -8.8783, -7.8727, -8.5044, -8.1832, -8.3268, -8.4584, -8.6174, -8.5539, -8.4771, -8.5591, -8.7106, -8.2518, -8.7067, -8.627, -8.6467, -8.6833, -8.6742, -8.7299, -8.746, -8.7618, -8.7808, -8.7928, -8.8063, -8.2949, -8.6023, -8.3295, -8.6537, -8.5585, -8.7644, -8.7644, -8.7644, -8.46, -8.5614, -8.8209, -8.6522, -8.8534, -8.8534, -8.8534, -8.8534, -8.8534, -8.8534, -8.8534, -8.8631, -8.8631, -8.8631, -8.8631, -8.8631, -8.8631, -8.8631, -8.7229, -8.8744, -8.7969, -8.8121, -8.3025, -8.5261, -8.5942, -8.5895, -8.5403, -8.3468, -8.0988, -8.4712, -8.7754, -8.4372, -8.6602, -8.788, -8.8124, -8.4643, -8.6345, -8.5823, -8.544, -8.7002, -8.6857, -8.687, -8.6878, -8.7197, -8.7473, -8.7733, -8.7733, -8.7733, -8.7733, -8.7733, -8.7969, -8.7997, -8.6979, -8.863, -8.863, -8.863, -8.863, -8.863, -8.6873, -8.8816, -8.8816, -8.8816, -8.8816, -8.8816, -8.8816, -8.8816, -8.8945, -8.8945, -8.8945, -8.8945, -8.8945, -8.3849, -8.8351, -8.7636, -8.9506, -8.7993, -8.7139, -8.591, -8.5613, -8.7083, -8.5067, -8.4977, -8.2488, -8.7993, -8.5827, -8.6595, -8.611, -8.856, -8.6269, -8.7144, -8.7312, -8.835, -8.8522, -8.8555], \"loglift\": [30.0, 29.0, 28.0, 27.0, 26.0, 25.0, 24.0, 23.0, 22.0, 21.0, 20.0, 19.0, 18.0, 17.0, 16.0, 15.0, 14.0, 13.0, 12.0, 11.0, 10.0, 9.0, 8.0, 7.0, 6.0, 5.0, 4.0, 3.0, 2.0, 1.0, 1.428, 1.2354, 1.2339, 1.232, 1.2069, 1.1884, 1.1867, 1.1867, 1.1867, 1.1867, 1.1827, 1.1827, 1.1827, 1.1827, 1.1715, 1.1715, 1.1715, 1.1703, 1.1586, 1.15, 1.1482, 1.1482, 1.1482, 1.1482, 1.142, 1.141, 1.141, 1.141, 1.141, 1.1401, 1.1173, 1.1247, 1.1171, 1.1223, 0.9776, 1.0524, 0.8637, 1.049, 0.8254, 0.7897, 0.4611, 0.9346, 0.7077, 0.8779, 0.5058, 0.83, 0.906, 0.0238, 0.3518, 0.3942, 0.7833, 0.848, -0.1391, 0.0172, 0.4929, 0.8612, 0.1544, 0.5161, 0.2234, 0.5984, 1.3342, 1.3122, 1.2443, 1.2203, 1.2106, 1.2106, 1.2106, 1.2096, 1.2082, 1.2008, 1.1831, 1.1633, 1.1633, 1.1633, 1.1633, 1.1633, 1.1633, 1.16, 1.158, 1.1519, 1.1414, 1.1341, 1.1318, 1.1318, 1.1318, 1.1318, 1.1318, 1.1318, 1.1318, 1.1308, 1.1218, 1.1151, 0.9522, 1.0383, 1.0982, 0.9504, 0.626, 0.9765, 0.7688, 0.9394, 0.6858, 0.7154, 0.6356, 0.8937, 0.9644, 0.2717, 0.411, 0.6666, 0.4415, 0.5199, 0.5414, 0.7369, 0.7409, 0.1943, 0.6663, 0.0568, 0.2528, 1.3731, 1.3513, 1.3097, 1.2865, 1.2386, 1.213, 1.1998, 1.1849, 1.1798, 1.1776, 1.1736, 1.1736, 1.1736, 1.1736, 1.1736, 1.1736, 1.1736, 1.1693, 1.1613, 1.1485, 1.1466, 1.1207, 1.1181, 1.1068, 1.1068, 1.1068, 1.1068, 1.1068, 1.1068, 1.1068, 1.0688, 1.0934, 1.0679, 1.065, 1.0876, 1.0865, 0.8956, 0.8324, 0.8988, 0.1615, 0.5029, 0.5891, 0.4368, 0.6337, -0.1083, 0.3267, 0.5086, 0.6003, 0.4508, -0.1836, 0.4959, 1.2439, 1.2406, 1.2312, 1.2312, 1.2312, 1.2101, 1.2052, 1.2052, 1.2052, 1.2052, 1.2052, 1.1839, 1.1839, 1.1839, 1.1839, 1.1839, 1.1839, 1.1839, 1.1809, 1.1809, 1.1809, 1.1809, 1.1809, 1.1787, 1.1561, 1.1421, 1.1397, 1.1346, 1.1326, 1.1257, 1.1252, 1.1199, 0.9273, 1.0505, 0.9824, 0.5541, 0.2002, 0.8329, 0.4113, 0.1894, 0.7545, 0.6256, 0.624, 0.678, 0.4946, 0.6819, 0.0412, -0.2833, 0.6198, 0.9555, 0.7265, 0.4767, 1.3694, 1.3539, 1.279, 1.2746, 1.2679, 1.2586, 1.2586, 1.2586, 1.2586, 1.2586, 1.2279, 1.1632, 1.1632, 1.1632, 1.1632, 1.1632, 1.1632, 1.16, 1.16, 1.16, 1.16, 1.1583, 1.1545, 1.152, 1.1251, 1.1187, 1.1187, 1.1187, 1.1187, 1.1187, 1.1131, 1.1071, 1.0959, 1.0922, 1.1067, 1.0733, 1.0312, 0.947, 0.7592, 0.865, 0.8301, 0.6259, 0.967, 1.0742, 0.6476, 0.5586, 0.1, 0.6084, 0.8651, 1.0959, 1.0528, 0.7919, 0.3031, -0.1248, 0.4981, -0.5038, 1.3939, 1.3531, 1.3173, 1.3118, 1.2563, 1.2563, 1.2563, 1.2039, 1.1888, 1.1721, 1.1714, 1.1691, 1.1685, 1.1674, 1.1607, 1.1556, 1.1544, 1.1544, 1.1544, 1.1544, 1.1544, 1.1514, 1.1457, 1.1433, 1.1433, 1.1433, 1.1433, 1.1433, 1.1433, 1.1397, 1.1016, 1.0641, 1.0985, 1.1167, 1.1216, 1.121, 0.9748, 1.0275, 0.8331, 0.6504, 1.1236, 0.9782, 0.8001, 0.4508, 0.8536, 1.0755, 1.0443, 0.8833, 0.5325, 0.4221, -0.0431, 0.0335, 0.6062, -0.0264, 0.3165, 0.6196, 0.8427, 1.49, 1.3775, 1.3481, 1.2981, 1.2867, 1.2794, 1.2631, 1.2296, 1.2296, 1.2296, 1.2296, 1.2296, 1.227, 1.2254, 1.2182, 1.1936, 1.1925, 1.1798, 1.1681, 1.1473, 1.1421, 1.1421, 1.1421, 1.1421, 1.1421, 1.1421, 1.1421, 1.1421, 1.1293, 1.1193, 1.1123, 1.0842, 1.0984, 0.6431, 0.9086, 1.1078, 0.8231, 1.0634, 0.8455, 0.924, 0.4626, 0.5234, 0.8847, 0.5026, 0.3751, 0.0005, 0.5768, 0.8087, 0.3508, 0.6312, 0.5397, 0.9487, 0.4045, 0.1993, 0.5102, 0.3706, 0.7706, 1.3106, 1.2529, 1.2529, 1.2529, 1.2507, 1.234, 1.234, 1.234, 1.234, 1.234, 1.234, 1.2275, 1.1958, 1.1949, 1.1944, 1.1872, 1.18, 1.1789, 1.1734, 1.1734, 1.1734, 1.1734, 1.1734, 1.1731, 1.1629, 1.1555, 1.1524, 1.1467, 1.1412, 1.1412, 1.1066, 1.1216, 0.6836, 0.955, 0.7078, 0.6973, 0.7063, 0.8711, 0.782, 0.6119, 0.713, 0.9147, -0.0281, 0.8833, 0.5795, 0.4309, 0.3054, 0.1188, 0.5551, 0.2123, 0.3276, 0.4978, 0.4496, 0.4961, 1.4031, 1.3783, 1.3772, 1.3449, 1.2778, 1.2709, 1.2709, 1.2709, 1.2582, 1.2491, 1.2321, 1.2306, 1.2094, 1.2094, 1.2094, 1.2094, 1.2094, 1.2094, 1.2094, 1.2027, 1.2027, 1.2027, 1.2027, 1.2027, 1.2027, 1.2027, 1.1968, 1.1948, 1.1759, 1.1592, 1.1217, 1.1103, 1.0312, 0.9759, 0.8933, 0.6774, 0.1248, 0.6418, 1.0779, 0.4252, 0.8332, 1.0499, 1.0917, 0.0243, 0.5023, 0.2528, 0.0123, 0.5956, 0.4852, 0.4024, 0.2032, 0.3556, -0.4052, 1.2731, 1.2731, 1.2731, 1.2731, 1.2731, 1.2568, 1.2548, 1.2197, 1.2104, 1.2104, 1.2104, 1.2104, 1.2104, 1.2051, 1.1972, 1.1972, 1.1972, 1.1972, 1.1972, 1.1972, 1.1972, 1.188, 1.188, 1.188, 1.188, 1.188, 1.1771, 1.1638, 1.1589, 1.1475, 1.0897, 1.0415, 0.866, 0.8247, 0.9702, 0.6359, 0.548, 0.0933, 1.0461, 0.4926, 0.4181, 0.182, 1.0966, 0.1786, 0.3097, -0.5075, 0.4943, 0.8707, 0.791]}, \"token.table\": {\"Topic\": [], \"Freq\": [], \"Term\": []}, \"R\": 30, \"lambda.step\": 0.01, \"plot.opts\": {\"xlab\": \"PC1\", \"ylab\": \"PC2\"}, \"topic.order\": [2, 5, 7, 1, 9, 10, 4, 6, 3, 8]};\n",
       "\n",
       "function LDAvis_load_lib(url, callback){\n",
       "  var s = document.createElement('script');\n",
       "  s.src = url;\n",
       "  s.async = true;\n",
       "  s.onreadystatechange = s.onload = callback;\n",
       "  s.onerror = function(){console.warn(\"failed to load library \" + url);};\n",
       "  document.getElementsByTagName(\"head\")[0].appendChild(s);\n",
       "}\n",
       "\n",
       "if(typeof(LDAvis) !== \"undefined\"){\n",
       "   // already loaded: just create the visualization\n",
       "   !function(LDAvis){\n",
       "       new LDAvis(\"#\" + \"ldavis_el6257219007295233286360963711\", ldavis_el6257219007295233286360963711_data);\n",
       "   }(LDAvis);\n",
       "}else if(typeof define === \"function\" && define.amd){\n",
       "   // require.js is available: use it to load d3/LDAvis\n",
       "   require.config({paths: {d3: \"https://d3js.org/d3.v5\"}});\n",
       "   require([\"d3\"], function(d3){\n",
       "      window.d3 = d3;\n",
       "      LDAvis_load_lib(\"https://cdn.jsdelivr.net/gh/bmabey/pyLDAvis@3.3.1/pyLDAvis/js/ldavis.v3.0.0.js\", function(){\n",
       "        new LDAvis(\"#\" + \"ldavis_el6257219007295233286360963711\", ldavis_el6257219007295233286360963711_data);\n",
       "      });\n",
       "    });\n",
       "}else{\n",
       "    // require.js not available: dynamically load d3 & LDAvis\n",
       "    LDAvis_load_lib(\"https://d3js.org/d3.v5.js\", function(){\n",
       "         LDAvis_load_lib(\"https://cdn.jsdelivr.net/gh/bmabey/pyLDAvis@3.3.1/pyLDAvis/js/ldavis.v3.0.0.js\", function(){\n",
       "                 new LDAvis(\"#\" + \"ldavis_el6257219007295233286360963711\", ldavis_el6257219007295233286360963711_data);\n",
       "            })\n",
       "         });\n",
       "}\n",
       "</script>"
      ],
      "text/plain": [
       "PreparedData(topic_coordinates=               x          y  topics  cluster       Freq\n",
       "topic                                                  \n",
       "1      32.420952   8.115230       1        1  11.320479\n",
       "4       0.648955  71.707100       2        1  10.652610\n",
       "6      71.019684   9.971006       3        1  10.524459\n",
       "0       3.785981  33.185135       4        1  10.473754\n",
       "8     -42.666500  -9.222070       5        1  10.390879\n",
       "9      -3.621689 -43.526516       6        1  10.271547\n",
       "3      -3.632402  -4.171708       7        1   9.499302\n",
       "5     -36.584400  35.804413       8        1   9.227086\n",
       "2      44.391380  50.615383       9        1   8.961669\n",
       "7      40.235809 -31.591665      10        1   8.678216, topic_info=                   Term      Freq     Total Category  logprob  loglift\n",
       "10651  highly recommend  0.000000  0.000000  Default  30.0000  30.0000\n",
       "4482          come back  0.000000  0.000000  Default  29.0000  29.0000\n",
       "9970        great staff  0.000000  0.000000  Default  28.0000  28.0000\n",
       "25281        white star  0.000000  0.000000  Default  27.0000  27.0000\n",
       "8870     friendly staff  0.000000  0.000000  Default  26.0000  26.0000\n",
       "...                 ...       ...       ...      ...      ...      ...\n",
       "3475       cardrona ski  0.063899  0.540212  Topic10  -8.7144   0.3097\n",
       "20215         ski field  0.062834  1.202782  Topic10  -8.7312  -0.5075\n",
       "14979         next year  0.056637  0.398121  Topic10  -8.8350   0.4943\n",
       "9944       great resort  0.055673  0.268592  Topic10  -8.8522   0.8707\n",
       "21652        staff help  0.055488  0.289910  Topic10  -8.8555   0.7910\n",
       "\n",
       "[576 rows x 6 columns], token_table=Empty DataFrame\n",
       "Columns: [Topic, Freq, Term]\n",
       "Index: [], R=30, lambda_step=0.01, plot_opts={'xlab': 'PC1', 'ylab': 'PC2'}, topic_order=[2, 5, 7, 1, 9, 10, 4, 6, 3, 8])"
      ]
     },
     "execution_count": 73,
     "metadata": {},
     "output_type": "execute_result"
    }
   ],
   "source": [
    "pyLDAvis.enable_notebook()\n",
    "panel = pyLDAvis.sklearn.prepare(lda_model, matrix, vectorizer, mds='tsne')\n",
    "# pyLDAvis.save_html(panel, 'topic_lda_sklearn.html')\n",
    "panel"
   ]
  },
  {
   "cell_type": "markdown",
   "metadata": {},
   "source": [
    "## Non-negative Matrix Factorisation"
   ]
  },
  {
   "cell_type": "markdown",
   "metadata": {},
   "source": [
    "NMF uses the TF-IDF document-term matrix to output a document-topic matrix i.e. a matrix describing the distribution of topics in each document."
   ]
  },
  {
   "cell_type": "markdown",
   "metadata": {},
   "source": [
    "### Approach 1"
   ]
  },
  {
   "cell_type": "code",
   "execution_count": 3,
   "metadata": {},
   "outputs": [
    {
     "data": {
      "text/html": [
       "<div>\n",
       "<style scoped>\n",
       "    .dataframe tbody tr th:only-of-type {\n",
       "        vertical-align: middle;\n",
       "    }\n",
       "\n",
       "    .dataframe tbody tr th {\n",
       "        vertical-align: top;\n",
       "    }\n",
       "\n",
       "    .dataframe thead th {\n",
       "        text-align: right;\n",
       "    }\n",
       "</style>\n",
       "<table border=\"1\" class=\"dataframe\">\n",
       "  <thead>\n",
       "    <tr style=\"text-align: right;\">\n",
       "      <th></th>\n",
       "      <th>review_year</th>\n",
       "      <th>review_month</th>\n",
       "      <th>review_text</th>\n",
       "      <th>processed_review_text</th>\n",
       "    </tr>\n",
       "  </thead>\n",
       "  <tbody>\n",
       "    <tr>\n",
       "      <th>0</th>\n",
       "      <td>2021</td>\n",
       "      <td>Oct</td>\n",
       "      <td>The ticketing process and hiring process was g...</td>\n",
       "      <td>ticket process hire process be great easy all ...</td>\n",
       "    </tr>\n",
       "    <tr>\n",
       "      <th>1</th>\n",
       "      <td>2021</td>\n",
       "      <td>Aug</td>\n",
       "      <td>Excellent team, thank you Laura and the girl d...</td>\n",
       "      <td>excellent team thank you laura girl driver who...</td>\n",
       "    </tr>\n",
       "    <tr>\n",
       "      <th>2</th>\n",
       "      <td>2021</td>\n",
       "      <td>Jul</td>\n",
       "      <td>Won’t go back in a hurry. Massive long lines, ...</td>\n",
       "      <td>will not go back in hurry massive long line sh...</td>\n",
       "    </tr>\n",
       "    <tr>\n",
       "      <th>3</th>\n",
       "      <td>2021</td>\n",
       "      <td>Mar</td>\n",
       "      <td>We spent 2 hours on the ski field riding the m...</td>\n",
       "      <td>we spent 2 hour on ski field rid mountain cart...</td>\n",
       "    </tr>\n",
       "    <tr>\n",
       "      <th>4</th>\n",
       "      <td>2021</td>\n",
       "      <td>Feb</td>\n",
       "      <td>Visited as a group of 4 couples and everyone h...</td>\n",
       "      <td>visit a group of 4 couple everyone have an abs...</td>\n",
       "    </tr>\n",
       "  </tbody>\n",
       "</table>\n",
       "</div>"
      ],
      "text/plain": [
       "   review_year review_month  \\\n",
       "0         2021          Oct   \n",
       "1         2021          Aug   \n",
       "2         2021          Jul   \n",
       "3         2021          Mar   \n",
       "4         2021          Feb   \n",
       "\n",
       "                                         review_text  \\\n",
       "0  The ticketing process and hiring process was g...   \n",
       "1  Excellent team, thank you Laura and the girl d...   \n",
       "2  Won’t go back in a hurry. Massive long lines, ...   \n",
       "3  We spent 2 hours on the ski field riding the m...   \n",
       "4  Visited as a group of 4 couples and everyone h...   \n",
       "\n",
       "                               processed_review_text  \n",
       "0  ticket process hire process be great easy all ...  \n",
       "1  excellent team thank you laura girl driver who...  \n",
       "2  will not go back in hurry massive long line sh...  \n",
       "3  we spent 2 hour on ski field rid mountain cart...  \n",
       "4  visit a group of 4 couple everyone have an abs...  "
      ]
     },
     "execution_count": 3,
     "metadata": {},
     "output_type": "execute_result"
    }
   ],
   "source": [
    "selected_field = fields[0]\n",
    "df = pd.read_csv(f'path/to/{selected_field}.csv')\n",
    "df.head()"
   ]
  },
  {
   "cell_type": "code",
   "execution_count": 4,
   "metadata": {},
   "outputs": [
    {
     "data": {
      "text/html": [
       "<div>\n",
       "<style scoped>\n",
       "    .dataframe tbody tr th:only-of-type {\n",
       "        vertical-align: middle;\n",
       "    }\n",
       "\n",
       "    .dataframe tbody tr th {\n",
       "        vertical-align: top;\n",
       "    }\n",
       "\n",
       "    .dataframe thead th {\n",
       "        text-align: right;\n",
       "    }\n",
       "</style>\n",
       "<table border=\"1\" class=\"dataframe\">\n",
       "  <thead>\n",
       "    <tr style=\"text-align: right;\">\n",
       "      <th></th>\n",
       "      <th>review_year</th>\n",
       "      <th>review_month</th>\n",
       "      <th>review_text</th>\n",
       "      <th>processed_review_text</th>\n",
       "    </tr>\n",
       "  </thead>\n",
       "  <tbody>\n",
       "    <tr>\n",
       "      <th>0</th>\n",
       "      <td>2021</td>\n",
       "      <td>Oct</td>\n",
       "      <td>The ticketing process and hiring process was g...</td>\n",
       "      <td>ticket process hire process great easy staff h...</td>\n",
       "    </tr>\n",
       "    <tr>\n",
       "      <th>1</th>\n",
       "      <td>2021</td>\n",
       "      <td>Aug</td>\n",
       "      <td>Excellent team, thank you Laura and the girl d...</td>\n",
       "      <td>excellent team thank laura girl driver full fu...</td>\n",
       "    </tr>\n",
       "    <tr>\n",
       "      <th>2</th>\n",
       "      <td>2021</td>\n",
       "      <td>Jul</td>\n",
       "      <td>Won’t go back in a hurry. Massive long lines, ...</td>\n",
       "      <td>go back hurry massive long line short run marg...</td>\n",
       "    </tr>\n",
       "    <tr>\n",
       "      <th>3</th>\n",
       "      <td>2021</td>\n",
       "      <td>Mar</td>\n",
       "      <td>We spent 2 hours on the ski field riding the m...</td>\n",
       "      <td>spent 2 hour ski field rid mountain cart hoot ...</td>\n",
       "    </tr>\n",
       "    <tr>\n",
       "      <th>4</th>\n",
       "      <td>2021</td>\n",
       "      <td>Feb</td>\n",
       "      <td>Visited as a group of 4 couples and everyone h...</td>\n",
       "      <td>visit group 4 couple everyone absolute blast u...</td>\n",
       "    </tr>\n",
       "  </tbody>\n",
       "</table>\n",
       "</div>"
      ],
      "text/plain": [
       "   review_year review_month  \\\n",
       "0         2021          Oct   \n",
       "1         2021          Aug   \n",
       "2         2021          Jul   \n",
       "3         2021          Mar   \n",
       "4         2021          Feb   \n",
       "\n",
       "                                         review_text  \\\n",
       "0  The ticketing process and hiring process was g...   \n",
       "1  Excellent team, thank you Laura and the girl d...   \n",
       "2  Won’t go back in a hurry. Massive long lines, ...   \n",
       "3  We spent 2 hours on the ski field riding the m...   \n",
       "4  Visited as a group of 4 couples and everyone h...   \n",
       "\n",
       "                               processed_review_text  \n",
       "0  ticket process hire process great easy staff h...  \n",
       "1  excellent team thank laura girl driver full fu...  \n",
       "2  go back hurry massive long line short run marg...  \n",
       "3  spent 2 hour ski field rid mountain cart hoot ...  \n",
       "4  visit group 4 couple everyone absolute blast u...  "
      ]
     },
     "execution_count": 4,
     "metadata": {},
     "output_type": "execute_result"
    }
   ],
   "source": [
    "df['processed_review_text'] = df['processed_review_text'].apply(lambda x: remove_all_stopwords(x))\n",
    "df.head()"
   ]
  },
  {
   "cell_type": "code",
   "execution_count": 6,
   "metadata": {},
   "outputs": [],
   "source": [
    "processed_reviews = [df['processed_review_text'][i].split() for i in range(df.shape[0])]"
   ]
  },
  {
   "cell_type": "code",
   "execution_count": 19,
   "metadata": {},
   "outputs": [
    {
     "name": "stderr",
     "output_type": "stream",
     "text": [
      "g:\\My Drive\\Professional\\Internship and Graduate\\2021\\Qrious\\Project 3  NZ Ski Sentiment Analysis\\nzski\\venv\\lib\\site-packages\\sklearn\\decomposition\\_nmf.py:1422: FutureWarning: `alpha` was deprecated in version 1.0 and will be removed in 1.2. Use `alpha_W` and `alpha_H` instead\n",
      "  warnings.warn(\n"
     ]
    },
    {
     "data": {
      "text/plain": [
       "NMF(alpha=0.1, init='nndsvd', l1_ratio=0.5, n_components=40, random_state=1)"
      ]
     },
     "execution_count": 19,
     "metadata": {},
     "output_type": "execute_result"
    }
   ],
   "source": [
    "vectorizer = TfidfVectorizer(analyzer='word', token_pattern=r'\\b[a-zA-Z]{3,}\\b', ngram_range=(2,2), lowercase=False, \n",
    "min_df=5, # don't want terms to be used that don't appear often\n",
    "stop_words='english' # not checking non-English stopwords for now\n",
    ")\n",
    "matrix = vectorizer.fit_transform(df.processed_review_text.values)\n",
    "\n",
    "nmf = NMF(n_components=40, random_state=1, alpha=.1, l1_ratio=.5, init='nndsvd')\n",
    "nmf.fit(matrix)"
   ]
  },
  {
   "cell_type": "markdown",
   "metadata": {},
   "source": [
    "Using NMF, we can roughly see topics like facilities and amenities (2, 3, 4), staff (6, 7), and overall impresions (1, 8)"
   ]
  },
  {
   "cell_type": "code",
   "execution_count": 26,
   "metadata": {},
   "outputs": [
    {
     "name": "stderr",
     "output_type": "stream",
     "text": [
      "g:\\My Drive\\Professional\\Internship and Graduate\\2021\\Qrious\\Project 3  NZ Ski Sentiment Analysis\\nzski\\venv\\lib\\site-packages\\sklearn\\utils\\deprecation.py:87: FutureWarning: Function get_feature_names is deprecated; get_feature_names is deprecated in 1.0 and will be removed in 1.2. Please use get_feature_names_out instead.\n",
      "  warnings.warn(msg, category=FutureWarning)\n"
     ]
    },
    {
     "data": {
      "text/html": [
       "<div>\n",
       "<style scoped>\n",
       "    .dataframe tbody tr th:only-of-type {\n",
       "        vertical-align: middle;\n",
       "    }\n",
       "\n",
       "    .dataframe tbody tr th {\n",
       "        vertical-align: top;\n",
       "    }\n",
       "\n",
       "    .dataframe thead th {\n",
       "        text-align: right;\n",
       "    }\n",
       "</style>\n",
       "<table border=\"1\" class=\"dataframe\">\n",
       "  <thead>\n",
       "    <tr style=\"text-align: right;\">\n",
       "      <th></th>\n",
       "      <th>topic_1</th>\n",
       "      <th>topic_2</th>\n",
       "      <th>topic_3</th>\n",
       "      <th>topic_4</th>\n",
       "      <th>topic_5</th>\n",
       "      <th>topic_6</th>\n",
       "      <th>topic_7</th>\n",
       "      <th>topic_8</th>\n",
       "      <th>topic_9</th>\n",
       "      <th>topic_10</th>\n",
       "    </tr>\n",
       "  </thead>\n",
       "  <tbody>\n",
       "    <tr>\n",
       "      <th>0</th>\n",
       "      <td>ski field</td>\n",
       "      <td>staff friendly</td>\n",
       "      <td>cardrona ski</td>\n",
       "      <td>ski resort</td>\n",
       "      <td>staff helpful</td>\n",
       "      <td>great day</td>\n",
       "      <td>friendly staff</td>\n",
       "      <td>alpine resort</td>\n",
       "      <td>feel like</td>\n",
       "      <td>really good</td>\n",
       "    </tr>\n",
       "    <tr>\n",
       "      <th>1</th>\n",
       "      <td>best ski</td>\n",
       "      <td>ski area</td>\n",
       "      <td>stun view</td>\n",
       "      <td>best ski</td>\n",
       "      <td>helpful friendly</td>\n",
       "      <td>day skiing</td>\n",
       "      <td>staff great</td>\n",
       "      <td>cardrona alpine</td>\n",
       "      <td>day day</td>\n",
       "      <td>good fun</td>\n",
       "    </tr>\n",
       "    <tr>\n",
       "      <th>2</th>\n",
       "      <td>family ski</td>\n",
       "      <td>hot chocolate</td>\n",
       "      <td>trip cardrona</td>\n",
       "      <td>staff great</td>\n",
       "      <td>food drink</td>\n",
       "      <td>great run</td>\n",
       "      <td>helpful friendly</td>\n",
       "      <td>resort amaze</td>\n",
       "      <td>mountain great</td>\n",
       "      <td>overall great</td>\n",
       "    </tr>\n",
       "    <tr>\n",
       "      <th>3</th>\n",
       "      <td>cardrona best</td>\n",
       "      <td>skiing time</td>\n",
       "      <td>lesson good</td>\n",
       "      <td>cart fun</td>\n",
       "      <td>drive mountain</td>\n",
       "      <td>day ski</td>\n",
       "      <td>rental gear</td>\n",
       "      <td>great staff</td>\n",
       "      <td>skiing experience</td>\n",
       "      <td>mountain great</td>\n",
       "    </tr>\n",
       "    <tr>\n",
       "      <th>4</th>\n",
       "      <td>view ski</td>\n",
       "      <td>food choice</td>\n",
       "      <td>lift great</td>\n",
       "      <td>great run</td>\n",
       "      <td>ski time</td>\n",
       "      <td>kid adult</td>\n",
       "      <td>great run</td>\n",
       "      <td>thanks great</td>\n",
       "      <td>spent hour</td>\n",
       "      <td>winter game</td>\n",
       "    </tr>\n",
       "    <tr>\n",
       "      <th>5</th>\n",
       "      <td>ski season</td>\n",
       "      <td>car park</td>\n",
       "      <td>day cardrona</td>\n",
       "      <td>bus ride</td>\n",
       "      <td>lesson kid</td>\n",
       "      <td>year ski</td>\n",
       "      <td>groom run</td>\n",
       "      <td>beginner expert</td>\n",
       "      <td>make feel</td>\n",
       "      <td>great resort</td>\n",
       "    </tr>\n",
       "    <tr>\n",
       "      <th>6</th>\n",
       "      <td>day ski</td>\n",
       "      <td>time visit</td>\n",
       "      <td>fun family</td>\n",
       "      <td>resort amaze</td>\n",
       "      <td>snow condition</td>\n",
       "      <td>noodle bar</td>\n",
       "      <td>great instructor</td>\n",
       "      <td>easy access</td>\n",
       "      <td>staff member</td>\n",
       "      <td>ski slope</td>\n",
       "    </tr>\n",
       "    <tr>\n",
       "      <th>7</th>\n",
       "      <td>great ski</td>\n",
       "      <td>spent day</td>\n",
       "      <td>worth drive</td>\n",
       "      <td>cardrona best</td>\n",
       "      <td>car park</td>\n",
       "      <td>learn ski</td>\n",
       "      <td>different level</td>\n",
       "      <td>great view</td>\n",
       "      <td>afternoon lesson</td>\n",
       "      <td>lesson instructor</td>\n",
       "    </tr>\n",
       "    <tr>\n",
       "      <th>8</th>\n",
       "      <td>beginner expert</td>\n",
       "      <td>trip cardrona</td>\n",
       "      <td>noodle bar</td>\n",
       "      <td>view amaze</td>\n",
       "      <td>good snow</td>\n",
       "      <td>overall great</td>\n",
       "      <td>really friendly</td>\n",
       "      <td>good experience</td>\n",
       "      <td>time mountain</td>\n",
       "      <td>pretty good</td>\n",
       "    </tr>\n",
       "    <tr>\n",
       "      <th>9</th>\n",
       "      <td>magic carpet</td>\n",
       "      <td>awesome time</td>\n",
       "      <td>staff come</td>\n",
       "      <td>ski time</td>\n",
       "      <td>staff help</td>\n",
       "      <td>family great</td>\n",
       "      <td>absolute beginner</td>\n",
       "      <td>plenty time</td>\n",
       "      <td>alpine resort</td>\n",
       "      <td>good value</td>\n",
       "    </tr>\n",
       "  </tbody>\n",
       "</table>\n",
       "</div>"
      ],
      "text/plain": [
       "           topic_1         topic_2        topic_3        topic_4  \\\n",
       "0        ski field  staff friendly   cardrona ski     ski resort   \n",
       "1         best ski        ski area      stun view       best ski   \n",
       "2       family ski   hot chocolate  trip cardrona    staff great   \n",
       "3    cardrona best     skiing time    lesson good       cart fun   \n",
       "4         view ski     food choice     lift great      great run   \n",
       "5       ski season        car park   day cardrona       bus ride   \n",
       "6          day ski      time visit     fun family   resort amaze   \n",
       "7        great ski       spent day    worth drive  cardrona best   \n",
       "8  beginner expert   trip cardrona     noodle bar     view amaze   \n",
       "9     magic carpet    awesome time     staff come       ski time   \n",
       "\n",
       "            topic_5        topic_6            topic_7          topic_8  \\\n",
       "0     staff helpful      great day     friendly staff    alpine resort   \n",
       "1  helpful friendly     day skiing        staff great  cardrona alpine   \n",
       "2        food drink      great run   helpful friendly     resort amaze   \n",
       "3    drive mountain        day ski        rental gear      great staff   \n",
       "4          ski time      kid adult          great run     thanks great   \n",
       "5        lesson kid       year ski          groom run  beginner expert   \n",
       "6    snow condition     noodle bar   great instructor      easy access   \n",
       "7          car park      learn ski    different level       great view   \n",
       "8         good snow  overall great    really friendly  good experience   \n",
       "9        staff help   family great  absolute beginner      plenty time   \n",
       "\n",
       "             topic_9           topic_10  \n",
       "0          feel like        really good  \n",
       "1            day day           good fun  \n",
       "2     mountain great      overall great  \n",
       "3  skiing experience     mountain great  \n",
       "4         spent hour        winter game  \n",
       "5          make feel       great resort  \n",
       "6       staff member          ski slope  \n",
       "7   afternoon lesson  lesson instructor  \n",
       "8      time mountain        pretty good  \n",
       "9      alpine resort         good value  "
      ]
     },
     "execution_count": 26,
     "metadata": {},
     "output_type": "execute_result"
    }
   ],
   "source": [
    "feature_names = vectorizer.get_feature_names()\n",
    "n_top_words = 10\n",
    "\n",
    "df_topic_dict = {}\n",
    "for idx, topic in enumerate(nmf.components_[:10]):\n",
    "    topic_id = f'topic_{idx+1}'\n",
    "    top_words = [feature_names[i] for i in topic.argsort()[:-n_top_words-1:-1]]\n",
    "    df_topic_dict[topic_id] = top_words\n",
    "df_topic = pd.DataFrame(df_topic_dict)\n",
    "df_topic"
   ]
  },
  {
   "cell_type": "code",
   "execution_count": 31,
   "metadata": {},
   "outputs": [
    {
     "data": {
      "image/png": "[encoded data removed]",
      "text/plain": [
       "<Figure size 576x576 with 1 Axes>"
      ]
     },
     "metadata": {},
     "output_type": "display_data"
    }
   ],
   "source": [
    "text = df_topic.values\n",
    "wordcloud = WordCloud(width=1500, height=1500, background_color='black', stopwords=STOPWORDS).generate(str(text))\n",
    "fig = plt.figure( figsize=(8,8), facecolor='k', edgecolor='k')\n",
    "plt.imshow(wordcloud, interpolation='bilinear')\n",
    "plt.axis('off')\n",
    "plt.tight_layout(pad=0)\n",
    "plt.show()"
   ]
  },
  {
   "cell_type": "markdown",
   "metadata": {},
   "source": [
    "### Approach 2"
   ]
  },
  {
   "cell_type": "markdown",
   "metadata": {},
   "source": [
    "This approach consists of applying LDA first to find the optimal number of topics (\"components\" in NMF terminology) and then using an NMF model + business domain knowledge to determine what topics are present in the reviews\n",
    "\n",
    "The first part of this approach was largely inspired by: https://towardsdatascience.com/evaluate-topic-model-in-python-latent-dirichlet-allocation-lda-7d57484bb5d0"
   ]
  },
  {
   "cell_type": "markdown",
   "metadata": {},
   "source": [
    "#### 2a"
   ]
  },
  {
   "cell_type": "code",
   "execution_count": 3,
   "metadata": {},
   "outputs": [
    {
     "data": {
      "text/html": [
       "<div>\n",
       "<style scoped>\n",
       "    .dataframe tbody tr th:only-of-type {\n",
       "        vertical-align: middle;\n",
       "    }\n",
       "\n",
       "    .dataframe tbody tr th {\n",
       "        vertical-align: top;\n",
       "    }\n",
       "\n",
       "    .dataframe thead th {\n",
       "        text-align: right;\n",
       "    }\n",
       "</style>\n",
       "<table border=\"1\" class=\"dataframe\">\n",
       "  <thead>\n",
       "    <tr style=\"text-align: right;\">\n",
       "      <th></th>\n",
       "      <th>review_year</th>\n",
       "      <th>review_month</th>\n",
       "      <th>peak</th>\n",
       "      <th>tokenised_sentences</th>\n",
       "      <th>subjectivity</th>\n",
       "      <th>sentiment</th>\n",
       "      <th>sentiment_score</th>\n",
       "    </tr>\n",
       "  </thead>\n",
       "  <tbody>\n",
       "    <tr>\n",
       "      <th>0</th>\n",
       "      <td>2021</td>\n",
       "      <td>Oct</td>\n",
       "      <td>cardrona</td>\n",
       "      <td>ticket process hire process be great easy all ...</td>\n",
       "      <td>0.569444</td>\n",
       "      <td>POSITIVE</td>\n",
       "      <td>0.990033</td>\n",
       "    </tr>\n",
       "    <tr>\n",
       "      <th>1</th>\n",
       "      <td>2021</td>\n",
       "      <td>Oct</td>\n",
       "      <td>cardrona</td>\n",
       "      <td>all be well until we meet out instructor (nick...</td>\n",
       "      <td>0.668750</td>\n",
       "      <td>NEGATIVE</td>\n",
       "      <td>-0.993660</td>\n",
       "    </tr>\n",
       "    <tr>\n",
       "      <th>2</th>\n",
       "      <td>2021</td>\n",
       "      <td>Oct</td>\n",
       "      <td>cardrona</td>\n",
       "      <td>it completely put our kid off.</td>\n",
       "      <td>0.400000</td>\n",
       "      <td>NEGATIVE</td>\n",
       "      <td>-0.995861</td>\n",
       "    </tr>\n",
       "    <tr>\n",
       "      <th>3</th>\n",
       "      <td>2021</td>\n",
       "      <td>Oct</td>\n",
       "      <td>cardrona</td>\n",
       "      <td>we then go do our own lesson with kid with lit...</td>\n",
       "      <td>0.566667</td>\n",
       "      <td>NEGATIVE</td>\n",
       "      <td>-0.938372</td>\n",
       "    </tr>\n",
       "    <tr>\n",
       "      <th>4</th>\n",
       "      <td>2021</td>\n",
       "      <td>Oct</td>\n",
       "      <td>cardrona</td>\n",
       "      <td>over all cadrona be well set up for first time...</td>\n",
       "      <td>0.477778</td>\n",
       "      <td>POSITIVE</td>\n",
       "      <td>0.970559</td>\n",
       "    </tr>\n",
       "  </tbody>\n",
       "</table>\n",
       "</div>"
      ],
      "text/plain": [
       "   review_year review_month      peak  \\\n",
       "0         2021          Oct  cardrona   \n",
       "1         2021          Oct  cardrona   \n",
       "2         2021          Oct  cardrona   \n",
       "3         2021          Oct  cardrona   \n",
       "4         2021          Oct  cardrona   \n",
       "\n",
       "                                 tokenised_sentences  subjectivity sentiment  \\\n",
       "0  ticket process hire process be great easy all ...      0.569444  POSITIVE   \n",
       "1  all be well until we meet out instructor (nick...      0.668750  NEGATIVE   \n",
       "2                     it completely put our kid off.      0.400000  NEGATIVE   \n",
       "3  we then go do our own lesson with kid with lit...      0.566667  NEGATIVE   \n",
       "4  over all cadrona be well set up for first time...      0.477778  POSITIVE   \n",
       "\n",
       "   sentiment_score  \n",
       "0         0.990033  \n",
       "1        -0.993660  \n",
       "2        -0.995861  \n",
       "3        -0.938372  \n",
       "4         0.970559  "
      ]
     },
     "execution_count": 3,
     "metadata": {},
     "output_type": "execute_result"
    }
   ],
   "source": [
    "tokenised_df = pd.read_csv('/path/to/all_tokenised_reviews.csv')\n",
    "tokenised_df.head()"
   ]
  },
  {
   "cell_type": "code",
   "execution_count": 4,
   "metadata": {},
   "outputs": [],
   "source": [
    "def sent_to_words(sentences):\n",
    "    for sentence in sentences:\n",
    "        yield(gensim.utils.simple_preprocess(str(sentence), deacc=True))  # deacc=True removes punctuations\n",
    "\n",
    "data = tokenised_df.tokenised_sentences.values.tolist()\n",
    "data_words = list(sent_to_words(data))"
   ]
  },
  {
   "cell_type": "code",
   "execution_count": 5,
   "metadata": {},
   "outputs": [],
   "source": [
    "# Build the bigram and trigram models\n",
    "bigram = gensim.models.Phrases(data_words, min_count=5, threshold=100) # higher threshold fewer phrases.\n",
    "trigram = gensim.models.Phrases(bigram[data_words], threshold=100)\n",
    "\n",
    "# Faster way to get a sentence clubbed as a trigram/bigram\n",
    "bigram_mod = gensim.models.phrases.Phraser(bigram)\n",
    "trigram_mod = gensim.models.phrases.Phraser(trigram)"
   ]
  },
  {
   "cell_type": "code",
   "execution_count": 6,
   "metadata": {},
   "outputs": [],
   "source": [
    "# Define functions for stopwords, bigrams, trigrams\n",
    "def remove_stopwords(texts):\n",
    "    return [[word for word in simple_preprocess(str(doc)) if word not in stopwords.words('english')] for doc in texts]\n",
    "def make_bigrams(texts):\n",
    "    return [bigram_mod[doc] for doc in texts]\n",
    "def make_trigrams(texts):\n",
    "    return [trigram_mod[bigram_mod[doc]] for doc in texts]"
   ]
  },
  {
   "cell_type": "code",
   "execution_count": 7,
   "metadata": {},
   "outputs": [],
   "source": [
    "# Remove Stop Words\n",
    "data_words_nostops = remove_stopwords(data_words)\n",
    "# Form Bigrams\n",
    "data_words_bigrams = make_bigrams(data_words_nostops)"
   ]
  },
  {
   "cell_type": "code",
   "execution_count": 8,
   "metadata": {},
   "outputs": [
    {
     "name": "stdout",
     "output_type": "stream",
     "text": [
      "[[(0, 1), (1, 1), (2, 1), (3, 1), (4, 1), (5, 1), (6, 1), (7, 1), (8, 2), (9, 1), (10, 1), (11, 1), (12, 1), (13, 1), (14, 3)]]\n"
     ]
    }
   ],
   "source": [
    "# Create Dictionary\n",
    "id2word = corpora.Dictionary(data_words_bigrams)\n",
    "# Corpus and Term Document Frequency\n",
    "corpus = [id2word.doc2bow(text) for text in data_words_bigrams]\n",
    "print(corpus[:1])"
   ]
  },
  {
   "cell_type": "code",
   "execution_count": 9,
   "metadata": {},
   "outputs": [],
   "source": [
    "# Build LDA model\n",
    "lda_model = gensim.models.LdaMulticore(corpus=corpus,\n",
    "                                       id2word=id2word,\n",
    "                                       num_topics=10, \n",
    "                                       random_state=100,\n",
    "                                       chunksize=100,\n",
    "                                       passes=10,\n",
    "                                       per_word_topics=True)"
   ]
  },
  {
   "cell_type": "code",
   "execution_count": 10,
   "metadata": {},
   "outputs": [
    {
     "name": "stdout",
     "output_type": "stream",
     "text": [
      "[(0,\n",
      "  '0.048*\"drive\" + 0.042*\"queenstown\" + 0.042*\"bus\" + 0.037*\"view\" + '\n",
      "  '0.036*\"mountain\" + 0.036*\"road\" + 0.031*\"get\" + 0.029*\"top\" + 0.023*\"park\" '\n",
      "  '+ 0.023*\"car\"'),\n",
      " (1,\n",
      "  '0.080*\"coronet\" + 0.074*\"peak\" + 0.026*\"ski\" + 0.024*\"small\" + '\n",
      "  '0.023*\"resort\" + 0.021*\"area\" + 0.021*\"found\" + 0.018*\"nz\" + 0.017*\"base\" + '\n",
      "  '0.013*\"big\"'),\n",
      " (2,\n",
      "  '0.125*\"day\" + 0.088*\"skiing\" + 0.075*\"time\" + 0.050*\"first\" + 0.023*\"love\" '\n",
      "  '+ 0.023*\"ski\" + 0.023*\"go\" + 0.019*\"end\" + 0.017*\"one\" + 0.017*\"kid\"'),\n",
      " (3,\n",
      "  '0.138*\"snow\" + 0.049*\"fun\" + 0.037*\"much\" + 0.029*\"good\" + 0.029*\"make\" + '\n",
      "  '0.025*\"look\" + 0.024*\"season\" + 0.022*\"get\" + 0.020*\"well\" + 0.018*\"go\"'),\n",
      " (4,\n",
      "  '0.065*\"ski\" + 0.039*\"field\" + 0.027*\"go\" + 0.026*\"would\" + 0.023*\"one\" + '\n",
      "  '0.022*\"like\" + 0.022*\"see\" + 0.020*\"could\" + 0.016*\"many\" + 0.015*\"people\"'),\n",
      " (5,\n",
      "  '0.091*\"great\" + 0.054*\"staff\" + 0.036*\"good\" + 0.031*\"friendly\" + '\n",
      "  '0.031*\"ski\" + 0.029*\"facility\" + 0.024*\"helpful\" + 0.024*\"really\" + '\n",
      "  '0.023*\"instructor\" + 0.023*\"enjoy\"'),\n",
      " (6,\n",
      "  '0.044*\"slope\" + 0.043*\"great\" + 0.040*\"place\" + 0.033*\"back\" + 0.029*\"snow\" '\n",
      "  '+ 0.023*\"runs\" + 0.023*\"beginner\" + 0.022*\"would\" + 0.020*\"terrain\" + '\n",
      "  '0.020*\"definitely\"'),\n",
      " (7,\n",
      "  '0.095*\"remarkables\" + 0.017*\"remark\" + 0.017*\"little\" + 0.017*\"ski\" + '\n",
      "  '0.017*\"close\" + 0.016*\"well\" + 0.014*\"high\" + 0.014*\"much\" + '\n",
      "  '0.014*\"experience\" + 0.013*\"sit\"'),\n",
      " (8,\n",
      "  '0.045*\"lesson\" + 0.042*\"day\" + 0.035*\"get\" + 0.033*\"ski\" + 0.032*\"hire\" + '\n",
      "  '0.026*\"gear\" + 0.025*\"snowboard\" + 0.023*\"lift\" + 0.021*\"two\" + '\n",
      "  '0.018*\"need\"'),\n",
      " (9,\n",
      "  '0.067*\"run\" + 0.041*\"lift\" + 0.032*\"beginner\" + 0.028*\"food\" + '\n",
      "  '0.026*\"skier\" + 0.022*\"good\" + 0.022*\"area\" + 0.021*\"new\" + 0.018*\"chair\" + '\n",
      "  '0.017*\"lot\"')]\n"
     ]
    }
   ],
   "source": [
    "# Print the Keyword in the 10 topics\n",
    "pprint(lda_model.print_topics())\n",
    "doc_lda = lda_model[corpus]"
   ]
  },
  {
   "cell_type": "code",
   "execution_count": 11,
   "metadata": {},
   "outputs": [
    {
     "name": "stdout",
     "output_type": "stream",
     "text": [
      "Coherence Score:  0.3538898534816841\n"
     ]
    }
   ],
   "source": [
    "# Compute Coherence Score\n",
    "coherence_model_lda = CoherenceModel(model=lda_model, texts=data_words_bigrams, dictionary=id2word, coherence='c_v')\n",
    "coherence_lda = coherence_model_lda.get_coherence()\n",
    "print('Coherence Score: ', coherence_lda)"
   ]
  },
  {
   "cell_type": "code",
   "execution_count": 39,
   "metadata": {},
   "outputs": [],
   "source": [
    "def compute_coherence_values(corpus, dictionary, k):\n",
    "    lda_model = gensim.models.LdaMulticore(corpus=corpus,\n",
    "                                           id2word=dictionary,\n",
    "                                           num_topics=k, \n",
    "                                           random_state=100,\n",
    "                                           chunksize=100,\n",
    "                                           passes=10)\n",
    "\n",
    "    coherence_model_lda = CoherenceModel(model=lda_model, texts=data_words_bigrams, dictionary=id2word, coherence='c_v')\n",
    "    return coherence_model_lda.get_coherence()\n",
    "\n",
    "def compute_coherence_values(corpus, dictionary, k, a, b):\n",
    "    lda_model = gensim.models.LdaMulticore(corpus=corpus,\n",
    "                                           id2word=dictionary,\n",
    "                                           num_topics=k,\n",
    "                                           alpha=a,\n",
    "                                           eta=b, \n",
    "                                           random_state=100,\n",
    "                                           chunksize=100,\n",
    "                                           passes=10)\n",
    "\n",
    "    coherence_model_lda = CoherenceModel(model=lda_model, texts=data_words_bigrams, dictionary=id2word, coherence='c_v')\n",
    "    return coherence_model_lda.get_coherence()"
   ]
  },
  {
   "cell_type": "code",
   "execution_count": 26,
   "metadata": {},
   "outputs": [],
   "source": [
    "model_results = {'Topics': [], 'Coherence': []}\n",
    "\n",
    "# Topics range\n",
    "min_topics = 2\n",
    "max_topics = 11\n",
    "step_size = 1\n",
    "for k in range(min_topics, max_topics, step_size):\n",
    "    # get the coherence score for the given parameters\n",
    "    cv = compute_coherence_values(corpus=corpus, dictionary=id2word, k=k)\n",
    "    model_results['Topics'].append(k)\n",
    "    model_results['Coherence'].append(cv)"
   ]
  },
  {
   "cell_type": "markdown",
   "metadata": {},
   "source": [
    "Using coherence score, we can see that beyond 5-6 topics, topic interpretability seems to drop, so modelling efforts where this parameter can be specified (like in LDA above) may perform better with this many topics."
   ]
  },
  {
   "cell_type": "code",
   "execution_count": 33,
   "metadata": {},
   "outputs": [
    {
     "data": {
      "text/plain": [
       "<AxesSubplot:xlabel='Topics'>"
      ]
     },
     "execution_count": 33,
     "metadata": {},
     "output_type": "execute_result"
    },
    {
     "data": {
      "image/png": "[encoded data removed]",
      "text/plain": [
       "<Figure size 432x288 with 1 Axes>"
      ]
     },
     "metadata": {
      "needs_background": "light"
     },
     "output_type": "display_data"
    }
   ],
   "source": [
    "d = pd.DataFrame(model_results)\n",
    "d.plot.line(x='Topics', y='Coherence')"
   ]
  },
  {
   "cell_type": "code",
   "execution_count": 40,
   "metadata": {},
   "outputs": [],
   "source": [
    "alpha = list(np.arange(0.01, 1, 0.3))\n",
    "alpha.append('symmetric')\n",
    "alpha.append('asymmetric')\n",
    "\n",
    "beta = list(np.arange(0.01, 1, 0.3))\n",
    "beta.append('symmetric')\n",
    "\n",
    "tuned_results = {'Alpha': [], 'Beta': [], 'Coherence': []}\n",
    "\n",
    "for a in alpha:\n",
    "    for b in beta:\n",
    "        cv = compute_coherence_values(corpus=corpus, dictionary=id2word, k=6, a=a, b=b)\n",
    "        tuned_results['Alpha'].append(a)\n",
    "        tuned_results['Beta'].append(b)\n",
    "        tuned_results['Coherence'].append(cv)"
   ]
  },
  {
   "cell_type": "code",
   "execution_count": 45,
   "metadata": {},
   "outputs": [
    {
     "data": {
      "text/html": [
       "<div>\n",
       "<style scoped>\n",
       "    .dataframe tbody tr th:only-of-type {\n",
       "        vertical-align: middle;\n",
       "    }\n",
       "\n",
       "    .dataframe tbody tr th {\n",
       "        vertical-align: top;\n",
       "    }\n",
       "\n",
       "    .dataframe thead th {\n",
       "        text-align: right;\n",
       "    }\n",
       "</style>\n",
       "<table border=\"1\" class=\"dataframe\">\n",
       "  <thead>\n",
       "    <tr style=\"text-align: right;\">\n",
       "      <th></th>\n",
       "      <th>Alpha</th>\n",
       "      <th>Beta</th>\n",
       "      <th>Coherence</th>\n",
       "    </tr>\n",
       "  </thead>\n",
       "  <tbody>\n",
       "    <tr>\n",
       "      <th>28</th>\n",
       "      <td>asymmetric</td>\n",
       "      <td>0.91</td>\n",
       "      <td>0.469025</td>\n",
       "    </tr>\n",
       "  </tbody>\n",
       "</table>\n",
       "</div>"
      ],
      "text/plain": [
       "         Alpha  Beta  Coherence\n",
       "28  asymmetric  0.91   0.469025"
      ]
     },
     "execution_count": 45,
     "metadata": {},
     "output_type": "execute_result"
    }
   ],
   "source": [
    "pd.DataFrame(tuned_results)[pd.DataFrame(tuned_results)['Coherence'] == max(tuned_results['Coherence'])]"
   ]
  },
  {
   "cell_type": "code",
   "execution_count": 47,
   "metadata": {},
   "outputs": [],
   "source": [
    "# final model using tuned hyperparameters\n",
    "lda_model = gensim.models.LdaMulticore(corpus=corpus,\n",
    "                                           id2word=id2word,\n",
    "                                           num_topics=6, \n",
    "                                           random_state=100,\n",
    "                                           chunksize=100,\n",
    "                                           passes=10,\n",
    "                                           alpha='asymmetric',\n",
    "                                           eta=0.9)"
   ]
  },
  {
   "cell_type": "code",
   "execution_count": 55,
   "metadata": {},
   "outputs": [
    {
     "name": "stdout",
     "output_type": "stream",
     "text": [
      "[(0,\n",
      "  '0.026*\"ski\" + 0.019*\"day\" + 0.017*\"great\" + 0.017*\"snow\" + 0.015*\"get\" + '\n",
      "  '0.012*\"good\" + 0.011*\"go\" + 0.011*\"run\" + 0.011*\"time\" + 0.010*\"skiing\"'),\n",
      " (1,\n",
      "  '0.033*\"staff\" + 0.022*\"instructor\" + 0.020*\"friendly\" + 0.017*\"helpful\" + '\n",
      "  '0.010*\"help\" + 0.007*\"centre\" + 0.006*\"patient\" + 0.006*\"learner\" + '\n",
      "  '0.005*\"us\" + 0.005*\"make\"'),\n",
      " (2,\n",
      "  '0.031*\"food\" + 0.019*\"cafe\" + 0.012*\"lunch\" + 0.011*\"new\" + '\n",
      "  '0.011*\"building\" + 0.011*\"green\" + 0.010*\"good\" + 0.009*\"expensive\" + '\n",
      "  '0.009*\"base\" + 0.009*\"facility\"'),\n",
      " (3,\n",
      "  '0.011*\"either\" + 0.008*\"local\" + 0.008*\"boarding\" + 0.005*\"happen\" + '\n",
      "  '0.005*\"wow\" + 0.005*\"bought\" + 0.004*\"carpet\" + 0.004*\"skiiers\" + '\n",
      "  '0.004*\"dump\" + 0.004*\"easily\"'),\n",
      " (4,\n",
      "  '0.024*\"road\" + 0.017*\"line\" + 0.008*\"ice\" + 0.007*\"windy\" + 0.007*\"avoid\" + '\n",
      "  '0.006*\"low\" + 0.006*\"wd\" + 0.006*\"card\" + 0.005*\"gravel\" + 0.005*\"km\"'),\n",
      " (5,\n",
      "  '0.011*\"thanks\" + 0.005*\"carry\" + 0.005*\"cater\" + 0.004*\"pleasant\" + '\n",
      "  '0.003*\"caters\" + 0.003*\"whether\" + 0.003*\"mt\" + 0.002*\"north_island\" + '\n",
      "  '0.001*\"currently\" + 0.001*\"men\"')]\n"
     ]
    }
   ],
   "source": [
    "# Print the keywords in the topics\n",
    "pprint(lda_model.print_topics())"
   ]
  },
  {
   "cell_type": "code",
   "execution_count": 56,
   "metadata": {},
   "outputs": [
    {
     "data": {
      "text/plain": [
       "<gensim.interfaces.TransformedCorpus at 0x1daa43b6790>"
      ]
     },
     "execution_count": 56,
     "metadata": {},
     "output_type": "execute_result"
    }
   ],
   "source": [
    "doc_lda"
   ]
  },
  {
   "cell_type": "code",
   "execution_count": 52,
   "metadata": {},
   "outputs": [
    {
     "name": "stderr",
     "output_type": "stream",
     "text": [
      "c:\\Users\\Nick\\Documents\\d998_nzski_sentiment_analysis\\venv\\lib\\site-packages\\pyLDAvis\\_prepare.py:246: FutureWarning: In a future version of pandas all arguments of DataFrame.drop except for the argument 'labels' will be keyword-only.\n",
      "  default_term_info = default_term_info.sort_values(\n"
     ]
    },
    {
     "data": {
      "text/html": [
       "\n",
       "<link rel=\"stylesheet\" type=\"text/css\" href=\"https://cdn.jsdelivr.net/gh/bmabey/pyLDAvis@3.3.1/pyLDAvis/js/ldavis.v1.0.0.css\">\n",
       "\n",
       "\n",
       "<div id=\"ldavis_el928020385701886887164841627\"></div>\n",
       "<script type=\"text/javascript\">\n",
       "\n",
       "var ldavis_el928020385701886887164841627_data = {\"mdsDat\": {\"x\": [0.31545547955616327, -0.06515383622007165, 0.002076876712414888, -0.08284350072565475, -0.08666598717878689, -0.08286903214406498], \"y\": [-0.029354541997429737, -0.11784656824992612, 0.16208995255134445, -0.011833171736472558, -0.0030899587699956704, 3.428820247970117e-05], \"topics\": [1, 2, 3, 4, 5, 6], \"cluster\": [1, 1, 1, 1, 1, 1], \"Freq\": [70.61471677822017, 10.507719601063062, 10.061400949449723, 3.879418625180863, 2.9277449008662213, 2.008999145219948]}, \"tinfo\": {\"Term\": [\"staff\", \"road\", \"food\", \"instructor\", \"friendly\", \"ski\", \"good\", \"cafe\", \"helpful\", \"area\", \"new\", \"day\", \"great\", \"snow\", \"facility\", \"base\", \"lunch\", \"get\", \"building\", \"green\", \"help\", \"line\", \"expensive\", \"also\", \"go\", \"make\", \"restaurant\", \"plenty\", \"time\", \"sit\", \"ski\", \"day\", \"snow\", \"go\", \"get\", \"time\", \"skiing\", \"remarkables\", \"mountain\", \"coronet\", \"beginner\", \"queenstown\", \"peak\", \"view\", \"lift\", \"first\", \"bus\", \"would\", \"drive\", \"slope\", \"place\", \"field\", \"back\", \"fun\", \"easy\", \"much\", \"worth\", \"park\", \"run\", \"skier\", \"one\", \"lesson\", \"top\", \"take\", \"great\", \"really\", \"well\", \"good\", \"area\", \"help\", \"patient\", \"us\", \"guy\", \"learner\", \"thank\", \"improve\", \"move\", \"fall\", \"since\", \"centre\", \"incredible\", \"team\", \"confidence\", \"professional\", \"control\", \"name\", \"customer_service\", \"someone\", \"helpful\", \"advice\", \"person\", \"snowboarding\", \"face\", \"fitting\", \"real\", \"refund\", \"skis\", \"review\", \"man\", \"instructor\", \"crowded\", \"friendly\", \"late\", \"staff\", \"school_holidays\", \"group\", \"make\", \"put\", \"chain\", \"excellent\", \"give\", \"food\", \"cafe\", \"lunch\", \"building\", \"expensive\", \"restaurant\", \"sit\", \"eat\", \"locker\", \"coffee\", \"drink\", \"seat\", \"green\", \"inside\", \"hot\", \"trail\", \"bar\", \"warm\", \"toilet\", \"bring\", \"groom\", \"outside\", \"cold\", \"lodge\", \"black\", \"table\", \"storage\", \"pricey\", \"clean\", \"reasonable\", \"base\", \"new\", \"facility\", \"price\", \"good\", \"area\", \"plenty\", \"great\", \"also\", \"option\", \"well\", \"line\", \"ice\", \"windy\", \"gravel\", \"wd\", \"card\", \"avoid\", \"low\", \"chains\", \"unsealed\", \"dirt\", \"rail\", \"already\", \"visibility\", \"sign\", \"vehicle\", \"rock\", \"land\", \"information\", \"website\", \"somewhat\", \"live\", \"muddy\", \"recommended\", \"list\", \"path\", \"hold\", \"warn\", \"hairpin\", \"gate\", \"japan\", \"charge\", \"road\", \"difficult\", \"km\", \"seal\", \"apparently\", \"edge\", \"narrow\", \"either\", \"boarding\", \"local\", \"wow\", \"happen\", \"bought\", \"skiiers\", \"easily\", \"absolute\", \"dump\", \"carpet\", \"abilities\", \"dry\", \"mostly\", \"boring\", \"oh\", \"appear\", \"favorite\", \"talk\", \"design\", \"shot\", \"route\", \"highly\", \"easily_accessible\", \"question\", \"environment\", \"bunch\", \"lord\", \"training\", \"alternative\", \"infrastructure\", \"frankton\", \"speak\", \"thanks\", \"cater\", \"carry\", \"pleasant\", \"caters\", \"mt\", \"whether\", \"north_island\", \"switch\", \"ruapehu\", \"riders\", \"fluffy\", \"landscape\", \"overdue\", \"launch\", \"enjoys\", \"stash\", \"dollars\", \"currently\", \"fee\", \"dislikes\", \"pair\", \"tips\", \"strip\", \"undergo\", \"eternally\", \"million\", \"tops\", \"frustrating\", \"spill\", \"participate\", \"men\", \"kim\", \"unique\", \"terrific\", \"conveyor\", \"plane\"], \"Freq\": [600.0, 456.0, 418.0, 339.0, 336.0, 2383.0, 1230.0, 249.0, 260.0, 942.0, 333.0, 1762.0, 1714.0, 1600.0, 309.0, 224.0, 159.0, 1408.0, 147.0, 147.0, 138.0, 89.0, 127.0, 420.0, 1060.0, 489.0, 113.0, 228.0, 978.0, 105.0, 2380.369347341046, 1759.4570578822816, 1597.5249400887471, 1057.8429534822483, 1404.50060652561, 975.4022093845217, 949.9977194614884, 926.67097509436, 923.2517032437818, 752.945004943029, 780.0187769891219, 703.0782906995561, 706.4642944262405, 719.4855677342907, 847.3451643216179, 588.8837272202995, 602.5699309526661, 622.4070219447714, 724.0140506819108, 521.77129280926, 538.889384356071, 487.5692851520016, 464.0964202718752, 441.08935233161594, 409.090515377877, 459.97130252512704, 349.8879014627257, 379.46118974712596, 981.3910765603625, 363.6415055499938, 607.7867184220396, 655.4335846946905, 439.47692845666546, 685.0101133807686, 1621.5286259690783, 495.6244484644851, 866.8627517082766, 1096.4404580022635, 823.5504195414812, 135.826991288685, 83.1811139934027, 73.33030347631679, 52.785723290222755, 82.28786634513882, 41.36525848972748, 55.10996218314666, 50.59069664473877, 64.488104552567, 61.1494485802169, 99.92747901422929, 42.28138412498086, 35.046674795426775, 33.34570273113951, 33.323454796903974, 35.97840709456016, 35.10286521450454, 32.1370108137623, 33.062754397178196, 236.6819143858549, 28.818368660015075, 34.89919423267685, 46.05789140123045, 43.97872695682311, 25.77175981917776, 39.959427566012636, 32.91784869287685, 30.901229842519633, 25.802338272351516, 28.327245752857195, 302.0989802912598, 43.55321954361347, 279.14942445219856, 60.48845252110453, 449.35460134980264, 36.153224231900325, 55.05370747297155, 65.95196140618874, 46.30913779509194, 41.92848064800065, 39.317484173597855, 38.084442003102, 415.952545250232, 246.60413784368174, 156.1639366689258, 144.13920066842854, 124.45911962932004, 110.25175041836621, 102.81106619128224, 84.3582577087235, 77.17504333484622, 77.54958243533751, 70.01188531095333, 84.06190020577728, 139.99134064900372, 58.278945194206955, 48.56377361359791, 68.98702306363835, 46.30766816954288, 54.589235492427505, 49.718657398058504, 50.68602539102135, 57.070467001224515, 46.32602237687206, 59.56329031696462, 49.42489466230639, 74.01464151654078, 32.45155902670895, 36.7920843578163, 32.329586500491686, 32.146327604639794, 33.787260840609896, 121.71889772758458, 147.34575425341077, 119.41023824429787, 56.2711494287801, 131.72172218287773, 116.9899576014295, 63.74273077697262, 90.69610123998042, 68.43605210600992, 55.87282957936624, 51.96502400059257, 85.8692501137884, 40.504240281451864, 37.473657848504374, 26.945756613059274, 29.38797145112448, 28.415112579350634, 33.9049357410523, 32.947097061147936, 21.70454753425921, 18.248549260874388, 16.484354381314457, 22.704952127690028, 20.036200135386, 15.28181095100044, 15.781339143023855, 14.175872182347604, 12.200365657516416, 10.905071118243512, 11.800773486080985, 10.700087512087942, 9.611322391226455, 9.157966810192464, 8.696885134889328, 7.6018394470735675, 7.740611849507393, 8.633346613854851, 11.8444811050893, 7.647670851902872, 8.02546736723187, 6.955254367048619, 9.426647375721213, 14.861493620698324, 123.081205804491, 17.259216362287944, 25.026409655173712, 15.417357026664575, 9.518418777949044, 11.546614654726934, 9.586291507320068, 43.47338625508404, 29.820037460816767, 30.226049568236597, 18.546683725749983, 19.110196731158737, 18.39982153656817, 15.467955325560101, 13.87387315960863, 13.7441325024656, 14.007308434854817, 15.971154250225407, 12.27129561118238, 11.685264692141741, 11.148977215577043, 9.456439970747594, 10.572071331502462, 11.493433850570764, 7.8305554278291245, 7.490739233172972, 8.1837653968161, 7.0305649200258244, 5.93547070976705, 5.987344043600397, 6.719266250968588, 6.249553553460328, 5.607411909496393, 5.305317093924748, 4.6548815921098425, 4.492480510934888, 4.53812449473006, 5.247063490501618, 4.874216066505731, 4.670853538127923, 29.91258145662562, 13.125158244300904, 13.516435566102254, 11.84792116195687, 8.897176055483042, 7.757360936712494, 8.722116640312588, 4.615125407871502, 2.977034287768994, 2.957555789533183, 2.836684680036035, 2.6825849476136905, 2.6485072556412987, 2.520209327203642, 2.221666447859886, 2.0269679703648906, 2.1291773842058324, 1.8667628076748362, 3.2762320227550137, 2.0640260083938253, 1.9447648419796513, 2.4915656156733643, 2.455246940701814, 2.147486453466217, 1.8345702456590212, 1.521321846885478, 1.6506447734436276, 1.8686611515181408, 1.513114179429253, 1.702034500827824, 3.005418945659465, 3.038131305103196, 2.4569106612307747, 2.415747713924808, 2.42261924232305, 2.166385230834299, 1.8692405650861783], \"Total\": [600.0, 456.0, 418.0, 339.0, 336.0, 2383.0, 1230.0, 249.0, 260.0, 942.0, 333.0, 1762.0, 1714.0, 1600.0, 309.0, 224.0, 159.0, 1408.0, 147.0, 147.0, 138.0, 89.0, 127.0, 420.0, 1060.0, 489.0, 113.0, 228.0, 978.0, 105.0, 2383.774387070597, 1762.5915372877942, 1600.7888523093436, 1060.8626864437006, 1408.7085851769846, 978.4741283826892, 953.0375910749661, 929.8674101588874, 926.6214475811361, 755.7647840369912, 782.9689633776512, 705.8071657772473, 709.2786588036963, 722.4388794017767, 851.5753465805594, 591.8272104148475, 605.8030403538505, 626.0868908074435, 728.3617569631211, 524.9874438302817, 542.3305912451343, 490.71741434337804, 467.1329051718605, 444.0334631783999, 412.108342584342, 463.57272285042075, 352.64016052100357, 382.452784349554, 989.3461911070385, 366.7354647693773, 613.2955474908928, 662.3488865450558, 443.3472144877318, 698.3910579470537, 1714.6932357545488, 502.7522043051859, 921.7498267526274, 1230.516149391532, 942.8439152553763, 138.6032252273923, 85.78752633301353, 76.45429462076758, 55.52508974938933, 87.34498835297086, 43.98707770081268, 58.72770246697332, 54.24283636377702, 69.26434400698682, 65.76744186461723, 107.76898845281595, 45.66017230954604, 37.86490958406142, 36.13170318619115, 36.13213386712508, 39.03681989714097, 38.17749985966862, 35.32326454688949, 36.451288886654446, 260.97466818572565, 31.79181915919426, 38.50531795100625, 50.879349643144536, 48.60441698287905, 28.616040925449415, 44.43051647783777, 36.60630133432154, 34.38853787591632, 28.747498787878445, 31.728294887325386, 339.0676997511289, 49.01797589992703, 336.3920584611914, 69.45610895824078, 600.1251079532491, 44.899964580575826, 171.95466157856765, 489.9871829065653, 130.23633293884285, 140.02426980971353, 178.5595543310405, 196.1891675450693, 418.706102761588, 249.4606265620255, 159.13864896958577, 147.4770144153455, 127.50400172192248, 113.05784778629878, 105.73114059891255, 87.09088283523879, 80.02515469590466, 80.4302210899077, 72.70078550015074, 87.29834692331018, 147.48382950067005, 61.415199195170075, 51.25844957639464, 72.82333884319978, 49.04859881376445, 57.888533550849274, 52.733655895192186, 53.80688940616532, 60.908369822207185, 49.47213719231673, 63.67275848534609, 52.871501401030336, 79.80943646125768, 35.23282765407963, 39.94959459950731, 35.23778942514697, 35.14467434036166, 37.101345204049046, 224.71526016636642, 333.6113313344831, 309.2628647732035, 89.01372194351977, 1230.516149391532, 942.8439152553763, 228.0157194274789, 1714.6932357545488, 420.5149213353071, 137.2603745509723, 921.7498267526274, 89.89972602547483, 44.0221767789329, 40.7667893564594, 29.978894842090988, 32.84808164905404, 31.844374208028306, 38.10572610363642, 37.07802956338508, 24.99992782536916, 21.37265503343843, 19.508642778507987, 26.9213554364507, 23.834246853681634, 18.502385163149782, 19.2588357535378, 17.308900175436502, 15.484753303246926, 13.976482718506528, 15.237083504227863, 14.403700274002269, 12.96267698582934, 12.64633182545069, 12.036347945560049, 10.698622229789693, 10.909226127016732, 12.168908029051929, 16.791128661841004, 10.845260867899915, 11.412975020957363, 9.957804136158376, 13.536290824931632, 21.562160718074132, 456.977347202156, 32.32132040981089, 55.668570418015605, 47.14481740020413, 15.292534610202926, 29.393888508528722, 45.26855553837185, 48.28802992008633, 33.475739352104995, 33.953071421729305, 21.84431936392872, 22.595826282834608, 22.24109553787098, 18.768643555312174, 17.339204020232643, 17.205601416753066, 17.89726701980524, 20.610570657066457, 16.071139497600665, 15.425605535380429, 14.79247692096817, 12.598738025128485, 14.301061343458848, 15.690297474765273, 10.905781510630895, 10.811805942011794, 11.93102688592125, 10.356152036671881, 9.079924517632588, 9.18700489573467, 10.426903641901712, 9.88733349731585, 8.922414910168103, 8.688576799065336, 7.768588302958154, 7.596805054226761, 7.747898456783509, 9.147428259624473, 8.525599713181661, 10.658035961343401, 33.22713601664759, 16.85973974846884, 17.47276133818145, 15.827484637239436, 12.283928748768234, 11.431768372837416, 13.469845362291277, 8.163001403253194, 6.199032594527155, 6.198158747611226, 6.021371267023762, 5.779410531180868, 5.798872023259541, 5.805122601827766, 5.463198384666858, 5.117092626417188, 5.4366351413373355, 4.8358892167206555, 8.61226951473141, 5.452869640330272, 5.266342538752186, 6.852117355762569, 6.9674582114844235, 6.1529048003085265, 5.2623120782359, 4.456144752998864, 4.836771993513981, 5.482592791978675, 4.493507446074483, 5.116594238150473, 9.121105907726175, 9.264889843708094, 8.177994888629026, 8.477808100728897, 12.000074509643829, 11.57403511853804, 5.967968639960055], \"Category\": [\"Default\", \"Default\", \"Default\", \"Default\", \"Default\", \"Default\", \"Default\", \"Default\", \"Default\", \"Default\", \"Default\", \"Default\", \"Default\", \"Default\", \"Default\", \"Default\", \"Default\", \"Default\", \"Default\", \"Default\", \"Default\", \"Default\", \"Default\", \"Default\", \"Default\", \"Default\", \"Default\", \"Default\", \"Default\", \"Default\", \"Topic1\", \"Topic1\", \"Topic1\", \"Topic1\", \"Topic1\", \"Topic1\", \"Topic1\", \"Topic1\", \"Topic1\", \"Topic1\", \"Topic1\", \"Topic1\", \"Topic1\", \"Topic1\", \"Topic1\", \"Topic1\", \"Topic1\", \"Topic1\", \"Topic1\", \"Topic1\", \"Topic1\", \"Topic1\", \"Topic1\", \"Topic1\", \"Topic1\", \"Topic1\", \"Topic1\", \"Topic1\", \"Topic1\", \"Topic1\", \"Topic1\", \"Topic1\", \"Topic1\", \"Topic1\", \"Topic1\", \"Topic1\", \"Topic1\", \"Topic1\", \"Topic1\", \"Topic2\", \"Topic2\", \"Topic2\", \"Topic2\", \"Topic2\", \"Topic2\", \"Topic2\", \"Topic2\", \"Topic2\", \"Topic2\", \"Topic2\", \"Topic2\", \"Topic2\", \"Topic2\", \"Topic2\", \"Topic2\", \"Topic2\", \"Topic2\", \"Topic2\", \"Topic2\", \"Topic2\", \"Topic2\", \"Topic2\", \"Topic2\", \"Topic2\", \"Topic2\", \"Topic2\", \"Topic2\", \"Topic2\", \"Topic2\", \"Topic2\", \"Topic2\", \"Topic2\", \"Topic2\", \"Topic2\", \"Topic2\", \"Topic2\", \"Topic2\", \"Topic2\", \"Topic2\", \"Topic2\", \"Topic2\", \"Topic3\", \"Topic3\", \"Topic3\", \"Topic3\", \"Topic3\", \"Topic3\", \"Topic3\", \"Topic3\", \"Topic3\", \"Topic3\", \"Topic3\", \"Topic3\", \"Topic3\", \"Topic3\", \"Topic3\", \"Topic3\", \"Topic3\", \"Topic3\", \"Topic3\", \"Topic3\", \"Topic3\", \"Topic3\", \"Topic3\", \"Topic3\", \"Topic3\", \"Topic3\", \"Topic3\", \"Topic3\", \"Topic3\", \"Topic3\", \"Topic3\", \"Topic3\", \"Topic3\", \"Topic3\", \"Topic3\", \"Topic3\", \"Topic3\", \"Topic3\", \"Topic3\", \"Topic3\", \"Topic3\", \"Topic4\", \"Topic4\", \"Topic4\", \"Topic4\", \"Topic4\", \"Topic4\", \"Topic4\", \"Topic4\", \"Topic4\", \"Topic4\", \"Topic4\", \"Topic4\", \"Topic4\", \"Topic4\", \"Topic4\", \"Topic4\", \"Topic4\", \"Topic4\", \"Topic4\", \"Topic4\", \"Topic4\", \"Topic4\", \"Topic4\", \"Topic4\", \"Topic4\", \"Topic4\", \"Topic4\", \"Topic4\", \"Topic4\", \"Topic4\", \"Topic4\", \"Topic4\", \"Topic4\", \"Topic4\", \"Topic4\", \"Topic4\", \"Topic4\", \"Topic4\", \"Topic4\", \"Topic5\", \"Topic5\", \"Topic5\", \"Topic5\", \"Topic5\", \"Topic5\", \"Topic5\", \"Topic5\", \"Topic5\", \"Topic5\", \"Topic5\", \"Topic5\", \"Topic5\", \"Topic5\", \"Topic5\", \"Topic5\", \"Topic5\", \"Topic5\", \"Topic5\", \"Topic5\", \"Topic5\", \"Topic5\", \"Topic5\", \"Topic5\", \"Topic5\", \"Topic5\", \"Topic5\", \"Topic5\", \"Topic5\", \"Topic5\", \"Topic5\", \"Topic5\", \"Topic5\", \"Topic6\", \"Topic6\", \"Topic6\", \"Topic6\", \"Topic6\", \"Topic6\", \"Topic6\", \"Topic6\", \"Topic6\", \"Topic6\", \"Topic6\", \"Topic6\", \"Topic6\", \"Topic6\", \"Topic6\", \"Topic6\", \"Topic6\", \"Topic6\", \"Topic6\", \"Topic6\", \"Topic6\", \"Topic6\", \"Topic6\", \"Topic6\", \"Topic6\", \"Topic6\", \"Topic6\", \"Topic6\", \"Topic6\", \"Topic6\", \"Topic6\", \"Topic6\", \"Topic6\", \"Topic6\", \"Topic6\", \"Topic6\", \"Topic6\"], \"logprob\": [30.0, 29.0, 28.0, 27.0, 26.0, 25.0, 24.0, 23.0, 22.0, 21.0, 20.0, 19.0, 18.0, 17.0, 16.0, 15.0, 14.0, 13.0, 12.0, 11.0, 10.0, 9.0, 8.0, 7.0, 6.0, 5.0, 4.0, 3.0, 2.0, 1.0, -3.663, -3.9653, -4.0618, -4.474, -4.1906, -4.5552, -4.5816, -4.6064, -4.6101, -4.814, -4.7787, -4.8825, -4.8777, -4.8595, -4.6959, -5.0598, -5.0368, -5.0044, -4.8532, -5.1808, -5.1485, -5.2486, -5.2979, -5.3488, -5.4241, -5.3069, -5.5804, -5.4993, -4.549, -5.5418, -5.0282, -4.9527, -5.3524, -4.9086, -4.0469, -5.2322, -4.6731, -4.4382, -4.7244, -4.6215, -5.1119, -5.2379, -5.5666, -5.1227, -5.8104, -5.5236, -5.6091, -5.3664, -5.4196, -4.9284, -5.7885, -5.9762, -6.026, -6.0266, -5.95, -5.9746, -6.0629, -6.0345, -4.0662, -6.1719, -5.9804, -5.703, -5.7492, -6.2836, -5.845, -6.0389, -6.1021, -6.2824, -6.1891, -3.8221, -5.7589, -3.9011, -5.4304, -3.4251, -5.9451, -5.5246, -5.344, -5.6975, -5.7969, -5.8612, -5.8931, -3.4589, -3.9817, -4.4386, -4.5187, -4.6655, -4.7867, -4.8566, -5.0544, -5.1434, -5.1386, -5.2408, -5.0579, -4.5479, -5.4242, -5.6066, -5.2556, -5.6542, -5.4896, -5.5831, -5.5638, -5.4452, -5.6538, -5.4024, -5.589, -5.1852, -6.0097, -5.8842, -6.0135, -6.0192, -5.9694, -4.6878, -4.4967, -4.7069, -5.4593, -4.6088, -4.7274, -5.3346, -4.982, -5.2636, -5.4664, -5.5389, -4.0836, -4.8351, -4.9128, -5.2426, -5.1559, -5.1895, -5.0129, -5.0416, -5.4589, -5.6324, -5.7341, -5.4139, -5.5389, -5.8098, -5.7776, -5.8849, -6.035, -6.1472, -6.0683, -6.1662, -6.2735, -6.3218, -6.3735, -6.5081, -6.49, -6.3808, -6.0646, -6.5021, -6.4538, -6.597, -6.2929, -5.8377, -3.7236, -5.6881, -5.3165, -5.801, -6.2832, -6.0901, -6.2761, -4.4829, -4.8598, -4.8463, -5.3347, -5.3048, -5.3427, -5.5162, -5.625, -5.6344, -5.6154, -5.4842, -5.7477, -5.7967, -5.8437, -6.0083, -5.8968, -5.8132, -6.197, -6.2413, -6.1529, -6.3047, -6.4741, -6.4654, -6.35, -6.4225, -6.5309, -6.5863, -6.7171, -6.7526, -6.7425, -6.5973, -6.6711, -6.7137, -4.4801, -5.3039, -5.2745, -5.4063, -5.6927, -5.8298, -5.7126, -6.3491, -6.7875, -6.7941, -6.8358, -6.8916, -6.9044, -6.9541, -7.0802, -7.1719, -7.1227, -7.2542, -6.6917, -7.1538, -7.2133, -6.9655, -6.9802, -7.1141, -7.2716, -7.4588, -7.3772, -7.2532, -7.4642, -7.3466, -6.778, -6.7672, -6.9795, -6.9964, -6.9936, -7.1054, -7.2529], \"loglift\": [30.0, 29.0, 28.0, 27.0, 26.0, 25.0, 24.0, 23.0, 22.0, 21.0, 20.0, 19.0, 18.0, 17.0, 16.0, 15.0, 14.0, 13.0, 12.0, 11.0, 10.0, 9.0, 8.0, 7.0, 6.0, 5.0, 4.0, 3.0, 2.0, 1.0, 0.3465, 0.3462, 0.3459, 0.3451, 0.3449, 0.3448, 0.3447, 0.3445, 0.3443, 0.3442, 0.3442, 0.3441, 0.344, 0.3438, 0.343, 0.3429, 0.3426, 0.342, 0.3419, 0.3418, 0.3416, 0.3415, 0.3414, 0.3413, 0.3406, 0.3401, 0.3401, 0.3401, 0.3399, 0.3395, 0.3389, 0.3374, 0.3392, 0.3286, 0.2921, 0.3337, 0.2865, 0.2326, 0.2127, 2.2328, 2.2222, 2.2113, 2.2025, 2.1934, 2.1916, 2.1895, 2.1834, 2.1816, 2.1803, 2.1775, 2.1762, 2.1757, 2.1728, 2.1721, 2.1715, 2.1691, 2.1585, 2.1555, 2.1554, 2.1549, 2.1547, 2.1535, 2.1531, 2.1484, 2.147, 2.1469, 2.1461, 2.145, 2.1397, 2.1376, 2.1349, 2.0665, 2.1148, 1.9637, 2.0364, 1.1141, 0.2476, 1.219, 1.0472, 0.7398, 0.6138, 2.2899, 2.2849, 2.2776, 2.2736, 2.2723, 2.2713, 2.2685, 2.2646, 2.2602, 2.26, 2.2588, 2.2587, 2.2443, 2.244, 2.2425, 2.2423, 2.239, 2.2378, 2.2376, 2.2367, 2.2314, 2.2308, 2.2297, 2.2291, 2.2211, 2.2142, 2.2141, 2.2103, 2.2073, 2.2029, 1.6833, 1.4793, 1.3448, 1.8379, 0.062, 0.2097, 1.0219, -0.643, 0.4809, 1.3977, -0.5792, 3.2036, 3.1662, 3.1653, 3.1428, 3.1382, 3.1355, 3.1327, 3.1314, 3.1081, 3.0915, 3.081, 3.0791, 3.0759, 3.0582, 3.0503, 3.0498, 3.0111, 3.0013, 2.9939, 2.9523, 2.9504, 2.9267, 2.9245, 2.9078, 2.9064, 2.9062, 2.9005, 2.9002, 2.8974, 2.8906, 2.8877, 2.8773, 1.9377, 2.6221, 2.45, 2.1318, 2.7753, 2.3151, 1.6972, 3.4259, 3.4153, 3.4147, 3.3673, 3.3634, 3.3413, 3.3375, 3.308, 3.3063, 3.2859, 3.2759, 3.2612, 3.2532, 3.2482, 3.244, 3.2288, 3.2197, 3.1997, 3.164, 3.1539, 3.1436, 3.1058, 3.1028, 3.0915, 3.0722, 3.0665, 3.0376, 3.0188, 3.0056, 2.996, 2.9751, 2.9718, 2.706, 3.8024, 3.6571, 3.6508, 3.6179, 3.585, 3.5198, 3.4729, 3.3373, 3.1741, 3.1676, 3.1549, 3.14, 3.1239, 3.0731, 3.0078, 2.9815, 2.9701, 2.9557, 2.941, 2.936, 2.9113, 2.8959, 2.8645, 2.8549, 2.8538, 2.8328, 2.8325, 2.8312, 2.8191, 2.8069, 2.7974, 2.7925, 2.705, 2.6521, 2.3075, 2.2318, 2.7467]}, \"token.table\": {\"Topic\": [1, 2, 3, 5, 1, 2, 3, 5, 1, 2, 3, 1, 2, 3, 4, 1, 2, 3, 4, 1, 2, 3, 5, 1, 2, 3, 4, 1, 2, 3, 5, 1, 2, 3, 1, 2, 3, 4, 1, 2, 3, 4, 1, 2, 3, 1, 2, 3, 4, 1, 2, 3, 1, 2, 3, 1, 2, 3, 5, 1, 2, 3, 5, 1, 2, 3, 5, 1, 2, 3, 1, 2, 3, 1, 2, 3, 5, 1, 2, 3, 4, 1, 2, 3, 1, 2, 3, 4, 1, 2, 3, 5, 1, 2, 3, 4, 6, 1, 2, 3, 6, 1, 2, 3, 6, 1, 2, 3, 1, 2, 3, 4, 1, 2, 3, 4, 1, 2, 3, 4, 1, 2, 3, 1, 2, 3, 1, 2, 3, 4, 1, 2, 3, 1, 2, 3, 1, 2, 3, 6, 1, 2, 3, 1, 2, 3, 1, 2, 3, 4, 6, 1, 2, 3, 1, 2, 3, 1, 2, 3, 4, 5, 1, 2, 3, 4, 1, 2, 3, 4, 1, 2, 3, 6, 1, 2, 3, 6, 1, 2, 3, 1, 2, 3, 4, 1, 2, 3, 5, 1, 2, 3, 5, 1, 2, 3, 5, 1, 2, 3, 5, 1, 2, 3, 1, 2, 3, 1, 2, 3, 4, 1, 2, 3, 4, 5, 1, 2, 3, 6, 1, 2, 3, 5, 1, 2, 3, 6, 1, 2, 3, 1, 2, 3, 1, 2, 3, 1, 2, 3, 1, 2, 3, 4, 1, 2, 3, 5, 1, 2, 3, 6, 1, 2, 3, 4, 1, 2, 3, 4, 1, 2, 3, 4, 1, 2, 3, 6, 1, 2, 3, 1, 2, 3, 5, 1, 2, 3, 1, 2, 3, 6, 1, 2, 3, 1, 2, 3, 4, 1, 2, 3, 4, 1, 2, 3, 4, 5, 1, 2, 3, 4, 1, 2, 3, 1, 2, 3, 4, 1, 2, 3, 1, 2, 3, 1, 2, 3, 1, 2, 3, 1, 2, 3, 1, 2, 3, 4, 1, 2, 3, 5, 1, 2, 3, 1, 2, 3, 1, 2, 3, 5, 1, 2, 3, 4, 1, 2, 3, 1, 2, 3, 4, 1, 2, 3, 4, 1, 2, 3, 1, 2, 3, 4, 1, 2, 3, 5, 1, 2, 3, 1, 2, 3, 1, 2, 3, 4, 1, 2, 3, 6, 1, 2, 3, 4, 1, 2, 3, 4, 1, 2, 3, 6, 1, 2, 3, 1, 2, 3, 6, 1, 2, 3, 1, 2, 3, 1, 2, 3, 4, 1, 2, 3, 4, 1, 2, 3, 4, 1, 2, 3, 4, 1, 2, 3, 5, 1, 2, 3, 1, 2, 3, 4, 1, 2, 3, 5, 1, 2, 3, 4, 1, 2, 3, 1, 2, 3, 4, 1, 2, 3, 1, 2, 3, 4, 6, 1, 2, 3, 6, 1, 2, 3, 5, 1, 2, 3, 4, 1, 2, 3, 1, 2, 3, 6, 1, 2, 3, 4, 1, 2, 3, 4, 1, 2, 3, 1, 2, 3, 4, 1, 2, 3, 4, 1, 2, 3, 6, 1, 2, 3, 4, 5, 1, 2, 3, 4, 1, 2, 3, 1, 2, 3, 1, 2, 3, 6, 1, 2, 3, 6, 1, 2, 3, 4, 1, 2, 3, 6, 1, 2, 3, 4, 1, 2, 3, 1, 2, 3, 1, 2, 3, 4, 1, 2, 3, 1, 2, 3, 4, 6, 1, 2, 3, 6, 1, 2, 3, 1, 2, 3, 1, 2, 3, 1, 2, 3, 1, 2, 3, 4, 1, 2, 3, 1, 2, 3, 5, 1, 2, 3, 4, 1, 2, 3, 4, 1, 2, 3, 1, 2, 3, 4, 1, 2, 3, 4, 1, 2, 3, 4, 1, 2, 3, 1, 2, 3, 1, 2, 3, 1, 2, 3, 6, 1, 2, 3, 4, 1, 2, 3, 4, 1, 2, 3, 5, 1, 2, 3, 6, 1, 2, 3, 4, 1, 2, 3, 1, 2, 3, 4, 1, 2, 3, 1, 2, 3, 5, 1, 2, 3, 4, 1, 2, 3, 4, 1, 2, 3, 1, 2, 3, 1, 2, 3, 1, 2, 3, 5, 1, 2, 3, 1, 2, 3, 1, 2, 3, 1, 2, 3, 4, 1, 2, 3, 1, 2, 3, 1, 2, 3, 4, 1, 2, 3, 5, 1, 2, 3, 6, 1, 2, 3, 1, 2, 3, 6, 1, 2, 3, 1, 2, 3, 4, 6, 1, 2, 3, 6, 1, 2, 3, 1, 2, 3, 4, 1, 2, 3, 5, 1, 2, 3, 1, 2, 3, 6, 1, 2, 3, 1, 2, 3, 6, 1, 2, 3, 1, 2, 3, 4, 6, 1, 2, 3, 1, 2, 3, 4, 1, 2, 3, 6, 1, 2, 3, 4, 1, 2, 3, 5, 1, 2, 3, 6, 1, 2, 3, 6, 1, 2, 3, 4, 1, 2, 3, 1, 2, 3, 4, 1, 2, 3, 1, 2, 3, 4, 1, 2, 3, 4, 1, 2, 3, 4, 1, 2, 3, 4, 1, 2, 3, 4, 1, 2, 3, 4, 1, 2, 3, 4, 6, 1, 2, 3, 4, 1, 2, 3, 1, 2, 3, 4, 1, 2, 3, 5], \"Freq\": [0.06222334142201271, 0.06222334142201271, 0.06222334142201271, 0.7466800970641525, 0.05812060710800273, 0.05812060710800273, 0.05812060710800273, 0.8136884995120381, 0.031454632872457, 0.9121843533012529, 0.031454632872457, 0.08391286757571967, 0.041956433787859834, 0.041956433787859834, 0.8391286757571966, 0.8275568412529987, 0.00475607380030459, 0.16170650921035606, 0.002378036900152295, 0.12906725682813655, 0.12906725682813655, 0.12906725682813655, 0.6453362841406828, 0.1961741514057748, 0.06539138380192493, 0.06539138380192493, 0.6539138380192493, 0.06373365461096588, 0.06373365461096588, 0.06373365461096588, 0.7010702007206246, 0.8739516548471478, 0.0010606209403484803, 0.12409265002077219, 0.052485550191605994, 0.026242775095802997, 0.026242775095802997, 0.8922543532573018, 0.9932933322890026, 0.002140718388553885, 0.002140718388553885, 0.002140718388553885, 0.020387942248808362, 0.020387942248808362, 0.9378453434451847, 0.4494576822474154, 0.004450076061855598, 0.5429092795463829, 0.004450076061855598, 0.9962080701579238, 0.0012771898335357996, 0.0012771898335357996, 0.05011938659586629, 0.012529846648966572, 0.9272086520235263, 0.029872379799644928, 0.029872379799644928, 0.029872379799644928, 0.8961713939893478, 0.07937302910858818, 0.07937302910858818, 0.07937302910858818, 0.7143572619772937, 0.08992362793435711, 0.044961813967178556, 0.044961813967178556, 0.8093126514092139, 0.018584980678801658, 0.018584980678801658, 0.9478340146188845, 0.006780717686511196, 0.006780717686511196, 0.9764233468576123, 0.1150936480307769, 0.1150936480307769, 0.1150936480307769, 0.5754682401538845, 0.9953730170251155, 0.0016507015207713359, 0.0016507015207713359, 0.0016507015207713359, 0.004008648634382234, 0.004008648634382234, 0.9901362126924118, 0.03140272104163031, 0.03140272104163031, 0.03140272104163031, 0.8792761891656486, 0.09703758490133256, 0.04851879245066628, 0.04851879245066628, 0.7763006792106605, 0.05723193836653635, 0.05723193836653635, 0.05723193836653635, 0.05723193836653635, 0.801247137131509, 0.05931289657604694, 0.05931289657604694, 0.05931289657604694, 0.7710676554886102, 0.08140718010109547, 0.08140718010109547, 0.08140718010109547, 0.7326646209098593, 0.05567464338432531, 0.9279107230720884, 0.009279107230720885, 0.6713121955768213, 0.29994800227900525, 0.0071416191018810775, 0.02142485730564323, 0.040000115479742734, 0.040000115479742734, 0.040000115479742734, 0.8800025405543401, 0.04637754133618743, 0.04637754133618743, 0.18551016534474973, 0.6956631200428115, 0.02845381323825661, 0.02845381323825661, 0.9105220236242115, 0.012433137525286237, 0.012433137525286237, 0.9697847269723265, 0.03141060710382586, 0.01570530355191293, 0.9423182131147757, 0.01570530355191293, 0.02767652537293567, 0.913325337306877, 0.02767652537293567, 0.025616840783519848, 0.9222062682067146, 0.025616840783519848, 0.43200145401248524, 0.1728005816049941, 0.1728005816049941, 0.1728005816049941, 0.9963417400553876, 0.0013231630014015772, 0.0013231630014015772, 0.04080135834419424, 0.8976298835722734, 0.04080135834419424, 0.11611341218356969, 0.11611341218356969, 0.23222682436713937, 0.11611341218356969, 0.34834023655070906, 0.028309954157055915, 0.9059185330257893, 0.028309954157055915, 0.997962354174626, 0.0005673464207928516, 0.0005673464207928516, 0.08381508226923967, 0.08381508226923967, 0.08381508226923967, 0.08381508226923967, 0.6705206581539174, 0.06187866011169876, 0.03093933005584938, 0.34033263061434316, 0.5259686109494395, 0.05125933215106415, 0.05125933215106415, 0.05125933215106415, 0.8201493144170264, 0.1898851038726663, 0.1898851038726663, 0.1898851038726663, 0.3797702077453326, 0.2067872019363848, 0.2067872019363848, 0.2067872019363848, 0.4135744038727696, 0.013755009565858494, 0.013755009565858494, 0.9628506696100946, 0.9940115513734448, 0.0013729441317312774, 0.0013729441317312774, 0.002745888263462555, 0.06482727680974229, 0.06482727680974229, 0.06482727680974229, 0.7779273217169075, 0.11174890544946253, 0.055874452724731266, 0.055874452724731266, 0.7822423381462378, 0.05767277429996944, 0.05767277429996944, 0.05767277429996944, 0.8074188401995722, 0.19181149732340194, 0.09590574866170097, 0.09590574866170097, 0.6713402406319068, 0.9924574626059509, 0.002426546363339733, 0.002426546363339733, 0.011482258158891681, 0.011482258158891681, 0.9645096853469012, 0.5103101617755578, 0.03402067745170385, 0.03402067745170385, 0.4082481294204462, 0.04141813205694817, 0.020709066028474086, 0.020709066028474086, 0.020709066028474086, 0.8904898392243856, 0.19542347051477268, 0.19542347051477268, 0.19542347051477268, 0.39084694102954537, 0.11207728065418553, 0.11207728065418553, 0.11207728065418553, 0.6724636839251131, 0.22440922713002695, 0.22440922713002695, 0.22440922713002695, 0.4488184542600539, 0.6104405917026398, 0.2184145236367243, 0.1624107996273078, 0.007842891097496153, 0.007842891097496153, 0.972518496089523, 0.061722785422089366, 0.9052675195239774, 0.020574261807363124, 0.604663609182873, 0.006466990472544096, 0.3847859331163737, 0.043312328197281195, 0.9239963348753322, 0.014437442732427065, 0.014437442732427065, 0.09169448324498392, 0.09169448324498392, 0.09169448324498392, 0.7335558659598713, 0.1833896766216167, 0.1833896766216167, 0.1833896766216167, 0.3667793532432334, 0.9944623641551132, 0.0020378327134326093, 0.0020378327134326093, 0.0020378327134326093, 0.9952229124225874, 0.0016896823640451398, 0.0016896823640451398, 0.0016896823640451398, 0.034945435065780156, 0.908581311710284, 0.034945435065780156, 0.034945435065780156, 0.173028026752008, 0.173028026752008, 0.173028026752008, 0.519084080256024, 0.0023883100661883636, 0.0023883100661883636, 0.9935369875343593, 0.23458760289997496, 0.11729380144998748, 0.11729380144998748, 0.5864690072499374, 0.16349969809511775, 0.8293893776097792, 0.0029727217835475955, 0.2225433054247184, 0.2225433054247184, 0.2225433054247184, 0.4450866108494368, 0.9931683906057748, 0.0022520825183804417, 0.0022520825183804417, 0.10042374667411265, 0.10042374667411265, 0.10042374667411265, 0.7029662267187886, 0.997367386543954, 0.0007098700260099317, 0.0007098700260099317, 0.0007098700260099317, 0.7951509349473289, 0.19369061235896473, 0.005097121377867493, 0.005097121377867493, 0.005097121377867493, 0.9973015485601656, 0.0009426290629113097, 0.0009426290629113097, 0.0009426290629113097, 0.8906831499464287, 0.0008126671076153547, 0.10727205820522681, 0.03335680001772378, 0.03335680001772378, 0.03335680001772378, 0.900633600478542, 0.9459417965722835, 0.000583194695790557, 0.05307071731694069, 0.04068242613657344, 0.006780404356095573, 0.9492566098533802, 0.03283620963486697, 0.016418104817433485, 0.9358319745937086, 0.6687809387909815, 0.31985175333481725, 0.005815486424269405, 0.01800987633722822, 0.9545234458730956, 0.01800987633722822, 0.08761957317559399, 0.08761957317559399, 0.08761957317559399, 0.7009565854047519, 0.04425596070189612, 0.04425596070189612, 0.04425596070189612, 0.8408632533360264, 0.007214839325415416, 0.9812181482564966, 0.007214839325415416, 0.08429936956311578, 0.9081341175662927, 0.0038317895255961716, 0.108849403189529, 0.108849403189529, 0.108849403189529, 0.653096419137174, 0.11911051605155869, 0.059555258025779344, 0.11911051605155869, 0.7146630963093521, 0.019508978680863504, 0.019508978680863504, 0.9559399553623118, 0.022715823550064806, 0.022715823550064806, 0.022715823550064806, 0.931348765552657, 0.017027739175772622, 0.9365256546674942, 0.017027739175772622, 0.017027739175772622, 0.02190092479766952, 0.9198388415021198, 0.02190092479766952, 0.06562935746348887, 0.06562935746348887, 0.06562935746348887, 0.7875522895618664, 0.10932034355643613, 0.10932034355643613, 0.10932034355643613, 0.5466017177821807, 0.016282614289373564, 0.016282614289373564, 0.9443916287836667, 0.10322422343882807, 0.8906775851007451, 0.0029492635268236595, 0.14775096264305487, 0.07387548132152744, 0.07387548132152744, 0.6648793318937469, 0.12227936231538068, 0.36683808694614206, 0.12227936231538068, 0.24455872463076136, 0.5029768106087124, 0.017963457521739726, 0.017963457521739726, 0.44908643804349313, 0.07154875945118015, 0.07154875945118015, 0.07154875945118015, 0.7870363539629817, 0.17244733044443025, 0.17244733044443025, 0.17244733044443025, 0.5173419913332908, 0.10078307156838606, 0.8638548991575947, 0.014397581652626579, 0.18304295937826892, 0.18304295937826892, 0.18304295937826892, 0.36608591875653784, 0.03434656133763124, 0.938806009895254, 0.011448853779210413, 0.9889048102981057, 0.007548891681664929, 0.0015097783363329858, 0.9946271969956253, 0.0011742942113289556, 0.0023485884226579113, 0.0011742942113289556, 0.02224700884442363, 0.011123504422211815, 0.011123504422211815, 0.9566213803102162, 0.09166553047456748, 0.09166553047456748, 0.09166553047456748, 0.7333242437965398, 0.07907431291558428, 0.07907431291558428, 0.07907431291558428, 0.7116688162402586, 0.029452416471518965, 0.029452416471518965, 0.029452416471518965, 0.8835724941455689, 0.01249607081423331, 0.01249607081423331, 0.9621974526959649, 0.01891378102571743, 0.01891378102571743, 0.9267752702601539, 0.01891378102571743, 0.12872351590818837, 0.12872351590818837, 0.12872351590818837, 0.6436175795409418, 0.05394029897357382, 0.02697014948678691, 0.02697014948678691, 0.8900149330639681, 0.0062838286392083035, 0.0062838286392083035, 0.9802772677164953, 0.8592061480111811, 0.13469740087586213, 0.002040869710240335, 0.002040869710240335, 0.06303521847305281, 0.8824930586227392, 0.031517609236526405, 0.21586872955194666, 0.21586872955194666, 0.10793436477597333, 0.10793436477597333, 0.32380309432792004, 0.20674946045440656, 0.20674946045440656, 0.20674946045440656, 0.41349892090881313, 0.06760193072077815, 0.06760193072077815, 0.06760193072077815, 0.7436212379285597, 0.9960917723299093, 0.0010791893524701077, 0.0010791893524701077, 0.0010791893524701077, 0.03687122824085183, 0.9402163201417216, 0.018435614120425915, 0.08747553024045357, 0.08747553024045357, 0.08747553024045357, 0.6998042419236286, 0.992293069297838, 0.0021571588462996477, 0.0021571588462996477, 0.0021571588462996477, 0.08308167930363616, 0.08308167930363616, 0.08308167930363616, 0.7477351137327255, 0.026193438639925647, 0.9167703523973976, 0.026193438639925647, 0.7289828360444941, 0.022090388971045274, 0.022090388971045274, 0.22090388971045274, 0.5485425188286599, 0.005995000205777704, 0.44063251512466123, 0.002997500102888852, 0.1225039603204614, 0.1225039603204614, 0.1225039603204614, 0.612519801602307, 0.06992488011789344, 0.06992488011789344, 0.06992488011789344, 0.06992488011789344, 0.7691736812968278, 0.9913654232244831, 0.003261070471133168, 0.003261070471133168, 0.001630535235566584, 0.5755484804586699, 0.007285423803274303, 0.407983732983361, 0.02021339802063989, 0.02021339802063989, 0.9298163089494349, 0.17226165037154356, 0.17226165037154356, 0.17226165037154356, 0.5167849511146307, 0.14594029087359528, 0.14594029087359528, 0.29188058174719056, 0.29188058174719056, 0.9909719983986357, 0.0026147018427404634, 0.0026147018427404634, 0.0026147018427404634, 0.10963582816782495, 0.32890748450347485, 0.10963582816782495, 0.32890748450347485, 0.0821766421122265, 0.0821766421122265, 0.0821766421122265, 0.7395897790100385, 0.011656706315533089, 0.9675066241892464, 0.011656706315533089, 0.9953774743353674, 0.0014098831081237498, 0.0014098831081237498, 0.0259704387137483, 0.9089653549811905, 0.0259704387137483, 0.0259704387137483, 0.9938587435433291, 0.0018438937728076606, 0.0018438937728076606, 0.16756120219939583, 0.16756120219939583, 0.16756120219939583, 0.16756120219939583, 0.33512240439879165, 0.06318123333679734, 0.06318123333679734, 0.06318123333679734, 0.758174800041568, 0.7104773320311567, 0.004385662543402202, 0.2806824027777409, 0.34826091217340466, 0.011234222973335633, 0.6291164865067955, 0.0283786246615789, 0.0283786246615789, 0.9081159891705248, 0.02767619547955491, 0.913314450825312, 0.02767619547955491, 0.6219462585608615, 0.3532040480716004, 0.015356697742243495, 0.007678348871121747, 0.9960227581790616, 0.001416817579202079, 0.001416817579202079, 0.10113950341327857, 0.10113950341327857, 0.10113950341327857, 0.6068370204796714, 0.07429046448723976, 0.03714523224361988, 0.03714523224361988, 0.8543403416032573, 0.045014106486869515, 0.9002821297373903, 0.022507053243434758, 0.022507053243434758, 0.9865695182490197, 0.007956205792330804, 0.001989051448082701, 0.02695320060499761, 0.02695320060499761, 0.9164088205699188, 0.02695320060499761, 0.09346997945357469, 0.09346997945357469, 0.09346997945357469, 0.7477598356285975, 0.027317701148419884, 0.9014841378978562, 0.027317701148419884, 0.027317701148419884, 0.996916323631132, 0.0010754221398394089, 0.0010754221398394089, 0.008845029509938962, 0.008845029509938962, 0.9729532460932858, 0.03478563500006672, 0.9044265100017347, 0.03478563500006672, 0.16607512735122862, 0.16607512735122862, 0.16607512735122862, 0.49822538205368583, 0.7265130362208765, 0.0021882922777737243, 0.0021882922777737243, 0.26915995016616806, 0.06457965331551745, 0.06457965331551745, 0.06457965331551745, 0.7749558397862093, 0.11013307413052487, 0.11013307413052487, 0.11013307413052487, 0.6607984447831492, 0.16133823619561222, 0.16133823619561222, 0.16133823619561222, 0.4840147085868367, 0.9915639326435376, 0.0010107685348048293, 0.006064611208828976, 0.0010107685348048293, 0.13363039494680715, 0.8017823696808429, 0.022271732491134524, 0.6363371766897564, 0.02121123922299188, 0.02121123922299188, 0.3181685883448782, 0.011454970629380641, 0.011454970629380641, 0.962217532867974, 0.09656096168334802, 0.09656096168334802, 0.09656096168334802, 0.6759267317834361, 0.05192421872211577, 0.05192421872211577, 0.05192421872211577, 0.8307874995538523, 0.030410183873610518, 0.9275106081451208, 0.015205091936805259, 0.015205091936805259, 0.009457951501662747, 0.009457951501662747, 0.974169004671263, 0.9984166341030136, 0.000419502787438241, 0.000419502787438241, 0.992541041071396, 0.0027267611018444945, 0.0027267611018444945, 0.05328035545312306, 0.05328035545312306, 0.05328035545312306, 0.7992053317968459, 0.996812726902472, 0.001049276554634181, 0.001049276554634181, 0.05815891350823266, 0.9014631593776061, 0.02907945675411633, 0.9943094947024153, 0.0019048074611157382, 0.0019048074611157382, 0.9982578262552738, 0.0006246920064175681, 0.0006246920064175681, 0.0006246920064175681, 0.058963017826314114, 0.9040996066701498, 0.019654339275438037, 0.02743387217690731, 0.9053177818379412, 0.02743387217690731, 0.07714455903616123, 0.07714455903616123, 0.07714455903616123, 0.7714455903616123, 0.09382591723531342, 0.37530366894125367, 0.09382591723531342, 0.4691295861765671, 0.1954425059825491, 0.1954425059825491, 0.1954425059825491, 0.3908850119650982, 0.24828156333630252, 0.7481773284429519, 0.0016663192170221647, 0.183937302026491, 0.183937302026491, 0.183937302026491, 0.367874604052982, 0.02503154312390276, 0.02503154312390276, 0.9261670955844021, 0.16252486141990313, 0.16252486141990313, 0.16252486141990313, 0.16252486141990313, 0.32504972283980627, 0.16131549314369706, 0.16131549314369706, 0.16131549314369706, 0.4839464794310912, 0.028382621168477503, 0.028382621168477503, 0.9082438773912801, 0.9808258456423866, 0.0014318625483830461, 0.01575048803221351, 0.0014318625483830461, 0.09249148619235448, 0.09249148619235448, 0.09249148619235448, 0.6474404033464813, 0.026409676161512154, 0.9243386656529253, 0.026409676161512154, 0.4999968954507837, 0.1666656318169279, 0.08333281590846395, 0.1666656318169279, 0.02273394942945993, 0.9320919266078572, 0.02273394942945993, 0.030095883060730123, 0.030095883060730123, 0.030095883060730123, 0.9028764918219037, 0.9964494427783885, 0.0010219994284906548, 0.0010219994284906548, 0.14352436278006023, 0.14352436278006023, 0.14352436278006023, 0.14352436278006023, 0.28704872556012045, 0.018963221552237793, 0.018963221552237793, 0.9481610776118896, 0.9901945600520919, 0.0022555684739227607, 0.0022555684739227607, 0.0022555684739227607, 0.1823954537464561, 0.1823954537464561, 0.1823954537464561, 0.3647909074929122, 0.027463722918641752, 0.013731861459320876, 0.9474984406931405, 0.013731861459320876, 0.13163428478971081, 0.13163428478971081, 0.13163428478971081, 0.5265371391588433, 0.1900305388834394, 0.1900305388834394, 0.1900305388834394, 0.3800610777668788, 0.35386505147976505, 0.11795501715992167, 0.11795501715992167, 0.23591003431984334, 0.046788758740337, 0.046788758740337, 0.046788758740337, 0.842197657326066, 0.013079709975224414, 0.9548188281913822, 0.013079709975224414, 0.05777374586856335, 0.05777374586856335, 0.05777374586856335, 0.8088324421598868, 0.995239902641142, 0.001384200142755413, 0.001384200142755413, 0.054047085885534744, 0.054047085885534744, 0.054047085885534744, 0.8107062882830212, 0.01727457820505334, 0.01727457820505334, 0.9501018012779338, 0.01727457820505334, 0.0922061730169927, 0.0922061730169927, 0.0922061730169927, 0.7376493841359416, 0.030443178103485933, 0.030443178103485933, 0.030443178103485933, 0.8828521650010921, 0.0694266043431169, 0.0694266043431169, 0.0694266043431169, 0.7636926477742859, 0.9406022923318424, 0.0021697861414806054, 0.05641443967849574, 0.0010848930707403027, 0.14847980405172162, 0.07423990202586081, 0.07423990202586081, 0.07423990202586081, 0.6681591182327473, 0.024529770820462034, 0.024529770820462034, 0.024529770820462034, 0.9076015203570953, 0.9925131598252936, 0.0028357518852151244, 0.0028357518852151244, 0.9934723264974087, 0.0015972223898672166, 0.0015972223898672166, 0.0015972223898672166, 0.04577849203446864, 0.04577849203446864, 0.04577849203446864, 0.8697913486549043], \"Term\": [\"abilities\", \"abilities\", \"abilities\", \"abilities\", \"absolute\", \"absolute\", \"absolute\", \"absolute\", \"advice\", \"advice\", \"advice\", \"already\", \"already\", \"already\", \"already\", \"also\", \"also\", \"also\", \"also\", \"alternative\", \"alternative\", \"alternative\", \"alternative\", \"apparently\", \"apparently\", \"apparently\", \"apparently\", \"appear\", \"appear\", \"appear\", \"appear\", \"area\", \"area\", \"area\", \"avoid\", \"avoid\", \"avoid\", \"avoid\", \"back\", \"back\", \"back\", \"back\", \"bar\", \"bar\", \"bar\", \"base\", \"base\", \"base\", \"base\", \"beginner\", \"beginner\", \"beginner\", \"black\", \"black\", \"black\", \"boarding\", \"boarding\", \"boarding\", \"boarding\", \"boring\", \"boring\", \"boring\", \"boring\", \"bought\", \"bought\", \"bought\", \"bought\", \"bring\", \"bring\", \"bring\", \"building\", \"building\", \"building\", \"bunch\", \"bunch\", \"bunch\", \"bunch\", \"bus\", \"bus\", \"bus\", \"bus\", \"cafe\", \"cafe\", \"cafe\", \"card\", \"card\", \"card\", \"card\", \"carpet\", \"carpet\", \"carpet\", \"carpet\", \"carry\", \"carry\", \"carry\", \"carry\", \"carry\", \"cater\", \"cater\", \"cater\", \"cater\", \"caters\", \"caters\", \"caters\", \"caters\", \"centre\", \"centre\", \"centre\", \"chain\", \"chain\", \"chain\", \"chain\", \"chains\", \"chains\", \"chains\", \"chains\", \"charge\", \"charge\", \"charge\", \"charge\", \"clean\", \"clean\", \"clean\", \"coffee\", \"coffee\", \"coffee\", \"cold\", \"cold\", \"cold\", \"cold\", \"confidence\", \"confidence\", \"confidence\", \"control\", \"control\", \"control\", \"conveyor\", \"conveyor\", \"conveyor\", \"conveyor\", \"coronet\", \"coronet\", \"coronet\", \"crowded\", \"crowded\", \"crowded\", \"currently\", \"currently\", \"currently\", \"currently\", \"currently\", \"customer_service\", \"customer_service\", \"customer_service\", \"day\", \"day\", \"day\", \"design\", \"design\", \"design\", \"design\", \"design\", \"difficult\", \"difficult\", \"difficult\", \"difficult\", \"dirt\", \"dirt\", \"dirt\", \"dirt\", \"dislikes\", \"dislikes\", \"dislikes\", \"dislikes\", \"dollars\", \"dollars\", \"dollars\", \"dollars\", \"drink\", \"drink\", \"drink\", \"drive\", \"drive\", \"drive\", \"drive\", \"dry\", \"dry\", \"dry\", \"dry\", \"dump\", \"dump\", \"dump\", \"dump\", \"easily\", \"easily\", \"easily\", \"easily\", \"easily_accessible\", \"easily_accessible\", \"easily_accessible\", \"easily_accessible\", \"easy\", \"easy\", \"easy\", \"eat\", \"eat\", \"eat\", \"edge\", \"edge\", \"edge\", \"edge\", \"either\", \"either\", \"either\", \"either\", \"either\", \"enjoys\", \"enjoys\", \"enjoys\", \"enjoys\", \"environment\", \"environment\", \"environment\", \"environment\", \"eternally\", \"eternally\", \"eternally\", \"eternally\", \"excellent\", \"excellent\", \"excellent\", \"expensive\", \"expensive\", \"expensive\", \"face\", \"face\", \"face\", \"facility\", \"facility\", \"facility\", \"fall\", \"fall\", \"fall\", \"fall\", \"favorite\", \"favorite\", \"favorite\", \"favorite\", \"fee\", \"fee\", \"fee\", \"fee\", \"field\", \"field\", \"field\", \"field\", \"first\", \"first\", \"first\", \"first\", \"fitting\", \"fitting\", \"fitting\", \"fitting\", \"fluffy\", \"fluffy\", \"fluffy\", \"fluffy\", \"food\", \"food\", \"food\", \"frankton\", \"frankton\", \"frankton\", \"frankton\", \"friendly\", \"friendly\", \"friendly\", \"frustrating\", \"frustrating\", \"frustrating\", \"frustrating\", \"fun\", \"fun\", \"fun\", \"gate\", \"gate\", \"gate\", \"gate\", \"get\", \"get\", \"get\", \"get\", \"give\", \"give\", \"give\", \"give\", \"give\", \"go\", \"go\", \"go\", \"go\", \"good\", \"good\", \"good\", \"gravel\", \"gravel\", \"gravel\", \"gravel\", \"great\", \"great\", \"great\", \"green\", \"green\", \"green\", \"groom\", \"groom\", \"groom\", \"group\", \"group\", \"group\", \"guy\", \"guy\", \"guy\", \"hairpin\", \"hairpin\", \"hairpin\", \"hairpin\", \"happen\", \"happen\", \"happen\", \"happen\", \"help\", \"help\", \"help\", \"helpful\", \"helpful\", \"helpful\", \"highly\", \"highly\", \"highly\", \"highly\", \"hold\", \"hold\", \"hold\", \"hold\", \"hot\", \"hot\", \"hot\", \"ice\", \"ice\", \"ice\", \"ice\", \"improve\", \"improve\", \"improve\", \"improve\", \"incredible\", \"incredible\", \"incredible\", \"information\", \"information\", \"information\", \"information\", \"infrastructure\", \"infrastructure\", \"infrastructure\", \"infrastructure\", \"inside\", \"inside\", \"inside\", \"instructor\", \"instructor\", \"instructor\", \"japan\", \"japan\", \"japan\", \"japan\", \"kim\", \"kim\", \"kim\", \"kim\", \"km\", \"km\", \"km\", \"km\", \"land\", \"land\", \"land\", \"land\", \"landscape\", \"landscape\", \"landscape\", \"landscape\", \"late\", \"late\", \"late\", \"launch\", \"launch\", \"launch\", \"launch\", \"learner\", \"learner\", \"learner\", \"lesson\", \"lesson\", \"lesson\", \"lift\", \"lift\", \"lift\", \"lift\", \"line\", \"line\", \"line\", \"line\", \"list\", \"list\", \"list\", \"list\", \"live\", \"live\", \"live\", \"live\", \"local\", \"local\", \"local\", \"local\", \"locker\", \"locker\", \"locker\", \"lodge\", \"lodge\", \"lodge\", \"lodge\", \"lord\", \"lord\", \"lord\", \"lord\", \"low\", \"low\", \"low\", \"low\", \"lunch\", \"lunch\", \"lunch\", \"make\", \"make\", \"make\", \"make\", \"man\", \"man\", \"man\", \"men\", \"men\", \"men\", \"men\", \"men\", \"million\", \"million\", \"million\", \"million\", \"mostly\", \"mostly\", \"mostly\", \"mostly\", \"mountain\", \"mountain\", \"mountain\", \"mountain\", \"move\", \"move\", \"move\", \"mt\", \"mt\", \"mt\", \"mt\", \"much\", \"much\", \"much\", \"much\", \"muddy\", \"muddy\", \"muddy\", \"muddy\", \"name\", \"name\", \"name\", \"narrow\", \"narrow\", \"narrow\", \"narrow\", \"new\", \"new\", \"new\", \"new\", \"north_island\", \"north_island\", \"north_island\", \"north_island\", \"oh\", \"oh\", \"oh\", \"oh\", \"oh\", \"one\", \"one\", \"one\", \"one\", \"option\", \"option\", \"option\", \"outside\", \"outside\", \"outside\", \"overdue\", \"overdue\", \"overdue\", \"overdue\", \"pair\", \"pair\", \"pair\", \"pair\", \"park\", \"park\", \"park\", \"park\", \"participate\", \"participate\", \"participate\", \"participate\", \"path\", \"path\", \"path\", \"path\", \"patient\", \"patient\", \"patient\", \"peak\", \"peak\", \"peak\", \"person\", \"person\", \"person\", \"person\", \"place\", \"place\", \"place\", \"plane\", \"plane\", \"plane\", \"plane\", \"plane\", \"pleasant\", \"pleasant\", \"pleasant\", \"pleasant\", \"plenty\", \"plenty\", \"plenty\", \"price\", \"price\", \"price\", \"pricey\", \"pricey\", \"pricey\", \"professional\", \"professional\", \"professional\", \"put\", \"put\", \"put\", \"put\", \"queenstown\", \"queenstown\", \"queenstown\", \"question\", \"question\", \"question\", \"question\", \"rail\", \"rail\", \"rail\", \"rail\", \"real\", \"real\", \"real\", \"real\", \"really\", \"really\", \"really\", \"reasonable\", \"reasonable\", \"reasonable\", \"reasonable\", \"recommended\", \"recommended\", \"recommended\", \"recommended\", \"refund\", \"refund\", \"refund\", \"refund\", \"remarkables\", \"remarkables\", \"remarkables\", \"restaurant\", \"restaurant\", \"restaurant\", \"review\", \"review\", \"review\", \"riders\", \"riders\", \"riders\", \"riders\", \"road\", \"road\", \"road\", \"road\", \"rock\", \"rock\", \"rock\", \"rock\", \"route\", \"route\", \"route\", \"route\", \"ruapehu\", \"ruapehu\", \"ruapehu\", \"ruapehu\", \"run\", \"run\", \"run\", \"run\", \"school_holidays\", \"school_holidays\", \"school_holidays\", \"seal\", \"seal\", \"seal\", \"seal\", \"seat\", \"seat\", \"seat\", \"shot\", \"shot\", \"shot\", \"shot\", \"sign\", \"sign\", \"sign\", \"sign\", \"since\", \"since\", \"since\", \"since\", \"sit\", \"sit\", \"sit\", \"ski\", \"ski\", \"ski\", \"skier\", \"skier\", \"skier\", \"skiiers\", \"skiiers\", \"skiiers\", \"skiiers\", \"skiing\", \"skiing\", \"skiing\", \"skis\", \"skis\", \"skis\", \"slope\", \"slope\", \"slope\", \"snow\", \"snow\", \"snow\", \"snow\", \"snowboarding\", \"snowboarding\", \"snowboarding\", \"someone\", \"someone\", \"someone\", \"somewhat\", \"somewhat\", \"somewhat\", \"somewhat\", \"speak\", \"speak\", \"speak\", \"speak\", \"spill\", \"spill\", \"spill\", \"spill\", \"staff\", \"staff\", \"staff\", \"stash\", \"stash\", \"stash\", \"stash\", \"storage\", \"storage\", \"storage\", \"strip\", \"strip\", \"strip\", \"strip\", \"strip\", \"switch\", \"switch\", \"switch\", \"switch\", \"table\", \"table\", \"table\", \"take\", \"take\", \"take\", \"take\", \"talk\", \"talk\", \"talk\", \"talk\", \"team\", \"team\", \"team\", \"terrific\", \"terrific\", \"terrific\", \"terrific\", \"thank\", \"thank\", \"thank\", \"thanks\", \"thanks\", \"thanks\", \"thanks\", \"time\", \"time\", \"time\", \"tips\", \"tips\", \"tips\", \"tips\", \"tips\", \"toilet\", \"toilet\", \"toilet\", \"top\", \"top\", \"top\", \"top\", \"tops\", \"tops\", \"tops\", \"tops\", \"trail\", \"trail\", \"trail\", \"trail\", \"training\", \"training\", \"training\", \"training\", \"undergo\", \"undergo\", \"undergo\", \"undergo\", \"unique\", \"unique\", \"unique\", \"unique\", \"unsealed\", \"unsealed\", \"unsealed\", \"unsealed\", \"us\", \"us\", \"us\", \"vehicle\", \"vehicle\", \"vehicle\", \"vehicle\", \"view\", \"view\", \"view\", \"visibility\", \"visibility\", \"visibility\", \"visibility\", \"warm\", \"warm\", \"warm\", \"warm\", \"warn\", \"warn\", \"warn\", \"warn\", \"wd\", \"wd\", \"wd\", \"wd\", \"website\", \"website\", \"website\", \"website\", \"well\", \"well\", \"well\", \"well\", \"whether\", \"whether\", \"whether\", \"whether\", \"whether\", \"windy\", \"windy\", \"windy\", \"windy\", \"worth\", \"worth\", \"worth\", \"would\", \"would\", \"would\", \"would\", \"wow\", \"wow\", \"wow\", \"wow\"]}, \"R\": 30, \"lambda.step\": 0.01, \"plot.opts\": {\"xlab\": \"PC1\", \"ylab\": \"PC2\"}, \"topic.order\": [1, 2, 3, 5, 4, 6]};\n",
       "\n",
       "function LDAvis_load_lib(url, callback){\n",
       "  var s = document.createElement('script');\n",
       "  s.src = url;\n",
       "  s.async = true;\n",
       "  s.onreadystatechange = s.onload = callback;\n",
       "  s.onerror = function(){console.warn(\"failed to load library \" + url);};\n",
       "  document.getElementsByTagName(\"head\")[0].appendChild(s);\n",
       "}\n",
       "\n",
       "if(typeof(LDAvis) !== \"undefined\"){\n",
       "   // already loaded: just create the visualization\n",
       "   !function(LDAvis){\n",
       "       new LDAvis(\"#\" + \"ldavis_el928020385701886887164841627\", ldavis_el928020385701886887164841627_data);\n",
       "   }(LDAvis);\n",
       "}else if(typeof define === \"function\" && define.amd){\n",
       "   // require.js is available: use it to load d3/LDAvis\n",
       "   require.config({paths: {d3: \"https://d3js.org/d3.v5\"}});\n",
       "   require([\"d3\"], function(d3){\n",
       "      window.d3 = d3;\n",
       "      LDAvis_load_lib(\"https://cdn.jsdelivr.net/gh/bmabey/pyLDAvis@3.3.1/pyLDAvis/js/ldavis.v3.0.0.js\", function(){\n",
       "        new LDAvis(\"#\" + \"ldavis_el928020385701886887164841627\", ldavis_el928020385701886887164841627_data);\n",
       "      });\n",
       "    });\n",
       "}else{\n",
       "    // require.js not available: dynamically load d3 & LDAvis\n",
       "    LDAvis_load_lib(\"https://d3js.org/d3.v5.js\", function(){\n",
       "         LDAvis_load_lib(\"https://cdn.jsdelivr.net/gh/bmabey/pyLDAvis@3.3.1/pyLDAvis/js/ldavis.v3.0.0.js\", function(){\n",
       "                 new LDAvis(\"#\" + \"ldavis_el928020385701886887164841627\", ldavis_el928020385701886887164841627_data);\n",
       "            })\n",
       "         });\n",
       "}\n",
       "</script>"
      ],
      "text/plain": [
       "PreparedData(topic_coordinates=              x         y  topics  cluster       Freq\n",
       "topic                                                \n",
       "0      0.315455 -0.029355       1        1  70.614717\n",
       "1     -0.065154 -0.117847       2        1  10.507720\n",
       "2      0.002077  0.162090       3        1  10.061401\n",
       "4     -0.082844 -0.011833       4        1   3.879419\n",
       "3     -0.086666 -0.003090       5        1   2.927745\n",
       "5     -0.082869  0.000034       6        1   2.008999, topic_info=            Term        Freq       Total Category  logprob  loglift\n",
       "10         staff  600.000000  600.000000  Default  30.0000  30.0000\n",
       "87          road  456.000000  456.000000  Default  29.0000  29.0000\n",
       "223         food  418.000000  418.000000  Default  28.0000  28.0000\n",
       "23    instructor  339.000000  339.000000  Default  27.0000  27.0000\n",
       "142     friendly  336.000000  336.000000  Default  26.0000  26.0000\n",
       "...          ...         ...         ...      ...      ...      ...\n",
       "7251         kim    2.456911    8.177995   Topic6  -6.9795   2.7050\n",
       "138       unique    2.415748    8.477808   Topic6  -6.9964   2.6521\n",
       "1620    terrific    2.422619   12.000075   Topic6  -6.9936   2.3075\n",
       "904     conveyor    2.166385   11.574035   Topic6  -7.1054   2.2318\n",
       "4464       plane    1.869241    5.967969   Topic6  -7.2529   2.7467\n",
       "\n",
       "[261 rows x 6 columns], token_table=      Topic      Freq       Term\n",
       "term                            \n",
       "1743      1  0.062223  abilities\n",
       "1743      2  0.062223  abilities\n",
       "1743      3  0.062223  abilities\n",
       "1743      5  0.746680  abilities\n",
       "131       1  0.058121   absolute\n",
       "...     ...       ...        ...\n",
       "155       4  0.001597      would\n",
       "364       1  0.045778        wow\n",
       "364       2  0.045778        wow\n",
       "364       3  0.045778        wow\n",
       "364       5  0.869791        wow\n",
       "\n",
       "[838 rows x 3 columns], R=30, lambda_step=0.01, plot_opts={'xlab': 'PC1', 'ylab': 'PC2'}, topic_order=[1, 2, 3, 5, 4, 6])"
      ]
     },
     "execution_count": 52,
     "metadata": {},
     "output_type": "execute_result"
    }
   ],
   "source": [
    "# Visualize the topics\n",
    "pyLDAvis.enable_notebook()\n",
    "LDAvis_prepared = pyLDAvis.gensim_models.prepare(lda_model, corpus, id2word)\n",
    "LDAvis_prepared"
   ]
  },
  {
   "cell_type": "markdown",
   "metadata": {},
   "source": [
    "[2_topic_modelling_lda_gensim_approach_2.html](./2_topic_modelling_lda_gensim_approach_2.html)"
   ]
  },
  {
   "cell_type": "code",
   "execution_count": 54,
   "metadata": {},
   "outputs": [],
   "source": [
    "# saving the visualization\n",
    "pyLDAvis.save_html(LDAvis_prepared, '2_topic_modelling_lda_gensim_approach_2.html')"
   ]
  },
  {
   "cell_type": "markdown",
   "metadata": {},
   "source": [
    "#### 2b\n",
    "Now building an NMF model (to try to distinguish the topics better)"
   ]
  },
  {
   "cell_type": "code",
   "execution_count": 57,
   "metadata": {},
   "outputs": [
    {
     "data": {
      "text/html": [
       "<div>\n",
       "<style scoped>\n",
       "    .dataframe tbody tr th:only-of-type {\n",
       "        vertical-align: middle;\n",
       "    }\n",
       "\n",
       "    .dataframe tbody tr th {\n",
       "        vertical-align: top;\n",
       "    }\n",
       "\n",
       "    .dataframe thead th {\n",
       "        text-align: right;\n",
       "    }\n",
       "</style>\n",
       "<table border=\"1\" class=\"dataframe\">\n",
       "  <thead>\n",
       "    <tr style=\"text-align: right;\">\n",
       "      <th></th>\n",
       "      <th>review_year</th>\n",
       "      <th>review_month</th>\n",
       "      <th>peak</th>\n",
       "      <th>tokenised_sentences</th>\n",
       "      <th>subjectivity</th>\n",
       "      <th>sentiment</th>\n",
       "      <th>sentiment_score</th>\n",
       "    </tr>\n",
       "  </thead>\n",
       "  <tbody>\n",
       "    <tr>\n",
       "      <th>0</th>\n",
       "      <td>2021</td>\n",
       "      <td>Oct</td>\n",
       "      <td>cardrona</td>\n",
       "      <td>ticket process hire process be great easy all ...</td>\n",
       "      <td>0.569444</td>\n",
       "      <td>POSITIVE</td>\n",
       "      <td>0.990033</td>\n",
       "    </tr>\n",
       "    <tr>\n",
       "      <th>1</th>\n",
       "      <td>2021</td>\n",
       "      <td>Oct</td>\n",
       "      <td>cardrona</td>\n",
       "      <td>all be well until we meet out instructor (nick...</td>\n",
       "      <td>0.668750</td>\n",
       "      <td>NEGATIVE</td>\n",
       "      <td>-0.993660</td>\n",
       "    </tr>\n",
       "    <tr>\n",
       "      <th>2</th>\n",
       "      <td>2021</td>\n",
       "      <td>Oct</td>\n",
       "      <td>cardrona</td>\n",
       "      <td>it completely put our kid off.</td>\n",
       "      <td>0.400000</td>\n",
       "      <td>NEGATIVE</td>\n",
       "      <td>-0.995861</td>\n",
       "    </tr>\n",
       "    <tr>\n",
       "      <th>3</th>\n",
       "      <td>2021</td>\n",
       "      <td>Oct</td>\n",
       "      <td>cardrona</td>\n",
       "      <td>we then go do our own lesson with kid with lit...</td>\n",
       "      <td>0.566667</td>\n",
       "      <td>NEGATIVE</td>\n",
       "      <td>-0.938372</td>\n",
       "    </tr>\n",
       "    <tr>\n",
       "      <th>4</th>\n",
       "      <td>2021</td>\n",
       "      <td>Oct</td>\n",
       "      <td>cardrona</td>\n",
       "      <td>over all cadrona be well set up for first time...</td>\n",
       "      <td>0.477778</td>\n",
       "      <td>POSITIVE</td>\n",
       "      <td>0.970559</td>\n",
       "    </tr>\n",
       "  </tbody>\n",
       "</table>\n",
       "</div>"
      ],
      "text/plain": [
       "   review_year review_month      peak  \\\n",
       "0         2021          Oct  cardrona   \n",
       "1         2021          Oct  cardrona   \n",
       "2         2021          Oct  cardrona   \n",
       "3         2021          Oct  cardrona   \n",
       "4         2021          Oct  cardrona   \n",
       "\n",
       "                                 tokenised_sentences  subjectivity sentiment  \\\n",
       "0  ticket process hire process be great easy all ...      0.569444  POSITIVE   \n",
       "1  all be well until we meet out instructor (nick...      0.668750  NEGATIVE   \n",
       "2                     it completely put our kid off.      0.400000  NEGATIVE   \n",
       "3  we then go do our own lesson with kid with lit...      0.566667  NEGATIVE   \n",
       "4  over all cadrona be well set up for first time...      0.477778  POSITIVE   \n",
       "\n",
       "   sentiment_score  \n",
       "0         0.990033  \n",
       "1        -0.993660  \n",
       "2        -0.995861  \n",
       "3        -0.938372  \n",
       "4         0.970559  "
      ]
     },
     "execution_count": 57,
     "metadata": {},
     "output_type": "execute_result"
    }
   ],
   "source": [
    "tokenised_df.head()"
   ]
  },
  {
   "cell_type": "code",
   "execution_count": 73,
   "metadata": {},
   "outputs": [
    {
     "name": "stderr",
     "output_type": "stream",
     "text": [
      "c:\\Users\\Nick\\Documents\\d998_nzski_sentiment_analysis\\venv\\lib\\site-packages\\sklearn\\decomposition\\_nmf.py:1422: FutureWarning: `alpha` was deprecated in version 1.0 and will be removed in 1.2. Use `alpha_W` and `alpha_H` instead\n",
      "  warnings.warn(\n"
     ]
    },
    {
     "data": {
      "text/plain": [
       "NMF(alpha=0.1, init='nndsvd', l1_ratio=0.5, n_components=6, random_state=1)"
      ]
     },
     "execution_count": 73,
     "metadata": {},
     "output_type": "execute_result"
    }
   ],
   "source": [
    "vectorizer = TfidfVectorizer(analyzer='word', token_pattern=r'\\b[a-zA-Z]{3,}\\b', ngram_range=(1,2), lowercase=False, \n",
    "min_df=5, # don't want terms to be used that don't appear often\n",
    "stop_words='english' # not checking non-English stopwords for now\n",
    ")\n",
    "matrix = vectorizer.fit_transform(tokenised_df['tokenised_sentences'].values)\n",
    "\n",
    "nmf = NMF(n_components=6, random_state=1, alpha=.1, l1_ratio=.5, init='nndsvd') # not tuned\n",
    "nmf.fit(matrix)"
   ]
  },
  {
   "cell_type": "code",
   "execution_count": 76,
   "metadata": {},
   "outputs": [
    {
     "name": "stderr",
     "output_type": "stream",
     "text": [
      "c:\\Users\\Nick\\Documents\\d998_nzski_sentiment_analysis\\venv\\lib\\site-packages\\sklearn\\utils\\deprecation.py:87: FutureWarning: Function get_feature_names is deprecated; get_feature_names is deprecated in 1.0 and will be removed in 1.2. Please use get_feature_names_out instead.\n",
      "  warnings.warn(msg, category=FutureWarning)\n"
     ]
    },
    {
     "data": {
      "text/html": [
       "<div>\n",
       "<style scoped>\n",
       "    .dataframe tbody tr th:only-of-type {\n",
       "        vertical-align: middle;\n",
       "    }\n",
       "\n",
       "    .dataframe tbody tr th {\n",
       "        vertical-align: top;\n",
       "    }\n",
       "\n",
       "    .dataframe thead th {\n",
       "        text-align: right;\n",
       "    }\n",
       "</style>\n",
       "<table border=\"1\" class=\"dataframe\">\n",
       "  <thead>\n",
       "    <tr style=\"text-align: right;\">\n",
       "      <th></th>\n",
       "      <th>topic_1</th>\n",
       "      <th>topic_2</th>\n",
       "      <th>topic_3</th>\n",
       "      <th>topic_4</th>\n",
       "      <th>topic_5</th>\n",
       "      <th>topic_6</th>\n",
       "    </tr>\n",
       "  </thead>\n",
       "  <tbody>\n",
       "    <tr>\n",
       "      <th>0</th>\n",
       "      <td>great</td>\n",
       "      <td>coronet</td>\n",
       "      <td>ski</td>\n",
       "      <td>staff</td>\n",
       "      <td>day</td>\n",
       "      <td>snow</td>\n",
       "    </tr>\n",
       "    <tr>\n",
       "      <th>1</th>\n",
       "      <td>great time</td>\n",
       "      <td>peak</td>\n",
       "      <td>field</td>\n",
       "      <td>helpful</td>\n",
       "      <td>skiing</td>\n",
       "      <td>good</td>\n",
       "    </tr>\n",
       "    <tr>\n",
       "      <th>2</th>\n",
       "      <td>time</td>\n",
       "      <td>coronet peak</td>\n",
       "      <td>ski field</td>\n",
       "      <td>friendly</td>\n",
       "      <td>day skiing</td>\n",
       "      <td>time</td>\n",
       "    </tr>\n",
       "    <tr>\n",
       "      <th>3</th>\n",
       "      <td>place</td>\n",
       "      <td>remarkables</td>\n",
       "      <td>area</td>\n",
       "      <td>staff friendly</td>\n",
       "      <td>great day</td>\n",
       "      <td>mountain</td>\n",
       "    </tr>\n",
       "    <tr>\n",
       "      <th>4</th>\n",
       "      <td>great day</td>\n",
       "      <td>day coronet</td>\n",
       "      <td>ski area</td>\n",
       "      <td>friendly helpful</td>\n",
       "      <td>spent</td>\n",
       "      <td>run</td>\n",
       "    </tr>\n",
       "    <tr>\n",
       "      <th>5</th>\n",
       "      <td>great place</td>\n",
       "      <td>queenstown</td>\n",
       "      <td>resort</td>\n",
       "      <td>staff helpful</td>\n",
       "      <td>spent day</td>\n",
       "      <td>drive</td>\n",
       "    </tr>\n",
       "    <tr>\n",
       "      <th>6</th>\n",
       "      <td>great view</td>\n",
       "      <td>visit</td>\n",
       "      <td>ski resort</td>\n",
       "      <td>helpful friendly</td>\n",
       "      <td>lesson</td>\n",
       "      <td>queenstown</td>\n",
       "    </tr>\n",
       "    <tr>\n",
       "      <th>7</th>\n",
       "      <td>great experience</td>\n",
       "      <td>remarkables coronet</td>\n",
       "      <td>cardrona</td>\n",
       "      <td>friendly staff</td>\n",
       "      <td>end</td>\n",
       "      <td>view</td>\n",
       "    </tr>\n",
       "    <tr>\n",
       "      <th>8</th>\n",
       "      <td>view</td>\n",
       "      <td>peak remarkables</td>\n",
       "      <td>instructor</td>\n",
       "      <td>helpful staff</td>\n",
       "      <td>end day</td>\n",
       "      <td>really</td>\n",
       "    </tr>\n",
       "    <tr>\n",
       "      <th>9</th>\n",
       "      <td>great fun</td>\n",
       "      <td>visit coronet</td>\n",
       "      <td>great ski</td>\n",
       "      <td>super</td>\n",
       "      <td>ski day</td>\n",
       "      <td>beginner</td>\n",
       "    </tr>\n",
       "    <tr>\n",
       "      <th>10</th>\n",
       "      <td>snow great</td>\n",
       "      <td>skiing coronet</td>\n",
       "      <td>ski instructor</td>\n",
       "      <td>instructor</td>\n",
       "      <td>love</td>\n",
       "      <td>fun</td>\n",
       "    </tr>\n",
       "    <tr>\n",
       "      <th>11</th>\n",
       "      <td>facility</td>\n",
       "      <td>prefer</td>\n",
       "      <td>hire</td>\n",
       "      <td>help</td>\n",
       "      <td>enjoy</td>\n",
       "      <td>lift</td>\n",
       "    </tr>\n",
       "    <tr>\n",
       "      <th>12</th>\n",
       "      <td>staff great</td>\n",
       "      <td>love coronet</td>\n",
       "      <td>best</td>\n",
       "      <td>staff great</td>\n",
       "      <td>day coronet</td>\n",
       "      <td>easy</td>\n",
       "    </tr>\n",
       "    <tr>\n",
       "      <th>13</th>\n",
       "      <td>experience</td>\n",
       "      <td>time coronet</td>\n",
       "      <td>remarkables</td>\n",
       "      <td>super friendly</td>\n",
       "      <td>remarkables</td>\n",
       "      <td>just</td>\n",
       "    </tr>\n",
       "    <tr>\n",
       "      <th>14</th>\n",
       "      <td>great snow</td>\n",
       "      <td>decide</td>\n",
       "      <td>ski school</td>\n",
       "      <td>really</td>\n",
       "      <td>day day</td>\n",
       "      <td>lot</td>\n",
       "    </tr>\n",
       "    <tr>\n",
       "      <th>15</th>\n",
       "      <td>facility great</td>\n",
       "      <td>peak day</td>\n",
       "      <td>school</td>\n",
       "      <td>happy</td>\n",
       "      <td>cardrona</td>\n",
       "      <td>skiing</td>\n",
       "    </tr>\n",
       "    <tr>\n",
       "      <th>16</th>\n",
       "      <td>great ski</td>\n",
       "      <td>drive coronet</td>\n",
       "      <td>queenstown</td>\n",
       "      <td>patient</td>\n",
       "      <td>skiing day</td>\n",
       "      <td>worth</td>\n",
       "    </tr>\n",
       "    <tr>\n",
       "      <th>17</th>\n",
       "      <td>instructor</td>\n",
       "      <td>peak great</td>\n",
       "      <td>season</td>\n",
       "      <td>professional</td>\n",
       "      <td>day remarkables</td>\n",
       "      <td>area</td>\n",
       "    </tr>\n",
       "    <tr>\n",
       "      <th>18</th>\n",
       "      <td>family</td>\n",
       "      <td>love</td>\n",
       "      <td>remarkables ski</td>\n",
       "      <td>excellent</td>\n",
       "      <td>enjoy day</td>\n",
       "      <td>slope</td>\n",
       "    </tr>\n",
       "    <tr>\n",
       "      <th>19</th>\n",
       "      <td>fun</td>\n",
       "      <td>time</td>\n",
       "      <td>place</td>\n",
       "      <td>facility</td>\n",
       "      <td>half day</td>\n",
       "      <td>road</td>\n",
       "    </tr>\n",
       "  </tbody>\n",
       "</table>\n",
       "</div>"
      ],
      "text/plain": [
       "             topic_1              topic_2          topic_3           topic_4  \\\n",
       "0              great              coronet              ski             staff   \n",
       "1         great time                 peak            field           helpful   \n",
       "2               time         coronet peak        ski field          friendly   \n",
       "3              place          remarkables             area    staff friendly   \n",
       "4          great day          day coronet         ski area  friendly helpful   \n",
       "5        great place           queenstown           resort     staff helpful   \n",
       "6         great view                visit       ski resort  helpful friendly   \n",
       "7   great experience  remarkables coronet         cardrona    friendly staff   \n",
       "8               view     peak remarkables       instructor     helpful staff   \n",
       "9          great fun        visit coronet        great ski             super   \n",
       "10        snow great       skiing coronet   ski instructor        instructor   \n",
       "11          facility               prefer             hire              help   \n",
       "12       staff great         love coronet             best       staff great   \n",
       "13        experience         time coronet      remarkables    super friendly   \n",
       "14        great snow               decide       ski school            really   \n",
       "15    facility great             peak day           school             happy   \n",
       "16         great ski        drive coronet       queenstown           patient   \n",
       "17        instructor           peak great           season      professional   \n",
       "18            family                 love  remarkables ski         excellent   \n",
       "19               fun                 time            place          facility   \n",
       "\n",
       "            topic_5     topic_6  \n",
       "0               day        snow  \n",
       "1            skiing        good  \n",
       "2        day skiing        time  \n",
       "3         great day    mountain  \n",
       "4             spent         run  \n",
       "5         spent day       drive  \n",
       "6            lesson  queenstown  \n",
       "7               end        view  \n",
       "8           end day      really  \n",
       "9           ski day    beginner  \n",
       "10             love         fun  \n",
       "11            enjoy        lift  \n",
       "12      day coronet        easy  \n",
       "13      remarkables        just  \n",
       "14          day day         lot  \n",
       "15         cardrona      skiing  \n",
       "16       skiing day       worth  \n",
       "17  day remarkables        area  \n",
       "18        enjoy day       slope  \n",
       "19         half day        road  "
      ]
     },
     "execution_count": 76,
     "metadata": {},
     "output_type": "execute_result"
    }
   ],
   "source": [
    "feature_names = vectorizer.get_feature_names()\n",
    "n_top_words = 20\n",
    "\n",
    "df_topic_dict = {}\n",
    "for idx, topic in enumerate(nmf.components_[:10]):\n",
    "    topic_id = f'topic_{idx+1}'\n",
    "    top_words = [feature_names[i] for i in topic.argsort()[:-n_top_words-1:-1]]\n",
    "    df_topic_dict[topic_id] = top_words\n",
    "df_topic = pd.DataFrame(df_topic_dict)\n",
    "df_topic"
   ]
  },
  {
   "cell_type": "markdown",
   "metadata": {},
   "source": [
    "Better distinguishing of topics but not particularly valuable (except maybe for topic 4, referring to the staff)\n",
    "\n",
    "Lots of people say \"great\" or mention the name of the ski field... can try to remove common phrases and words in next approach"
   ]
  },
  {
   "cell_type": "markdown",
   "metadata": {},
   "source": [
    "### Approach 3 (same as Approach 2 but with more aggressive word removal)"
   ]
  },
  {
   "cell_type": "markdown",
   "metadata": {},
   "source": [
    "#### 3a"
   ]
  },
  {
   "cell_type": "markdown",
   "metadata": {},
   "source": [
    "Identifying these extra words to remove was an iterative process of running this approach then seeing the keywords found for each topic in the NMF model at the end\n"
   ]
  },
  {
   "cell_type": "code",
   "execution_count": 25,
   "metadata": {},
   "outputs": [],
   "source": [
    "extra_words_to_remove = ['great', 'day', 'coronet', 'remarkables', 'cardrona', 'queenstown', 'visit', \n",
    "'ski', 'skiing', 'field', 'time', 'good', 'love', 'recommend', 'view', 'peak', 'fun', 'definitely', 'recommend', 'place']\n",
    "stop_words = stopwords.words('english')\n",
    "stop_words.extend(extra_words_to_remove)"
   ]
  },
  {
   "cell_type": "code",
   "execution_count": 26,
   "metadata": {},
   "outputs": [
    {
     "data": {
      "text/html": [
       "<div>\n",
       "<style scoped>\n",
       "    .dataframe tbody tr th:only-of-type {\n",
       "        vertical-align: middle;\n",
       "    }\n",
       "\n",
       "    .dataframe tbody tr th {\n",
       "        vertical-align: top;\n",
       "    }\n",
       "\n",
       "    .dataframe thead th {\n",
       "        text-align: right;\n",
       "    }\n",
       "</style>\n",
       "<table border=\"1\" class=\"dataframe\">\n",
       "  <thead>\n",
       "    <tr style=\"text-align: right;\">\n",
       "      <th></th>\n",
       "      <th>review_year</th>\n",
       "      <th>review_month</th>\n",
       "      <th>peak</th>\n",
       "      <th>tokenised_sentences</th>\n",
       "      <th>subjectivity</th>\n",
       "      <th>sentiment</th>\n",
       "      <th>sentiment_score</th>\n",
       "    </tr>\n",
       "  </thead>\n",
       "  <tbody>\n",
       "    <tr>\n",
       "      <th>0</th>\n",
       "      <td>2021</td>\n",
       "      <td>Oct</td>\n",
       "      <td>cardrona</td>\n",
       "      <td>ticket process hire process be great easy all ...</td>\n",
       "      <td>0.569444</td>\n",
       "      <td>POSITIVE</td>\n",
       "      <td>0.990033</td>\n",
       "    </tr>\n",
       "    <tr>\n",
       "      <th>1</th>\n",
       "      <td>2021</td>\n",
       "      <td>Oct</td>\n",
       "      <td>cardrona</td>\n",
       "      <td>all be well until we meet out instructor (nick...</td>\n",
       "      <td>0.668750</td>\n",
       "      <td>NEGATIVE</td>\n",
       "      <td>-0.993660</td>\n",
       "    </tr>\n",
       "    <tr>\n",
       "      <th>2</th>\n",
       "      <td>2021</td>\n",
       "      <td>Oct</td>\n",
       "      <td>cardrona</td>\n",
       "      <td>it completely put our kid off.</td>\n",
       "      <td>0.400000</td>\n",
       "      <td>NEGATIVE</td>\n",
       "      <td>-0.995861</td>\n",
       "    </tr>\n",
       "    <tr>\n",
       "      <th>3</th>\n",
       "      <td>2021</td>\n",
       "      <td>Oct</td>\n",
       "      <td>cardrona</td>\n",
       "      <td>we then go do our own lesson with kid with lit...</td>\n",
       "      <td>0.566667</td>\n",
       "      <td>NEGATIVE</td>\n",
       "      <td>-0.938372</td>\n",
       "    </tr>\n",
       "    <tr>\n",
       "      <th>4</th>\n",
       "      <td>2021</td>\n",
       "      <td>Oct</td>\n",
       "      <td>cardrona</td>\n",
       "      <td>over all cadrona be well set up for first time...</td>\n",
       "      <td>0.477778</td>\n",
       "      <td>POSITIVE</td>\n",
       "      <td>0.970559</td>\n",
       "    </tr>\n",
       "  </tbody>\n",
       "</table>\n",
       "</div>"
      ],
      "text/plain": [
       "   review_year review_month      peak  \\\n",
       "0         2021          Oct  cardrona   \n",
       "1         2021          Oct  cardrona   \n",
       "2         2021          Oct  cardrona   \n",
       "3         2021          Oct  cardrona   \n",
       "4         2021          Oct  cardrona   \n",
       "\n",
       "                                 tokenised_sentences  subjectivity sentiment  \\\n",
       "0  ticket process hire process be great easy all ...      0.569444  POSITIVE   \n",
       "1  all be well until we meet out instructor (nick...      0.668750  NEGATIVE   \n",
       "2                     it completely put our kid off.      0.400000  NEGATIVE   \n",
       "3  we then go do our own lesson with kid with lit...      0.566667  NEGATIVE   \n",
       "4  over all cadrona be well set up for first time...      0.477778  POSITIVE   \n",
       "\n",
       "   sentiment_score  \n",
       "0         0.990033  \n",
       "1        -0.993660  \n",
       "2        -0.995861  \n",
       "3        -0.938372  \n",
       "4         0.970559  "
      ]
     },
     "execution_count": 26,
     "metadata": {},
     "output_type": "execute_result"
    }
   ],
   "source": [
    "tokenised_df = pd.read_csv('path/to/all_tokenised_reviews.csv')\n",
    "tokenised_df.head()"
   ]
  },
  {
   "cell_type": "code",
   "execution_count": 27,
   "metadata": {},
   "outputs": [],
   "source": [
    "def sent_to_words(sentences):\n",
    "    for sentence in sentences:\n",
    "        yield(gensim.utils.simple_preprocess(str(sentence), deacc=True))  # deacc=True removes punctuations\n",
    "\n",
    "data = tokenised_df.tokenised_sentences.values.tolist()\n",
    "data_words = list(sent_to_words(data))"
   ]
  },
  {
   "cell_type": "code",
   "execution_count": 28,
   "metadata": {},
   "outputs": [],
   "source": [
    "# Build the bigram and trigram models\n",
    "bigram = gensim.models.Phrases(data_words, min_count=5, threshold=100) # higher threshold fewer phrases.\n",
    "trigram = gensim.models.Phrases(bigram[data_words], threshold=100)\n",
    "\n",
    "# Faster way to get a sentence clubbed as a trigram/bigram\n",
    "bigram_mod = gensim.models.phrases.Phraser(bigram)\n",
    "trigram_mod = gensim.models.phrases.Phraser(trigram)"
   ]
  },
  {
   "cell_type": "code",
   "execution_count": 29,
   "metadata": {},
   "outputs": [],
   "source": [
    "# Define functions for stopwords, bigrams, trigrams\n",
    "\n",
    "def remove_stopwords(texts):\n",
    "    return [[word for word in simple_preprocess(str(doc)) if word not in stop_words] for doc in texts]\n",
    "def make_bigrams(texts):\n",
    "    return [bigram_mod[doc] for doc in texts]\n",
    "def make_trigrams(texts):\n",
    "    return [trigram_mod[bigram_mod[doc]] for doc in texts]"
   ]
  },
  {
   "cell_type": "code",
   "execution_count": 30,
   "metadata": {},
   "outputs": [],
   "source": [
    "# Remove Stop Words\n",
    "data_words_nostops = remove_stopwords(data_words)\n",
    "# Form Bigrams\n",
    "data_words_bigrams = make_bigrams(data_words_nostops)"
   ]
  },
  {
   "cell_type": "code",
   "execution_count": 31,
   "metadata": {},
   "outputs": [
    {
     "name": "stdout",
     "output_type": "stream",
     "text": [
      "[[(0, 1), (1, 1), (2, 1), (3, 1), (4, 1), (5, 1), (6, 1), (7, 2), (8, 1), (9, 1), (10, 1), (11, 3)]]\n"
     ]
    }
   ],
   "source": [
    "# Create Dictionary\n",
    "id2word = corpora.Dictionary(data_words_bigrams)\n",
    "# Corpus and Term Document Frequency\n",
    "corpus = [id2word.doc2bow(text) for text in data_words_bigrams]\n",
    "print(corpus[:1])"
   ]
  },
  {
   "cell_type": "code",
   "execution_count": 32,
   "metadata": {},
   "outputs": [],
   "source": [
    "# Build LDA model\n",
    "lda_model = gensim.models.LdaMulticore(corpus=corpus,\n",
    "                                       id2word=id2word,\n",
    "                                       num_topics=10, \n",
    "                                       random_state=100,\n",
    "                                       chunksize=100,\n",
    "                                       passes=10,\n",
    "                                       per_word_topics=True)"
   ]
  },
  {
   "cell_type": "code",
   "execution_count": null,
   "metadata": {},
   "outputs": [],
   "source": [
    "# Print the Keyword in the 10 topics\n",
    "pprint(lda_model.print_topics())"
   ]
  },
  {
   "cell_type": "code",
   "execution_count": 33,
   "metadata": {},
   "outputs": [
    {
     "name": "stdout",
     "output_type": "stream",
     "text": [
      "Coherence Score:  0.3072101207978321\n"
     ]
    }
   ],
   "source": [
    "# Compute Coherence Score\n",
    "coherence_model_lda = CoherenceModel(model=lda_model, texts=data_words_bigrams, dictionary=id2word, coherence='c_v')\n",
    "coherence_lda = coherence_model_lda.get_coherence()\n",
    "print('Coherence Score: ', coherence_lda)"
   ]
  },
  {
   "cell_type": "code",
   "execution_count": 34,
   "metadata": {},
   "outputs": [],
   "source": [
    "def compute_coherence_values(corpus, dictionary, k):\n",
    "    lda_model = gensim.models.LdaMulticore(corpus=corpus,\n",
    "                                           id2word=dictionary,\n",
    "                                           num_topics=k, \n",
    "                                           random_state=100,\n",
    "                                           chunksize=100,\n",
    "                                           passes=10)\n",
    "\n",
    "    coherence_model_lda = CoherenceModel(model=lda_model, texts=data_words_bigrams, dictionary=id2word, coherence='c_v')\n",
    "    return coherence_model_lda.get_coherence()\n",
    "\n",
    "def compute_coherence_values_and_tune(corpus, dictionary, k, a, b):\n",
    "    lda_model = gensim.models.LdaMulticore(corpus=corpus,\n",
    "                                           id2word=dictionary,\n",
    "                                           num_topics=k,\n",
    "                                           alpha=a,\n",
    "                                           eta=b, \n",
    "                                           random_state=100,\n",
    "                                           chunksize=100,\n",
    "                                           passes=10)\n",
    "\n",
    "    coherence_model_lda = CoherenceModel(model=lda_model, texts=data_words_bigrams, dictionary=id2word, coherence='c_v')\n",
    "    return coherence_model_lda.get_coherence()"
   ]
  },
  {
   "cell_type": "code",
   "execution_count": 35,
   "metadata": {},
   "outputs": [],
   "source": [
    "model_results = {'Topics': [], 'Coherence': []}\n",
    "\n",
    "# Topics range\n",
    "min_topics = 3\n",
    "max_topics = 18\n",
    "step_size = 1\n",
    "for k in range(min_topics, max_topics, step_size):\n",
    "    # get the coherence score for the given parameters\n",
    "    cv = compute_coherence_values(corpus=corpus, dictionary=id2word, k=k)\n",
    "    model_results['Topics'].append(k)\n",
    "    model_results['Coherence'].append(cv)"
   ]
  },
  {
   "cell_type": "code",
   "execution_count": 36,
   "metadata": {},
   "outputs": [
    {
     "data": {
      "text/plain": [
       "<AxesSubplot:xlabel='Topics'>"
      ]
     },
     "execution_count": 36,
     "metadata": {},
     "output_type": "execute_result"
    },
    {
     "data": {
      "image/png": "[encoded data removed]",
      "text/plain": [
       "<Figure size 432x288 with 1 Axes>"
      ]
     },
     "metadata": {
      "needs_background": "light"
     },
     "output_type": "display_data"
    }
   ],
   "source": [
    "d = pd.DataFrame(model_results)\n",
    "d.plot.line(x='Topics', y='Coherence')"
   ]
  },
  {
   "cell_type": "markdown",
   "metadata": {},
   "source": [
    "Going with 7 topics for now"
   ]
  },
  {
   "cell_type": "code",
   "execution_count": 37,
   "metadata": {},
   "outputs": [],
   "source": [
    "# basic hyperparameter tuning\n",
    "alpha = list(np.arange(0.01, 1, 0.3))\n",
    "alpha.append('symmetric')\n",
    "alpha.append('asymmetric')\n",
    "\n",
    "beta = list(np.arange(0.01, 1, 0.3))\n",
    "beta.append('symmetric')\n",
    "\n",
    "tuned_results = {'Alpha': [], 'Beta': [], 'Coherence': []}\n",
    "\n",
    "for a in alpha:\n",
    "    for b in beta:\n",
    "        cv = compute_coherence_values_and_tune(corpus=corpus, dictionary=id2word, k=7, a=a, b=b)\n",
    "        tuned_results['Alpha'].append(a)\n",
    "        tuned_results['Beta'].append(b)\n",
    "        tuned_results['Coherence'].append(cv)"
   ]
  },
  {
   "cell_type": "code",
   "execution_count": 38,
   "metadata": {},
   "outputs": [
    {
     "data": {
      "text/html": [
       "<div>\n",
       "<style scoped>\n",
       "    .dataframe tbody tr th:only-of-type {\n",
       "        vertical-align: middle;\n",
       "    }\n",
       "\n",
       "    .dataframe tbody tr th {\n",
       "        vertical-align: top;\n",
       "    }\n",
       "\n",
       "    .dataframe thead th {\n",
       "        text-align: right;\n",
       "    }\n",
       "</style>\n",
       "<table border=\"1\" class=\"dataframe\">\n",
       "  <thead>\n",
       "    <tr style=\"text-align: right;\">\n",
       "      <th></th>\n",
       "      <th>Alpha</th>\n",
       "      <th>Beta</th>\n",
       "      <th>Coherence</th>\n",
       "    </tr>\n",
       "  </thead>\n",
       "  <tbody>\n",
       "    <tr>\n",
       "      <th>28</th>\n",
       "      <td>asymmetric</td>\n",
       "      <td>0.91</td>\n",
       "      <td>0.479214</td>\n",
       "    </tr>\n",
       "  </tbody>\n",
       "</table>\n",
       "</div>"
      ],
      "text/plain": [
       "         Alpha  Beta  Coherence\n",
       "28  asymmetric  0.91   0.479214"
      ]
     },
     "execution_count": 38,
     "metadata": {},
     "output_type": "execute_result"
    }
   ],
   "source": [
    "# hyperparameter values which give highest coherence\n",
    "pd.DataFrame(tuned_results)[pd.DataFrame(tuned_results)['Coherence'] == max(tuned_results['Coherence'])]"
   ]
  },
  {
   "cell_type": "code",
   "execution_count": 39,
   "metadata": {},
   "outputs": [],
   "source": [
    "# final model using tuned hyperparameters\n",
    "lda_model = gensim.models.LdaMulticore(corpus=corpus,\n",
    "                                           id2word=id2word,\n",
    "                                           num_topics=7, \n",
    "                                           random_state=100,\n",
    "                                           chunksize=100,\n",
    "                                           passes=10,\n",
    "                                           alpha='asymmetric',\n",
    "                                           eta=0.9)"
   ]
  },
  {
   "cell_type": "code",
   "execution_count": null,
   "metadata": {},
   "outputs": [],
   "source": [
    "# Print the keywords in the topics\n",
    "pprint(lda_model.print_topics())"
   ]
  },
  {
   "cell_type": "code",
   "execution_count": 40,
   "metadata": {},
   "outputs": [
    {
     "name": "stderr",
     "output_type": "stream",
     "text": [
      "c:\\Users\\Nick\\Documents\\d998_nzski_sentiment_analysis\\venv\\lib\\site-packages\\pyLDAvis\\_prepare.py:246: FutureWarning: In a future version of pandas all arguments of DataFrame.drop except for the argument 'labels' will be keyword-only.\n",
      "  default_term_info = default_term_info.sort_values(\n"
     ]
    },
    {
     "data": {
      "text/html": [
       "\n",
       "<link rel=\"stylesheet\" type=\"text/css\" href=\"https://cdn.jsdelivr.net/gh/bmabey/pyLDAvis@3.3.1/pyLDAvis/js/ldavis.v1.0.0.css\">\n",
       "\n",
       "\n",
       "<div id=\"ldavis_el4522421145915923362288695153\"></div>\n",
       "<script type=\"text/javascript\">\n",
       "\n",
       "var ldavis_el4522421145915923362288695153_data = {\"mdsDat\": {\"x\": [-0.2977334774629382, -0.012278088338432613, 0.04790294624928027, 0.03895021737366984, 0.07627198153816672, 0.07568740344671186, 0.07119901719354209], \"y\": [0.03026698488184287, -0.18706922819101257, 0.07025601482396439, 0.08681215645376697, -0.00520924526171188, 0.0029364253526387115, 0.0020068919405117707], \"topics\": [1, 2, 3, 4, 5, 6, 7], \"cluster\": [1, 1, 1, 1, 1, 1, 1], \"Freq\": [61.673592222241055, 12.17751515320659, 10.052311634592796, 8.02778227039224, 3.572143727977479, 2.262434447913796, 2.2342205436760443]}, \"tinfo\": {\"Term\": [\"staff\", \"drive\", \"road\", \"food\", \"instructor\", \"park\", \"enjoy\", \"mountain\", \"friendly\", \"snow\", \"helpful\", \"car\", \"top\", \"lesson\", \"cafe\", \"get\", \"area\", \"really\", \"take\", \"worth\", \"terrain\", \"way\", \"run\", \"facility\", \"lunch\", \"base\", \"beautiful\", \"fantastic\", \"building\", \"weather\", \"snow\", \"get\", \"run\", \"beginner\", \"lift\", \"first\", \"would\", \"slope\", \"one\", \"well\", \"much\", \"skier\", \"lot\", \"bus\", \"make\", \"could\", \"people\", \"family\", \"best\", \"gear\", \"resort\", \"hire\", \"year\", \"want\", \"experience\", \"come\", \"runs\", \"intermediate\", \"chair\", \"wait\", \"little\", \"go\", \"need\", \"like\", \"area\", \"back\", \"also\", \"lesson\", \"even\", \"take\", \"mountain\", \"easy\", \"really\", \"road\", \"drive\", \"views\", \"chain\", \"spectacular\", \"beautiful\", \"summer\", \"terrain\", \"drove\", \"cannot\", \"wind\", \"km\", \"scary\", \"stun\", \"windy\", \"lake\", \"wd\", \"seal\", \"scenery\", \"gravel\", \"scenic\", \"narrow\", \"mountains\", \"breathtaking\", \"surround\", \"chains\", \"hairy\", \"wheel\", \"journey\", \"climb\", \"photo\", \"rail\", \"along\", \"hike\", \"top\", \"car\", \"driver\", \"worth\", \"way\", \"mountain\", \"amaze\", \"steep\", \"stop\", \"amazing\", \"take\", \"see\", \"bit\", \"look\", \"easy\", \"staff\", \"instructor\", \"friendly\", \"helpful\", \"enjoy\", \"help\", \"patient\", \"thanks\", \"guy\", \"extremely\", \"instructors\", \"thank\", \"team\", \"professional\", \"teacher\", \"teach\", \"customer_service\", \"member\", \"smile\", \"job\", \"encourage\", \"patience\", \"assist\", \"program\", \"crew\", \"willing\", \"laugh\", \"trainer\", \"encouraging\", \"attention\", \"fabulous\", \"incredibly\", \"th\", \"operator\", \"excellent\", \"awesome\", \"fantastic\", \"ask\", \"super\", \"really\", \"lesson\", \"brilliant\", \"impressed\", \"kid\", \"always\", \"group\", \"private\", \"service\", \"everyone\", \"happy\", \"facility\", \"food\", \"cafe\", \"lunch\", \"expensive\", \"restaurant\", \"building\", \"sit\", \"eat\", \"coffee\", \"seat\", \"drink\", \"inside\", \"hot\", \"toilet\", \"bar\", \"table\", \"weather\", \"pricey\", \"lodge\", \"clean\", \"pizza\", \"cafeteria\", \"outdoor\", \"seating\", \"cheap\", \"beer\", \"selection\", \"din\", \"drinks\", \"lunchtime\", \"charge\", \"locker\", \"serve\", \"base\", \"price\", \"bring\", \"facility\", \"new\", \"area\", \"option\", \"nice\", \"also\", \"plenty\", \"park\", \"areas\", \"suggest\", \"face\", \"wish\", \"box\", \"recently\", \"pleasant\", \"jumps\", \"september\", \"fair\", \"worry\", \"design\", \"shame\", \"surprise\", \"gate\", \"infrastructure\", \"directly\", \"apartment\", \"tips\", \"north_island\", \"electronic\", \"horrible\", \"inclined\", \"ha\", \"touch\", \"constantly\", \"flexible\", \"disaster\", \"saving\", \"car\", \"freeze\", \"north\", \"feature\", \"shuttle\", \"monitoring\", \"present\", \"familiarise\", \"stayed\", \"variety\", \"remarks\", \"boarding\", \"either\", \"local\", \"ice_bar\", \"happen\", \"cater\", \"abilities\", \"dump\", \"mt\", \"appear\", \"locate\", \"treat\", \"tubing\", \"exactly\", \"training\", \"native\", \"ruapehu\", \"glorious\", \"disappointing\", \"ring\", \"bill\", \"refer\", \"southern_hemisphere\", \"respect\", \"weight\", \"continue\", \"ing\", \"trilogy\", \"cool\", \"speak\", \"wow\", \"standard\", \"know\", \"icy\", \"consider\", \"visited\", \"european\", \"bluebird\", \"resorts\", \"air\", \"easily_accessible\", \"built\", \"pair\", \"forward\", \"read\", \"regularly\", \"shadow\", \"tracked\", \"true\", \"france\", \"given\", \"fluffy\", \"swipe\", \"overdue\", \"ordinary\", \"bruise\", \"dedicate\", \"rip\", \"currently\", \"visiting\", \"needle\", \"intimate\", \"phenomenal\", \"nonetheless\", \"aussie\", \"screen\", \"worthwhile\", \"highway\", \"men\", \"bowl\"], \"Freq\": [547.0, 578.0, 444.0, 356.0, 314.0, 210.0, 314.0, 836.0, 293.0, 1546.0, 256.0, 222.0, 392.0, 689.0, 205.0, 1332.0, 898.0, 467.0, 653.0, 308.0, 192.0, 330.0, 923.0, 286.0, 127.0, 220.0, 154.0, 233.0, 121.0, 123.0, 1542.1107493840407, 1328.2924003803957, 919.8176819437588, 760.7454526661107, 786.6992196706689, 598.3471676853848, 601.0534800091814, 582.9155965025107, 589.5366687913893, 878.3803954428913, 461.3164454597969, 362.8757226756951, 461.4884593126591, 586.1819116451383, 498.94644006900114, 389.1391340960227, 394.00782743425384, 272.1049573302718, 281.2115453769997, 253.5785978421938, 326.3761883022318, 309.7745138269266, 228.90240220348585, 240.8502545520061, 298.0028961317351, 253.84863166896898, 233.11906303886596, 204.30162902234656, 249.99582006765831, 237.42851654911962, 264.12360222024546, 996.6694324212125, 283.6966228209543, 373.49775666226236, 825.5796751196493, 415.1113427518503, 395.14870980037773, 568.1485091838641, 312.8685878428208, 518.0525427350155, 613.1402291607488, 337.85449283268997, 354.0889576674004, 441.44346917177137, 573.752694674168, 132.35758843004717, 117.57105923393243, 87.5870826369639, 148.88646517767347, 74.11411594253121, 183.72373592943737, 58.82532774194702, 92.21130678502374, 71.95392013262342, 56.16227031420829, 57.95182044211055, 52.20923564603175, 52.39269294992604, 50.007331298571586, 46.044116311053955, 45.020289031425285, 42.17735792605907, 38.128440420209294, 39.279973651622775, 45.11275171773298, 37.9634750124985, 31.11905014959847, 30.0429269285183, 30.98483084488509, 28.70945574817516, 32.82134955569197, 29.347511109346588, 27.55900914404651, 37.28732999933392, 36.500393878579416, 34.74058015575503, 57.72743671587775, 210.55760887618538, 114.00137000381602, 46.25165891706694, 138.7073254201792, 128.85348148384728, 220.69183470590656, 101.72584093414815, 69.54337052491434, 65.08589077613782, 57.8544983842282, 131.85561149991716, 63.34228030087931, 57.250513115713105, 53.8747115292693, 56.20988318054728, 544.3723605130884, 311.4392914033233, 290.31997420005723, 253.1323015568739, 308.5100324715937, 124.08348201242373, 74.59551280923036, 61.31812628788353, 53.45231290164058, 63.099274350758215, 47.76066703362554, 36.72396027719233, 30.47258700975014, 28.93177949630283, 29.513341603915137, 25.397078398627038, 26.002745473709876, 22.7472598082361, 16.942052025140487, 15.846146535889677, 16.625652497673553, 14.890691510504897, 15.01919665322431, 13.362486846680214, 14.107995807965176, 13.450468654952733, 17.03906195075762, 12.273085200463715, 11.881908677036195, 12.09810853813015, 31.160277123978865, 15.576041246717411, 15.534709562373456, 23.799644056547802, 83.94280532465889, 80.51741271339091, 95.51385120797482, 33.08954240628992, 37.17496659995683, 110.9805826452895, 118.99381470965027, 27.971623869961807, 27.341161224059388, 58.727966830484704, 35.87428001877991, 41.39823628048926, 35.14591839467309, 38.33586024574373, 32.82838850075682, 28.966471069135558, 31.829993029203493, 353.43910674408755, 202.56670735042235, 124.34933582452089, 101.7677751298858, 96.37887382675093, 117.44840937510189, 88.07931904560525, 66.1907966421459, 64.58171731256158, 69.32741964451459, 56.987165133191375, 47.16110209293032, 39.607193069701985, 40.35921190440647, 36.7400565490368, 27.025989345246334, 110.54727161677086, 26.96869715992479, 37.426223074392986, 26.87089282998684, 22.356548399648744, 24.367292161596147, 22.682152189122846, 19.437911670941045, 21.22348888239632, 19.334683041231013, 19.14352666013181, 17.008551219162108, 14.208440828851613, 20.846365867077623, 18.96019082186722, 52.001673674033036, 20.648612421744513, 80.15793959816021, 40.298177438252694, 32.8119886951551, 82.17376745253132, 51.09383564758987, 68.89738487762095, 33.18404663585219, 33.783642013034495, 33.981915278291225, 30.05285849870118, 206.42962802315978, 25.129274493631705, 27.59031218511852, 22.92391041987372, 14.70141167012125, 18.01327996575678, 10.817199143892404, 14.499953842556453, 13.640706909275615, 11.497573460842236, 8.827557687025935, 7.6359419146460725, 8.87194392688864, 5.837338247422134, 5.285977953510936, 5.603391377236146, 4.928613528948408, 5.245713843791816, 4.1029816079162575, 4.414753900301037, 5.424067432787227, 4.357443221595117, 5.170363674239692, 5.154443074880388, 3.6673512461065183, 4.06860544960205, 4.38772545777311, 3.69713678628808, 3.5459771267971654, 5.848857457364896, 98.08714738769493, 6.586611562638703, 6.028414588008068, 6.026037593253738, 17.20578814413045, 4.838217208265431, 5.345007910266022, 4.792319489341181, 5.52542209419977, 58.152932490210894, 27.194393354687705, 21.366790415707936, 30.620968351518172, 19.25879293268414, 15.63794417738358, 12.753032699344052, 11.599210080711556, 9.573479873597364, 9.649372675799746, 6.899875886412791, 7.105648590399763, 6.728787608589482, 4.653947036309042, 4.374187202378946, 3.7589689030386997, 3.0891795942255578, 2.6823644221126415, 2.8527068079032243, 2.973338244004601, 2.882907544554402, 2.0228856935059585, 1.9939817072749482, 2.056255205810734, 1.8065150696671861, 2.4439420437406993, 1.6757700224530219, 2.3707268599432205, 1.7812862021642846, 1.605297220141132, 7.818675518446443, 2.8739169401487694, 5.641679002618134, 2.6641122505270136, 2.330863025011796, 25.213830522027312, 12.277228609800568, 13.1251372757048, 7.7515447899220495, 6.514648806598751, 7.138369373485964, 4.78796731141954, 4.460787419662028, 8.851673741637313, 3.3156550050544515, 4.338216438845346, 3.785720185779783, 3.549094149142658, 4.11815471583303, 2.9977967298953216, 2.3852555750599014, 2.4058443770470257, 3.5461389664413634, 2.3224751444671448, 3.487323479484851, 2.1818815188209704, 2.280637108617562, 3.1985938962235267, 1.7947818427303577, 1.7671929333415402, 2.808729139483001, 2.019107262177378, 1.8091629967565834, 1.8069817484701949, 1.6288924412571617, 2.1331623179978214, 3.0686934742115746, 3.1090286305799313, 1.9567618756449756, 2.7529132364803104, 2.3012222350043117, 4.07268636300532], \"Total\": [547.0, 578.0, 444.0, 356.0, 314.0, 210.0, 314.0, 836.0, 293.0, 1546.0, 256.0, 222.0, 392.0, 689.0, 205.0, 1332.0, 898.0, 467.0, 653.0, 308.0, 192.0, 330.0, 923.0, 286.0, 127.0, 220.0, 154.0, 233.0, 121.0, 123.0, 1546.15366131001, 1332.970933762724, 923.0762655031247, 763.8784451372113, 790.2339630900641, 601.7888863261737, 604.640102005166, 586.4385100584798, 593.9661449119694, 885.3679238447227, 465.165955232656, 366.1769982239606, 466.10545266457854, 592.1275710119011, 504.6881088048613, 394.17304488959957, 399.11307838648077, 275.6576251351453, 284.9327602756015, 256.96170732872963, 330.96747769561404, 314.17428188429915, 232.1703735004036, 244.32302081968518, 302.3392766491958, 257.57901960840235, 236.55614567528735, 207.31850109170537, 253.76629724083526, 241.0143795861318, 268.51167701591504, 1027.004343509455, 288.9942427016128, 387.99805148683834, 898.4537374227251, 439.6871286658313, 433.86780784266784, 689.4634024027058, 335.1849504589955, 653.3022753787147, 836.6376783820983, 396.5236331210447, 467.8528035958892, 444.590480099441, 578.2630542105688, 135.69697724728314, 120.96776788583614, 90.73289787281236, 154.55620503096011, 77.2352858148087, 192.51740984312127, 61.84769573934528, 97.04518543665021, 75.85177604896896, 59.24808869688822, 61.25634370585539, 55.21418461091542, 55.55368057693137, 53.07213078844333, 49.145349096611895, 48.072560646414374, 45.19113129340009, 41.07829333657612, 42.53780626693524, 49.005771128016384, 41.28858912790984, 34.27472712634132, 33.090775313287395, 34.215026423005135, 31.77552902077928, 36.57740528732425, 32.709344649903706, 30.734704683749005, 42.34812993291519, 41.65285146893886, 39.443802524374846, 73.71276078065283, 392.92295168740674, 222.0139672024453, 60.4170359385476, 308.2951319314964, 330.3318193046788, 836.6376783820983, 233.32236470931647, 131.07763808264266, 118.92295375112624, 95.94910657645508, 653.3022753787147, 265.5548319217084, 338.76440956684695, 210.12655654798138, 396.5236331210447, 547.5052485108757, 314.469191275778, 293.33377037921935, 256.09815530994774, 314.28341035836587, 127.35699979407427, 77.52810475070848, 64.33300256828217, 57.10214272651362, 67.45916834597672, 51.09301439102704, 39.68249572528058, 33.491633178619956, 31.889150661403, 32.635579566425285, 28.42995273084495, 29.416473190542686, 25.860008367208216, 19.969462344757794, 18.86086177030567, 19.871931545760567, 17.843599799088285, 18.43887755953238, 16.413460458219266, 17.349617804165916, 16.67257089923265, 21.177660916378834, 15.256687511147053, 14.789754339061133, 15.079483402747133, 39.219710812852945, 19.644498941016955, 19.760021508090354, 32.07766291701395, 160.4222537267898, 169.68487269138373, 233.86615484108412, 55.61129200026066, 73.42177865561578, 467.8528035958892, 689.4634024027058, 55.52081657764211, 54.20624452503439, 320.32328075487754, 112.81620480448765, 178.75839079638925, 113.17158663433209, 168.1813992817978, 169.2525652817318, 78.94768232207043, 286.489077489573, 356.5865554004402, 205.85138490578643, 127.78194134762629, 105.17554526412869, 99.61426614315224, 121.68185999026802, 91.41383045316233, 69.3495367900114, 67.93518353785711, 72.9295603474849, 60.11322575909437, 50.60631219081639, 42.703748337806296, 43.72094073355051, 39.854256241437014, 30.15089666785721, 123.5128322177475, 30.248459012345734, 42.02669173725544, 30.349829932509035, 25.424147754636607, 27.741393916283243, 26.063224762618816, 22.60525798972854, 24.754749230013907, 22.666373005216883, 22.50838804964353, 20.166631606664236, 17.223954330465336, 25.34771046338254, 23.373263672439272, 70.52694597734103, 26.47939493931377, 220.33455394036972, 76.53634079012608, 54.8745639596677, 286.489077489573, 315.08027516828247, 898.4537374227251, 125.72400443804423, 268.990684432788, 433.86780784266784, 218.88280228640028, 210.25437114193699, 29.113552939458582, 32.31366510941069, 27.119756493652208, 18.632896862828527, 23.131979992542583, 14.282150187423902, 19.32442342412835, 18.2295366138641, 15.832914891652772, 12.633299114430733, 11.095419905860215, 12.945406985562268, 9.312692167526196, 8.840087014668317, 9.437824655176943, 8.413236011447832, 9.014355272852516, 7.28118462935865, 7.913394646708922, 9.751278337116451, 7.881042107121922, 9.444025793274397, 9.470595052368402, 6.831505601358261, 7.606859761424587, 8.249146321317982, 7.030480860668086, 6.787102620867115, 11.47643943436679, 222.0139672024453, 13.290395362647464, 12.254294593157622, 13.03458515787153, 93.67818796436129, 9.851524511923623, 12.37019950113598, 9.857057687765083, 19.667408891042125, 62.925488503752945, 31.303783455874637, 25.37205635290907, 36.58619277858924, 23.6101775080706, 19.55621858792363, 16.87443272138721, 15.610914324303344, 13.545727658253442, 13.955136337944866, 10.92933774967866, 11.669026565532443, 11.686131606441073, 8.44041960061211, 8.267208812819083, 7.216004076010801, 6.846433947634376, 6.018461163069755, 6.688449463229384, 7.3086436740430685, 7.567837541645385, 5.4597909774649, 5.450891880764421, 5.62147430187852, 5.11437498134258, 6.936851232486072, 5.022392247176012, 7.136460126123354, 5.363307481433884, 5.22888296946663, 25.900346622746085, 9.72793985270926, 25.582454395955928, 12.51208533963726, 119.31078090283722, 29.067264003269834, 16.240851024528535, 18.655356571513256, 11.416300411026153, 10.050843558359714, 11.180348253210981, 8.687602427223187, 8.31070337285022, 17.85961990296023, 6.791122417939675, 8.921399451062538, 7.8534903032339125, 7.676016301900242, 8.978977080927828, 6.849338736450376, 5.779000393399347, 5.933287370750307, 8.751825048206632, 5.76809262444193, 8.784756420229392, 5.841241641076433, 6.475136575582361, 9.154664917117275, 5.1946442679684735, 5.119109521407898, 8.144839321488073, 5.859797401909187, 5.360983866401403, 5.3742586391561264, 4.853286780285899, 6.386417745940259, 9.394212756452376, 9.750347560349892, 6.2070752253047115, 12.23496094719625, 8.982521513160282, 39.38855330861305], \"Category\": [\"Default\", \"Default\", \"Default\", \"Default\", \"Default\", \"Default\", \"Default\", \"Default\", \"Default\", \"Default\", \"Default\", \"Default\", \"Default\", \"Default\", \"Default\", \"Default\", \"Default\", \"Default\", \"Default\", \"Default\", \"Default\", \"Default\", \"Default\", \"Default\", \"Default\", \"Default\", \"Default\", \"Default\", \"Default\", \"Default\", \"Topic1\", \"Topic1\", \"Topic1\", \"Topic1\", \"Topic1\", \"Topic1\", \"Topic1\", \"Topic1\", \"Topic1\", \"Topic1\", \"Topic1\", \"Topic1\", \"Topic1\", \"Topic1\", \"Topic1\", \"Topic1\", \"Topic1\", \"Topic1\", \"Topic1\", \"Topic1\", \"Topic1\", \"Topic1\", \"Topic1\", \"Topic1\", \"Topic1\", \"Topic1\", \"Topic1\", \"Topic1\", \"Topic1\", \"Topic1\", \"Topic1\", \"Topic1\", \"Topic1\", \"Topic1\", \"Topic1\", \"Topic1\", \"Topic1\", \"Topic1\", \"Topic1\", \"Topic1\", \"Topic1\", \"Topic1\", \"Topic1\", \"Topic2\", \"Topic2\", \"Topic2\", \"Topic2\", \"Topic2\", \"Topic2\", \"Topic2\", \"Topic2\", \"Topic2\", \"Topic2\", \"Topic2\", \"Topic2\", \"Topic2\", \"Topic2\", \"Topic2\", \"Topic2\", \"Topic2\", \"Topic2\", \"Topic2\", \"Topic2\", \"Topic2\", \"Topic2\", \"Topic2\", \"Topic2\", \"Topic2\", \"Topic2\", \"Topic2\", \"Topic2\", \"Topic2\", \"Topic2\", \"Topic2\", \"Topic2\", \"Topic2\", \"Topic2\", \"Topic2\", \"Topic2\", \"Topic2\", \"Topic2\", \"Topic2\", \"Topic2\", \"Topic2\", \"Topic2\", \"Topic2\", \"Topic2\", \"Topic2\", \"Topic2\", \"Topic2\", \"Topic2\", \"Topic2\", \"Topic3\", \"Topic3\", \"Topic3\", \"Topic3\", \"Topic3\", \"Topic3\", \"Topic3\", \"Topic3\", \"Topic3\", \"Topic3\", \"Topic3\", \"Topic3\", \"Topic3\", \"Topic3\", \"Topic3\", \"Topic3\", \"Topic3\", \"Topic3\", \"Topic3\", \"Topic3\", \"Topic3\", \"Topic3\", \"Topic3\", \"Topic3\", \"Topic3\", \"Topic3\", \"Topic3\", \"Topic3\", \"Topic3\", \"Topic3\", \"Topic3\", \"Topic3\", \"Topic3\", \"Topic3\", \"Topic3\", \"Topic3\", \"Topic3\", \"Topic3\", \"Topic3\", \"Topic3\", \"Topic3\", \"Topic3\", \"Topic3\", \"Topic3\", \"Topic3\", \"Topic3\", \"Topic3\", \"Topic3\", \"Topic3\", \"Topic3\", \"Topic3\", \"Topic4\", \"Topic4\", \"Topic4\", \"Topic4\", \"Topic4\", \"Topic4\", \"Topic4\", \"Topic4\", \"Topic4\", \"Topic4\", \"Topic4\", \"Topic4\", \"Topic4\", \"Topic4\", \"Topic4\", \"Topic4\", \"Topic4\", \"Topic4\", \"Topic4\", \"Topic4\", \"Topic4\", \"Topic4\", \"Topic4\", \"Topic4\", \"Topic4\", \"Topic4\", \"Topic4\", \"Topic4\", \"Topic4\", \"Topic4\", \"Topic4\", \"Topic4\", \"Topic4\", \"Topic4\", \"Topic4\", \"Topic4\", \"Topic4\", \"Topic4\", \"Topic4\", \"Topic4\", \"Topic4\", \"Topic4\", \"Topic4\", \"Topic5\", \"Topic5\", \"Topic5\", \"Topic5\", \"Topic5\", \"Topic5\", \"Topic5\", \"Topic5\", \"Topic5\", \"Topic5\", \"Topic5\", \"Topic5\", \"Topic5\", \"Topic5\", \"Topic5\", \"Topic5\", \"Topic5\", \"Topic5\", \"Topic5\", \"Topic5\", \"Topic5\", \"Topic5\", \"Topic5\", \"Topic5\", \"Topic5\", \"Topic5\", \"Topic5\", \"Topic5\", \"Topic5\", \"Topic5\", \"Topic5\", \"Topic5\", \"Topic5\", \"Topic5\", \"Topic5\", \"Topic5\", \"Topic5\", \"Topic5\", \"Topic5\", \"Topic6\", \"Topic6\", \"Topic6\", \"Topic6\", \"Topic6\", \"Topic6\", \"Topic6\", \"Topic6\", \"Topic6\", \"Topic6\", \"Topic6\", \"Topic6\", \"Topic6\", \"Topic6\", \"Topic6\", \"Topic6\", \"Topic6\", \"Topic6\", \"Topic6\", \"Topic6\", \"Topic6\", \"Topic6\", \"Topic6\", \"Topic6\", \"Topic6\", \"Topic6\", \"Topic6\", \"Topic6\", \"Topic6\", \"Topic6\", \"Topic6\", \"Topic6\", \"Topic6\", \"Topic6\", \"Topic6\", \"Topic7\", \"Topic7\", \"Topic7\", \"Topic7\", \"Topic7\", \"Topic7\", \"Topic7\", \"Topic7\", \"Topic7\", \"Topic7\", \"Topic7\", \"Topic7\", \"Topic7\", \"Topic7\", \"Topic7\", \"Topic7\", \"Topic7\", \"Topic7\", \"Topic7\", \"Topic7\", \"Topic7\", \"Topic7\", \"Topic7\", \"Topic7\", \"Topic7\", \"Topic7\", \"Topic7\", \"Topic7\", \"Topic7\", \"Topic7\", \"Topic7\", \"Topic7\", \"Topic7\", \"Topic7\", \"Topic7\", \"Topic7\", \"Topic7\"], \"logprob\": [30.0, 29.0, 28.0, 27.0, 26.0, 25.0, 24.0, 23.0, 22.0, 21.0, 20.0, 19.0, 18.0, 17.0, 16.0, 15.0, 14.0, 13.0, 12.0, 11.0, 10.0, 9.0, 8.0, 7.0, 6.0, 5.0, 4.0, 3.0, 2.0, 1.0, -3.8114, -3.9606, -4.3281, -4.518, -4.4845, -4.7581, -4.7536, -4.7843, -4.773, -4.3742, -5.0182, -5.2582, -5.0178, -4.7787, -4.9398, -5.1884, -5.1759, -5.5461, -5.5132, -5.6166, -5.3642, -5.4165, -5.719, -5.6681, -5.4552, -5.6156, -5.7007, -5.8327, -5.6309, -5.6824, -5.5759, -4.2479, -5.5044, -5.2294, -4.4362, -5.1238, -5.173, -4.8099, -5.4065, -4.9022, -4.7337, -5.3297, -5.2827, -3.44, -3.1778, -4.6445, -4.763, -5.0574, -4.5268, -5.2244, -4.3166, -5.4555, -5.006, -5.254, -5.5018, -5.4704, -5.5748, -5.5713, -5.6179, -5.7004, -5.7229, -5.7881, -5.8891, -5.8593, -5.7209, -5.8934, -6.0922, -6.1274, -6.0965, -6.1728, -6.039, -6.1508, -6.2137, -5.9114, -5.9327, -5.9821, -5.4743, -4.1803, -4.7938, -5.6959, -4.5977, -4.6714, -4.1333, -4.9078, -5.2881, -5.3543, -5.4721, -4.6483, -5.3815, -5.4826, -5.5434, -5.5009, -3.0386, -3.597, -3.6673, -3.8043, -3.6065, -4.5173, -5.0262, -5.2222, -5.3595, -5.1935, -5.472, -5.7348, -5.9214, -5.9733, -5.9534, -6.1036, -6.08, -6.2138, -6.5084, -6.5753, -6.5273, -6.6375, -6.6289, -6.7458, -6.6915, -6.7392, -6.5027, -6.8308, -6.8632, -6.8452, -5.8991, -6.5925, -6.5952, -6.1686, -4.9081, -4.9498, -4.779, -5.839, -5.7226, -4.6289, -4.5592, -6.0071, -6.0299, -5.2653, -5.7582, -5.615, -5.7787, -5.6919, -5.847, -5.9721, -5.8778, -3.2456, -3.8023, -4.2903, -4.4907, -4.5451, -4.3474, -4.6351, -4.9208, -4.9454, -4.8745, -5.0705, -5.2598, -5.4343, -5.4155, -5.5095, -5.8166, -4.4079, -5.8187, -5.491, -5.8223, -6.0062, -5.9201, -5.9918, -6.1461, -6.0582, -6.1514, -6.1614, -6.2796, -6.4595, -6.0762, -6.171, -5.1621, -6.0857, -4.7294, -5.417, -5.6226, -4.7045, -5.1797, -4.8807, -5.6113, -5.5934, -5.5875, -5.7104, -2.9736, -5.0796, -4.9861, -5.1714, -5.6157, -5.4125, -5.9225, -5.6295, -5.6905, -5.8615, -6.1257, -6.2707, -6.1207, -6.5393, -6.6386, -6.5802, -6.7086, -6.6462, -6.8919, -6.8187, -6.6128, -6.8317, -6.6607, -6.6637, -7.0041, -6.9003, -6.8248, -6.996, -7.0378, -6.5374, -3.7178, -6.4186, -6.5071, -6.5075, -5.4584, -6.7271, -6.6274, -6.7366, -6.5942, -3.7838, -4.5439, -4.785, -4.4252, -4.8889, -5.0972, -5.3011, -5.3959, -5.5879, -5.58, -5.9154, -5.886, -5.9405, -6.3092, -6.3712, -6.5227, -6.719, -6.8602, -6.7986, -6.7572, -6.7881, -7.1424, -7.1567, -7.126, -7.2555, -6.9533, -7.3306, -6.9837, -7.2695, -7.3736, -5.7904, -6.7912, -6.1167, -6.867, -7.0006, -4.6069, -5.3266, -5.2598, -5.7864, -5.9603, -5.8688, -6.2682, -6.339, -5.6537, -6.6357, -6.3669, -6.5031, -6.5676, -6.4189, -6.7365, -6.965, -6.9564, -6.5685, -6.9917, -6.5852, -7.0541, -7.0099, -6.6716, -7.2495, -7.2649, -6.8016, -7.1317, -7.2415, -7.2427, -7.3464, -7.0767, -6.7131, -6.7, -7.163, -6.8217, -7.0009, -6.43], \"loglift\": [30.0, 29.0, 28.0, 27.0, 26.0, 25.0, 24.0, 23.0, 22.0, 21.0, 20.0, 19.0, 18.0, 17.0, 16.0, 15.0, 14.0, 13.0, 12.0, 11.0, 10.0, 9.0, 8.0, 7.0, 6.0, 5.0, 4.0, 3.0, 2.0, 1.0, 0.4807, 0.4798, 0.4798, 0.4792, 0.4788, 0.4776, 0.4774, 0.4773, 0.4758, 0.4754, 0.475, 0.4743, 0.4734, 0.4732, 0.4719, 0.4705, 0.4704, 0.4703, 0.4702, 0.4701, 0.4693, 0.4692, 0.4691, 0.469, 0.4689, 0.4687, 0.4687, 0.4687, 0.4683, 0.4683, 0.4668, 0.4533, 0.4648, 0.4452, 0.3987, 0.4258, 0.3898, 0.2898, 0.4144, 0.2514, 0.1725, 0.3232, 0.2047, 2.0985, 2.0977, 2.0807, 2.0771, 2.0703, 2.0682, 2.0643, 2.0588, 2.0555, 2.0545, 2.0528, 2.0521, 2.0501, 2.0496, 2.047, 2.0461, 2.0404, 2.04, 2.0366, 2.0311, 2.0259, 2.0228, 2.0216, 2.009, 2.009, 2.0064, 2.0041, 1.9972, 1.9971, 1.9965, 1.9783, 1.9735, 1.9786, 1.8611, 1.4817, 1.439, 1.8384, 1.3069, 1.1642, 0.773, 1.2754, 1.4717, 1.5028, 1.5997, 0.5052, 0.6723, 0.3277, 0.7445, 0.1519, 2.2916, 2.2877, 2.287, 2.2857, 2.2788, 2.2713, 2.2588, 2.2494, 2.2313, 2.2306, 2.2299, 2.2199, 2.2029, 2.2, 2.1968, 2.1846, 2.174, 2.1691, 2.133, 2.1232, 2.119, 2.1165, 2.0922, 2.0917, 2.0905, 2.0826, 2.0799, 2.0798, 2.0784, 2.0771, 2.0673, 2.0653, 2.0568, 1.9989, 1.6497, 1.5519, 1.4019, 1.7782, 1.6168, 0.8586, 0.5405, 1.6118, 1.613, 0.601, 1.1516, 0.8346, 1.128, 0.8187, 0.6573, 1.2947, 0.1001, 2.5134, 2.5062, 2.495, 2.4893, 2.4892, 2.4869, 2.4851, 2.4756, 2.4716, 2.4716, 2.4689, 2.4518, 2.447, 2.4423, 2.4409, 2.4128, 2.4114, 2.4075, 2.4063, 2.4005, 2.3937, 2.3926, 2.3833, 2.3713, 2.3684, 2.3633, 2.3603, 2.3519, 2.3298, 2.3268, 2.313, 2.2175, 2.2735, 1.5111, 1.8808, 2.008, 1.2734, 0.7031, -0.0458, 1.1902, 0.4476, -0.0246, 0.5367, 3.3136, 3.1848, 3.174, 3.1639, 3.095, 3.0819, 3.0541, 3.0448, 3.042, 3.012, 2.9735, 2.9583, 2.9542, 2.8649, 2.8178, 2.8107, 2.7973, 2.7906, 2.7584, 2.7484, 2.7455, 2.7394, 2.7296, 2.7237, 2.7099, 2.7063, 2.7007, 2.6893, 2.6828, 2.658, 2.5151, 2.63, 2.6226, 2.5605, 1.6374, 2.6209, 2.4929, 2.6108, 2.0624, 3.7099, 3.648, 3.6169, 3.6107, 3.585, 3.5651, 3.5087, 3.4917, 3.4417, 3.4198, 3.3288, 3.2927, 3.2367, 3.1934, 3.1522, 3.1366, 2.9929, 2.9806, 2.9366, 2.8894, 2.8236, 2.7958, 2.7831, 2.783, 2.7481, 2.7455, 2.6911, 2.6867, 2.6865, 2.6078, 2.591, 2.5694, 2.277, 2.2419, -0.1468, 3.6591, 3.5215, 3.4497, 3.4141, 3.3677, 3.3526, 3.2055, 3.1791, 3.0993, 3.0843, 3.0803, 3.0716, 3.0299, 3.0218, 2.975, 2.9164, 2.8986, 2.8979, 2.8916, 2.8774, 2.8165, 2.7578, 2.7497, 2.7385, 2.7377, 2.7366, 2.7358, 2.715, 2.7113, 2.7095, 2.7047, 2.6824, 2.6583, 2.6469, 2.3096, 2.4394, 1.5321]}, \"token.table\": {\"Topic\": [1, 2, 3, 4, 6, 1, 2, 3, 4, 7, 1, 2, 3, 4, 1, 2, 3, 4, 5, 1, 2, 3, 4, 1, 2, 3, 4, 1, 2, 3, 4, 1, 2, 3, 4, 5, 1, 2, 3, 4, 6, 1, 2, 3, 4, 1, 2, 3, 4, 5, 1, 2, 3, 4, 1, 2, 3, 4, 1, 2, 3, 4, 1, 2, 3, 4, 7, 1, 2, 3, 4, 1, 2, 3, 4, 1, 2, 3, 4, 1, 2, 3, 4, 5, 1, 2, 3, 4, 1, 2, 3, 4, 1, 2, 3, 4, 1, 2, 3, 4, 1, 2, 3, 4, 6, 1, 2, 3, 4, 1, 2, 3, 4, 7, 1, 2, 3, 4, 6, 1, 2, 3, 4, 7, 1, 2, 3, 4, 5, 1, 2, 3, 4, 1, 2, 3, 4, 1, 2, 3, 4, 5, 1, 2, 3, 4, 7, 1, 2, 3, 4, 1, 2, 3, 4, 5, 7, 1, 2, 3, 4, 5, 1, 2, 3, 4, 1, 2, 3, 4, 1, 2, 3, 4, 1, 2, 3, 4, 5, 1, 2, 3, 4, 6, 1, 2, 3, 4, 1, 2, 3, 4, 1, 2, 3, 4, 1, 2, 3, 4, 1, 2, 3, 4, 1, 2, 3, 4, 1, 2, 3, 4, 1, 2, 3, 4, 1, 2, 3, 4, 1, 2, 3, 4, 7, 1, 2, 3, 4, 5, 1, 2, 3, 4, 6, 1, 2, 3, 4, 6, 1, 2, 3, 4, 1, 2, 3, 4, 1, 2, 3, 4, 7, 1, 2, 3, 4, 1, 2, 3, 4, 7, 1, 2, 3, 4, 5, 1, 2, 3, 4, 1, 2, 3, 4, 5, 1, 2, 3, 4, 6, 1, 2, 3, 4, 5, 1, 2, 3, 4, 1, 2, 3, 4, 1, 2, 3, 4, 1, 2, 3, 4, 1, 2, 3, 4, 1, 2, 3, 4, 6, 1, 2, 3, 4, 7, 1, 2, 3, 4, 1, 2, 3, 4, 1, 2, 3, 4, 6, 1, 2, 3, 4, 5, 1, 2, 3, 4, 1, 2, 3, 4, 1, 2, 3, 4, 1, 2, 3, 4, 7, 1, 2, 3, 4, 5, 1, 2, 3, 4, 1, 2, 3, 4, 6, 1, 2, 3, 4, 1, 2, 3, 4, 1, 2, 3, 4, 1, 2, 3, 4, 1, 2, 3, 4, 1, 2, 3, 4, 5, 1, 2, 3, 4, 1, 2, 3, 4, 5, 1, 2, 3, 4, 5, 1, 2, 3, 4, 1, 2, 3, 4, 1, 2, 3, 4, 5, 1, 2, 3, 4, 1, 2, 3, 4, 5, 1, 2, 3, 4, 7, 1, 2, 3, 4, 1, 2, 3, 4, 7, 1, 2, 3, 4, 7, 1, 2, 3, 4, 5, 1, 2, 3, 4, 1, 2, 3, 4, 5, 1, 2, 3, 4, 1, 2, 3, 4, 1, 2, 3, 4, 7, 1, 2, 3, 4, 6, 1, 2, 3, 4, 1, 2, 3, 4, 1, 2, 3, 4, 1, 2, 3, 4, 5, 1, 2, 3, 4, 5, 1, 2, 3, 4, 1, 2, 3, 4, 6, 1, 2, 3, 4, 1, 2, 3, 4, 1, 2, 3, 4, 1, 2, 3, 4, 7, 1, 2, 3, 4, 1, 2, 3, 4, 1, 2, 3, 4, 5, 1, 2, 3, 4, 1, 2, 3, 4, 6, 1, 2, 3, 4, 7, 1, 2, 3, 4, 1, 2, 3, 4, 5, 1, 2, 3, 4, 1, 2, 3, 4, 5, 1, 2, 3, 4, 6, 1, 2, 3, 4, 1, 2, 3, 4, 1, 2, 3, 4, 1, 2, 3, 4, 1, 2, 3, 4, 7, 1, 2, 3, 4, 1, 2, 3, 4, 1, 2, 3, 4, 5, 1, 2, 3, 4, 1, 2, 3, 4, 1, 2, 3, 4, 6, 1, 2, 3, 4, 1, 2, 3, 4, 1, 2, 3, 4, 1, 2, 3, 4, 1, 2, 3, 4, 1, 2, 3, 4, 1, 2, 3, 4, 6, 1, 2, 3, 4, 6, 1, 2, 3, 4, 1, 2, 3, 4, 1, 2, 3, 4, 1, 2, 3, 4, 1, 2, 3, 4, 1, 2, 3, 4, 1, 2, 3, 4, 1, 2, 3, 4, 1, 2, 3, 4, 5, 7, 1, 2, 3, 4, 5, 1, 2, 3, 4, 1, 2, 3, 4, 1, 2, 3, 4, 6, 1, 2, 3, 4, 1, 2, 3, 4, 1, 2, 3, 4, 6, 1, 2, 3, 4, 5, 1, 2, 3, 4, 7, 1, 2, 3, 4, 1, 2, 3, 4, 1, 2, 3, 4, 7, 1, 2, 3, 4, 5, 7, 1, 2, 3, 4, 5, 1, 2, 3, 4, 1, 2, 3, 4, 1, 2, 3, 4, 1, 2, 3, 4, 7, 1, 2, 3, 4, 1, 2, 3, 4, 7, 1, 2, 3, 4, 7, 1, 2, 3, 4, 5, 1, 2, 3, 4, 1, 2, 3, 4, 1, 2, 3, 4, 5, 1, 2, 3, 4, 7, 1, 2, 3, 4, 1, 2, 3, 4, 1, 2, 3, 4, 5, 1, 2, 3, 4, 5, 1, 2, 3, 4, 5, 1, 2, 3, 4, 1, 2, 3, 4, 1, 2, 3, 4, 1, 2, 3, 4, 1, 2, 3, 4, 1, 2, 3, 4, 5, 1, 2, 3, 4, 7, 1, 2, 3, 4, 1, 2, 3, 4, 5, 1, 2, 3, 4, 6, 1, 2, 3, 4, 7, 1, 2, 3, 4, 6, 1, 2, 3, 4, 1, 2, 3, 4, 7, 1, 2, 3, 4, 6, 1, 2, 3, 4, 1, 2, 3, 4, 6, 1, 2, 3, 4, 7, 1, 2, 3, 4, 1, 2, 3, 4, 6, 1, 2, 3, 4, 1, 2, 3, 4, 1, 2, 3, 4, 5, 1, 2, 3, 4, 1, 2, 3, 4, 1, 2, 3, 4, 1, 2, 3, 4, 7, 1, 2, 3, 4, 1, 2, 3, 4, 1, 2, 3, 4, 1, 2, 3, 4, 1, 2, 3, 4, 1, 2, 3, 4, 5, 1, 2, 3, 4, 5, 1, 2, 3, 4, 5, 1, 2, 3, 4, 5, 7, 1, 2, 3, 4, 5, 1, 2, 3, 4, 5, 1, 2, 3, 4, 1, 2, 3, 4, 1, 2, 3, 4, 1, 2, 3, 4, 1, 2, 3, 4, 1, 2, 3, 4, 6, 1, 2, 3, 4, 5, 6, 1, 2, 3, 4, 1, 2, 3, 4, 1, 2, 3, 4, 6, 1, 2, 3, 4, 5, 1, 2, 3, 4, 1, 2, 3, 4, 1, 2, 3, 4, 1, 2, 3, 4, 5, 1, 2, 3, 4, 1, 2, 3, 4, 1, 2, 3, 4, 5, 1, 2, 3, 4, 1, 2, 3, 4, 7, 1, 2, 3, 4, 1, 2, 3, 4, 1, 2, 3, 4, 1, 2, 3, 4, 1, 2, 3, 4, 1, 2, 3, 4, 5, 1, 2, 3, 4, 1, 2, 3, 4, 1, 2, 3, 4, 1, 2, 3, 4, 5, 1, 2, 3, 4, 1, 2, 3, 4, 5, 1, 2, 3, 4, 5, 1, 2, 3, 4, 7, 1, 2, 3, 4, 1, 2, 3, 4, 6, 1, 2, 3, 4, 6, 1, 2, 3, 4, 6, 1, 2, 3, 4, 7, 1, 2, 3, 4, 6, 1, 2, 3, 4, 6, 1, 2, 3, 4, 1, 2, 3, 4, 5, 7, 1, 2, 3, 4, 7, 1, 2, 3, 4, 1, 2, 3, 4, 1, 2, 3, 4, 1, 2, 3, 4, 1, 2, 3, 4, 1, 2, 3, 4, 6, 1, 2, 3, 4, 1, 2, 3, 4, 1, 2, 3, 4, 1, 2, 3, 4, 1, 2, 3, 4, 1, 2, 3, 4, 5, 1, 2, 3, 4, 5, 1, 2, 3, 4, 1, 2, 3, 4, 7, 1, 2, 3, 4, 1, 2, 3, 4, 6, 1, 2, 3, 4], \"Freq\": [0.07382401486498939, 0.07382401486498939, 0.07382401486498939, 0.07382401486498939, 0.7382401486498938, 0.11510655654158766, 0.11510655654158766, 0.11510655654158766, 0.11510655654158766, 0.5755327827079384, 0.02535252526381137, 0.887338384233398, 0.02535252526381137, 0.02535252526381137, 0.9104155525252466, 0.004609699000127831, 0.004609699000127831, 0.07836488300217313, 0.0023048495000639155, 0.6559341375491511, 0.008863974831745284, 0.31910309394283026, 0.008863974831745284, 0.4585929862887573, 0.43716340749021726, 0.09857606247328428, 0.004285915759708012, 0.20844383771373015, 0.6044871293698174, 0.17717726205667061, 0.010422191885686508, 0.1373402888271607, 0.1373402888271607, 0.1373402888271607, 0.1373402888271607, 0.5493611553086428, 0.08569695118817919, 0.08569695118817919, 0.08569695118817919, 0.08569695118817919, 0.5998786583172543, 0.919357297538142, 0.0022260467252739518, 0.0011130233626369759, 0.07679861202195133, 0.03434826391953921, 0.03434826391953921, 0.03434826391953921, 0.03434826391953921, 0.8587065979884803, 0.35963918982328724, 0.01798195949116436, 0.593404663208424, 0.01798195949116436, 0.054233236094299475, 0.054233236094299475, 0.8134985414144921, 0.054233236094299475, 0.06631526911709874, 0.06631526911709874, 0.7957832294051849, 0.06631526911709874, 0.2128970305283227, 0.10644851526416135, 0.31934554579248403, 0.10644851526416135, 0.31934554579248403, 0.5009285662994527, 0.011786554501163593, 0.4773554572971255, 0.005893277250581796, 0.943852964855394, 0.05003557885980402, 0.0022743444936274555, 0.0022743444936274555, 0.02509142295723703, 0.02509142295723703, 0.02509142295723703, 0.9283826494177703, 0.5627805434165299, 0.06353973877283403, 0.004538552769488145, 0.36308422155905157, 0.004538552769488145, 0.01941041447930901, 0.9640505858056807, 0.006470138159769669, 0.006470138159769669, 0.04411821863911974, 0.04411821863911974, 0.04411821863911974, 0.8382461541432751, 0.9962318021204352, 0.0013091088069913735, 0.0013091088069913735, 0.0013091088069913735, 0.9861975847501793, 0.003509599945730175, 0.003509599945730175, 0.003509599945730175, 0.1834562163173492, 0.1834562163173492, 0.1834562163173492, 0.1834562163173492, 0.3669124326346984, 0.8206292991505751, 0.1682585253654057, 0.002951903953779047, 0.005903807907558094, 0.09949413640691457, 0.09949413640691457, 0.09949413640691457, 0.09949413640691457, 0.6964589548484019, 0.03941343918248643, 0.03941343918248643, 0.03941343918248643, 0.03941343918248643, 0.8276822228322149, 0.7362545095978076, 0.07616425961356629, 0.025388086537855434, 0.025388086537855434, 0.10155234615142174, 0.08646038949734398, 0.04323019474867199, 0.04323019474867199, 0.04323019474867199, 0.7781435054760959, 0.02917601637830299, 0.9044565077273926, 0.02917601637830299, 0.02917601637830299, 0.43227029931084715, 0.0180112624712853, 0.5043153491959884, 0.0180112624712853, 0.34624420913785897, 0.03644675885661673, 0.018223379428308366, 0.6013715211341761, 0.018223379428308366, 0.2184678541603883, 0.10923392708019415, 0.10923392708019415, 0.10923392708019415, 0.3277017812405824, 0.016436303654135117, 0.008218151827067558, 0.008218151827067558, 0.9615237637669043, 0.11198446612340839, 0.05599223306170419, 0.16797669918511257, 0.16797669918511257, 0.05599223306170419, 0.5039300975553377, 0.9896516032830062, 0.005066475784725287, 0.001688825261575096, 0.001688825261575096, 0.001688825261575096, 0.004857873559887283, 0.004857873559887283, 0.004857873559887283, 0.9861483326571184, 0.03604721532803132, 0.03604721532803132, 0.03604721532803132, 0.8651331678727515, 0.020608956446433634, 0.9480119965359473, 0.010304478223216817, 0.010304478223216817, 0.03603376895970303, 0.5134812076757682, 0.004504221119962879, 0.004504221119962879, 0.44141366975636215, 0.06405774698559344, 0.06405774698559344, 0.06405774698559344, 0.06405774698559344, 0.7686929638271213, 0.008266664893277641, 0.9754664574067616, 0.008266664893277641, 0.008266664893277641, 0.02922692467446498, 0.9060346649084143, 0.02922692467446498, 0.02922692467446498, 0.9851584025074028, 0.003940633610029611, 0.003940633610029611, 0.003940633610029611, 0.0855678534255493, 0.04278392671277465, 0.04278392671277465, 0.8128946075427185, 0.04039628883768087, 0.04039628883768087, 0.04039628883768087, 0.8483220655912983, 0.03294911379153582, 0.03294911379153582, 0.03294911379153582, 0.8896260723714671, 0.032536509144620175, 0.9110222560493649, 0.032536509144620175, 0.032536509144620175, 0.014719913127823473, 0.014719913127823473, 0.014719913127823473, 0.9567943533085257, 0.9861051586660919, 0.0038823037742759525, 0.0038823037742759525, 0.0038823037742759525, 0.06157312806389895, 0.06157312806389895, 0.06157312806389895, 0.06157312806389895, 0.7388775367667875, 0.12122466508028047, 0.12122466508028047, 0.12122466508028047, 0.12122466508028047, 0.4848986603211219, 0.2802509878362389, 0.14012549391811946, 0.14012549391811946, 0.14012549391811946, 0.2802509878362389, 0.463314262731195, 0.11582856568279876, 0.11582856568279876, 0.03860952189426625, 0.30887617515413, 0.9868762084148893, 0.002536956833971438, 0.002536956833971438, 0.005073913667942876, 0.05763815729473212, 0.05763815729473212, 0.8069342021262497, 0.05763815729473212, 0.12277713046612916, 0.12277713046612916, 0.12277713046612916, 0.24555426093225832, 0.3683313913983875, 0.0339945578629561, 0.0339945578629561, 0.8838585044368584, 0.0339945578629561, 0.19250596352983396, 0.19250596352983396, 0.19250596352983396, 0.19250596352983396, 0.3850119270596679, 0.07724747480826816, 0.07724747480826816, 0.07724747480826816, 0.07724747480826816, 0.6952272732744135, 0.04958686306688626, 0.04958686306688626, 0.04958686306688626, 0.8429766721370665, 0.11093416775036409, 0.11093416775036409, 0.11093416775036409, 0.11093416775036409, 0.5546708387518204, 0.1321381430953104, 0.1321381430953104, 0.1321381430953104, 0.1321381430953104, 0.3964144292859312, 0.14733827611880734, 0.14733827611880734, 0.14733827611880734, 0.14733827611880734, 0.5893531044752294, 0.016635274307313524, 0.016635274307313524, 0.016635274307313524, 0.9482106355168708, 0.05805867693408957, 0.05805867693408957, 0.05805867693408957, 0.812821477077254, 0.0034586335499686266, 0.9926278288409958, 0.0017293167749843133, 0.0017293167749843133, 0.016551622972982936, 0.7613746567572149, 0.18206785270281228, 0.016551622972982936, 0.01616875112396202, 0.9539563163137591, 0.01616875112396202, 0.01616875112396202, 0.07165820353047637, 0.07165820353047637, 0.07165820353047637, 0.07165820353047637, 0.7165820353047637, 0.12032675877553818, 0.12032675877553818, 0.12032675877553818, 0.12032675877553818, 0.4813070351021527, 0.8524082091642202, 0.1412273956011726, 0.0025219177785923675, 0.0025219177785923675, 0.014419706984171705, 0.014419706984171705, 0.014419706984171705, 0.9517006609553326, 0.05466543108498647, 0.027332715542493235, 0.027332715542493235, 0.027332715542493235, 0.8473141818172903, 0.12688677289216896, 0.12688677289216896, 0.12688677289216896, 0.12688677289216896, 0.5075470915686758, 0.050322234539567835, 0.050322234539567835, 0.8554779871726531, 0.050322234539567835, 0.06761437526780995, 0.06761437526780995, 0.8113725032137195, 0.06761437526780995, 0.009545524520620447, 0.0031818415068734828, 0.9831890256239062, 0.0031818415068734828, 0.08759405096191886, 0.08759405096191886, 0.08759405096191886, 0.08759405096191886, 0.7007524076953509, 0.9338128086341112, 0.05668512256884381, 0.002983427503623358, 0.002983427503623358, 0.002983427503623358, 0.7858078829033577, 0.005908329946641787, 0.19497488823917897, 0.011816659893283574, 0.13858085298544157, 0.13858085298544157, 0.13858085298544157, 0.13858085298544157, 0.5543234119417663, 0.4425819881630507, 0.006233549129057053, 0.5236181268407925, 0.018700647387171157, 0.00950791362658199, 0.00950791362658199, 0.00950791362658199, 0.9698071899113629, 0.9856476581630819, 0.0033075424770573217, 0.0066150849541146434, 0.0033075424770573217, 0.029647563838063242, 0.014823781919031621, 0.9338982608989922, 0.014823781919031621, 0.025497383312481834, 0.12748691656240918, 0.7904188826869368, 0.025497383312481834, 0.036873487423608145, 0.036873487423608145, 0.036873487423608145, 0.036873487423608145, 0.8480902107429873, 0.5933908597481776, 0.0034905344691069273, 0.11169710301142168, 0.286223826466768, 0.07915588722645873, 0.07915588722645873, 0.07915588722645873, 0.07915588722645873, 0.7124029850381286, 0.3043504557880089, 0.10145015192933629, 0.10145015192933629, 0.10145015192933629, 0.5072507596466814, 0.9867312753153407, 0.0036276885121887524, 0.0036276885121887524, 0.0036276885121887524, 0.568701358648393, 0.017103800260102046, 0.4104912062424491, 0.004275950065025512, 0.3068758960529263, 0.07671897401323158, 0.07671897401323158, 0.07671897401323158, 0.46031384407938947, 0.9937039609533099, 0.0016617123092864715, 0.0016617123092864715, 0.0016617123092864715, 0.14223778142893242, 0.14223778142893242, 0.14223778142893242, 0.14223778142893242, 0.5689511257157297, 0.1733675350084641, 0.1733675350084641, 0.1733675350084641, 0.1733675350084641, 0.3467350700169282, 0.0028043682097801423, 0.0028043682097801423, 0.0028043682097801423, 0.9899419780523901, 0.22418007521923033, 0.11209003760961517, 0.11209003760961517, 0.11209003760961517, 0.44836015043846067, 0.1685406314431628, 0.1685406314431628, 0.1685406314431628, 0.1685406314431628, 0.3370812628863256, 0.07524230639597758, 0.07524230639597758, 0.07524230639597758, 0.22572691918793272, 0.526696144771843, 0.003409085829794533, 0.003409085829794533, 0.9886348906404145, 0.003409085829794533, 0.10595661993481396, 0.10595661993481396, 0.10595661993481396, 0.10595661993481396, 0.6357397196088838, 0.9884741296299813, 0.0038916304316140996, 0.0038916304316140996, 0.0038916304316140996, 0.9962707860788143, 0.00150040781035966, 0.00075020390517983, 0.00075020390517983, 0.34278564567681125, 0.11426188189227042, 0.11426188189227042, 0.11426188189227042, 0.4570475275690817, 0.13682429252250164, 0.13682429252250164, 0.13682429252250164, 0.13682429252250164, 0.41047287756750495, 0.9707845992092643, 0.027263760058033503, 0.0009737057163583393, 0.0009737057163583393, 0.024343757220059575, 0.9250627743622639, 0.024343757220059575, 0.024343757220059575, 0.7552093045733933, 0.005594142996839951, 0.22935986287043797, 0.005594142996839951, 0.017512477680381, 0.017512477680381, 0.928161317060193, 0.017512477680381, 0.017512477680381, 0.1463806162731063, 0.1463806162731063, 0.1463806162731063, 0.1463806162731063, 0.5855224650924252, 0.031470758499286045, 0.9126519964792954, 0.031470758499286045, 0.031470758499286045, 0.05926125141573306, 0.05926125141573306, 0.05926125141573306, 0.05926125141573306, 0.7703962684045298, 0.6079975825532402, 0.012666616303192504, 0.3673318727925826, 0.012666616303192504, 0.007851943761370928, 0.007851943761370928, 0.9736410264099951, 0.007851943761370928, 0.003904752842868902, 0.003904752842868902, 0.9879024692458321, 0.003904752842868902, 0.408664974214388, 0.2451989845286328, 0.0817329948428776, 0.0817329948428776, 0.2451989845286328, 0.18992640964377688, 0.7868379828099328, 0.013566172117412635, 0.013566172117412635, 0.9867134831684395, 0.003182946719898192, 0.003182946719898192, 0.003182946719898192, 0.10588704667792778, 0.10588704667792778, 0.10588704667792778, 0.10588704667792778, 0.5294352333896389, 0.023417148117526824, 0.023417148117526824, 0.023417148117526824, 0.936685924701073, 0.051134629913449664, 0.051134629913449664, 0.051134629913449664, 0.051134629913449664, 0.8181540786151946, 0.03440296272423535, 0.03440296272423535, 0.03440296272423535, 0.03440296272423535, 0.8600740681058837, 0.29516894483643163, 0.018448059052276977, 0.49809759441147833, 0.1660325314704928, 0.10558998610651402, 0.21117997221302803, 0.10558998610651402, 0.10558998610651402, 0.5279499305325701, 0.050904836158077754, 0.050904836158077754, 0.8144773785292441, 0.050904836158077754, 0.11886032896727333, 0.11886032896727333, 0.11886032896727333, 0.11886032896727333, 0.5943016448363667, 0.18645211065404912, 0.18645211065404912, 0.18645211065404912, 0.18645211065404912, 0.37290422130809825, 0.019760380804461616, 0.019760380804461616, 0.019760380804461616, 0.928737897809696, 0.0031799617506028965, 0.0031799617506028965, 0.9889681044375008, 0.0031799617506028965, 0.019572147228322862, 0.019572147228322862, 0.9394630669594974, 0.019572147228322862, 0.9839932226297669, 0.004823496189361602, 0.004823496189361602, 0.004823496189361602, 0.1860721761163734, 0.1860721761163734, 0.1860721761163734, 0.1860721761163734, 0.3721443522327468, 0.05301984671635677, 0.05301984671635677, 0.8483175474617083, 0.05301984671635677, 0.030572303135487734, 0.8865967909291443, 0.030572303135487734, 0.030572303135487734, 0.1097120591907389, 0.05485602959536945, 0.05485602959536945, 0.05485602959536945, 0.7679844143351723, 0.8085581522193379, 0.003121846147565011, 0.18418892270633566, 0.003121846147565011, 0.016878181591915575, 0.9451781691472723, 0.016878181591915575, 0.016878181591915575, 0.9471063649480551, 0.00838147225617748, 0.01676294451235496, 0.00838147225617748, 0.01676294451235496, 0.018842280970142507, 0.9421140485071253, 0.018842280970142507, 0.018842280970142507, 0.09443913602626422, 0.04721956801313211, 0.8027326562232459, 0.04721956801313211, 0.8238290792819185, 0.001450403308594927, 0.1725979937227963, 0.001450403308594927, 0.9959075878270047, 0.0012654480150279602, 0.0012654480150279602, 0.0012654480150279602, 0.9613450340037414, 0.028350657839252426, 0.0025773325308411296, 0.0025773325308411296, 0.9831974643857011, 0.0037242328196428072, 0.0037242328196428072, 0.0037242328196428072, 0.04235461591333538, 0.04235461591333538, 0.04235461591333538, 0.04235461591333538, 0.8047377023533722, 0.08557151619350475, 0.08557151619350475, 0.08557151619350475, 0.08557151619350475, 0.5990006133545333, 0.2268636445017837, 0.014178977781361481, 0.014178977781361481, 0.7373068446307971, 0.023794402049341634, 0.04758880409868327, 0.023794402049341634, 0.8803928758256405, 0.7281326192820525, 0.2569879832760185, 0.004759036727333676, 0.009518073454667353, 0.9890465716815964, 0.0021454372487670205, 0.0021454372487670205, 0.0021454372487670205, 0.007825831956015874, 0.007825831956015874, 0.007825831956015874, 0.9704031625459685, 0.0789025897581248, 0.0394512948790624, 0.0394512948790624, 0.8284771924603104, 0.9887294574498076, 0.0039628435168328965, 0.0039628435168328965, 0.0019814217584164483, 0.03866974773558272, 0.03866974773558272, 0.8894041979184024, 0.03866974773558272, 0.3339819443354189, 0.11132731477847296, 0.11132731477847296, 0.11132731477847296, 0.11132731477847296, 0.22265462955694593, 0.10150713209815061, 0.20301426419630123, 0.10150713209815061, 0.10150713209815061, 0.507535660490753, 0.7326947086406962, 0.2641525784822086, 0.0011952605361185908, 0.0011952605361185908, 0.024219766795664864, 0.9203511382352648, 0.024219766795664864, 0.024219766795664864, 0.09149685213355233, 0.09149685213355233, 0.09149685213355233, 0.09149685213355233, 0.6404779649348663, 0.9910441527678603, 0.0021497703964595666, 0.0021497703964595666, 0.0021497703964595666, 0.04081151982641915, 0.918259196094431, 0.020405759913209576, 0.020405759913209576, 0.16615542958657947, 0.16615542958657947, 0.16615542958657947, 0.16615542958657947, 0.4984662887597385, 0.9827185391137035, 0.006920553092350025, 0.0034602765461750123, 0.0034602765461750123, 0.0034602765461750123, 0.18653292472436722, 0.18653292472436722, 0.18653292472436722, 0.18653292472436722, 0.37306584944873444, 0.8251865333719656, 0.0031737943591229442, 0.0031737943591229442, 0.16186351231527016, 0.8438953954062298, 0.018588004304101978, 0.011152802582461187, 0.12639842926789344, 0.15658230322244165, 0.3131646064448833, 0.15658230322244165, 0.15658230322244165, 0.3131646064448833, 0.1632080887884588, 0.1632080887884588, 0.0816040443942294, 0.0816040443942294, 0.4896242663653764, 0.0816040443942294, 0.2051013139874561, 0.10255065699372805, 0.10255065699372805, 0.10255065699372805, 0.5127532849686403, 0.9933226077850662, 0.0016835976403136714, 0.0016835976403136714, 0.0016835976403136714, 0.15587170464803426, 0.03117434092960685, 0.7481841823105645, 0.03117434092960685, 0.7158537496660097, 0.00795393055184455, 0.00795393055184455, 0.2624797082108702, 0.1544368969406737, 0.1544368969406737, 0.1544368969406737, 0.1544368969406737, 0.3088737938813474, 0.03836823758793847, 0.03836823758793847, 0.03836823758793847, 0.8824694645225848, 0.17119647866779886, 0.17119647866779886, 0.17119647866779886, 0.17119647866779886, 0.3423929573355977, 0.14725106373555624, 0.14725106373555624, 0.14725106373555624, 0.14725106373555624, 0.4417531912066687, 0.004756143687138506, 0.004756143687138506, 0.004756143687138506, 0.004756143687138506, 0.9797655995505322, 0.05604250326501353, 0.05604250326501353, 0.8406375489752029, 0.05604250326501353, 0.012898548251830722, 0.012898548251830722, 0.9673911188873042, 0.012898548251830722, 0.9871888979254909, 0.0025055555784910936, 0.005011111156982187, 0.005011111156982187, 0.0025055555784910936, 0.20604593243119496, 0.20604593243119496, 0.20604593243119496, 0.20604593243119496, 0.4120918648623899, 0.07084138082962295, 0.8737103635653497, 0.023613793609874315, 0.023613793609874315, 0.03933268519561801, 0.03933268519561801, 0.03933268519561801, 0.8653190743035961, 0.05174798637207496, 0.05174798637207496, 0.05174798637207496, 0.05174798637207496, 0.7244718092090494, 0.849769822284282, 0.004568654958517646, 0.004568654958517646, 0.13705964875552937, 0.004568654958517646, 0.08083943997088874, 0.08083943997088874, 0.08083943997088874, 0.323357759883555, 0.40419719985444374, 0.44423341446690023, 0.013065688660791183, 0.013065688660791183, 0.5226275464316473, 0.033059535349944796, 0.033059535349944796, 0.033059535349944796, 0.8926074544485094, 0.6715466510650157, 0.008836140145592312, 0.3092649050957309, 0.008836140145592312, 0.031358627597766316, 0.031358627597766316, 0.9094002003352231, 0.031358627597766316, 0.06092560447844112, 0.06092560447844112, 0.7920328582197346, 0.06092560447844112, 0.02400796019321065, 0.8882945271487941, 0.02400796019321065, 0.02400796019321065, 0.0480159203864213, 0.12733192012578404, 0.12733192012578404, 0.12733192012578404, 0.12733192012578404, 0.5093276805031361, 0.7566482391025057, 0.0021374244042443665, 0.23725410887112466, 0.0021374244042443665, 0.07001746843976943, 0.07001746843976943, 0.07001746843976943, 0.07001746843976943, 0.7701921528374637, 0.17788927713604089, 0.17788927713604089, 0.17788927713604089, 0.17788927713604089, 0.35577855427208177, 0.13027590883990753, 0.13027590883990753, 0.13027590883990753, 0.13027590883990753, 0.5211036353596301, 0.03194502036501708, 0.03194502036501708, 0.03194502036501708, 0.03194502036501708, 0.8625155498554612, 0.9849910398139404, 0.00604288981480945, 0.003021444907404725, 0.003021444907404725, 0.0894426521743454, 0.0894426521743454, 0.0894426521743454, 0.0894426521743454, 0.6260985652204178, 0.14415762519410608, 0.14415762519410608, 0.14415762519410608, 0.14415762519410608, 0.28831525038821215, 0.010038722752451285, 0.010038722752451285, 0.010038722752451285, 0.9637173842353233, 0.1831571948683504, 0.1831571948683504, 0.1831571948683504, 0.1831571948683504, 0.3663143897367008, 0.1953464749714853, 0.1953464749714853, 0.1953464749714853, 0.1953464749714853, 0.3906929499429706, 0.002249260937337955, 0.991924073366038, 0.002249260937337955, 0.002249260937337955, 0.14951148326643257, 0.14951148326643257, 0.14951148326643257, 0.14951148326643257, 0.44853444979929774, 0.9966673766642153, 0.0010833341050697992, 0.0010833341050697992, 0.0010833341050697992, 0.9849670121013522, 0.004227326232194645, 0.004227326232194645, 0.004227326232194645, 0.17427007840174685, 0.08713503920087343, 0.08713503920087343, 0.17427007840174685, 0.5228102352052406, 0.016324839837027552, 0.946840710547598, 0.016324839837027552, 0.016324839837027552, 0.02212823559356312, 0.929385894929651, 0.02212823559356312, 0.02212823559356312, 0.023508499562124877, 0.9168314829228702, 0.023508499562124877, 0.023508499562124877, 0.4102417862790995, 0.10256044656977488, 0.10256044656977488, 0.10256044656977488, 0.30768133970932465, 0.02080188753320732, 0.9360849389943294, 0.02080188753320732, 0.02080188753320732, 0.013711861078489098, 0.013711861078489098, 0.013711861078489098, 0.9461184144157477, 0.044237495562067186, 0.044237495562067186, 0.044237495562067186, 0.8405124156792765, 0.7531401276063564, 0.23723914019600228, 0.0037657006380317822, 0.0037657006380317822, 0.04442788163214723, 0.04442788163214723, 0.04442788163214723, 0.8441297510107975, 0.1263191278224084, 0.0631595639112042, 0.0631595639112042, 0.0631595639112042, 0.6947552030232462, 0.037765213377867146, 0.037765213377867146, 0.11329564013360144, 0.79306948093521, 0.037765213377867146, 0.6956774084389655, 0.005945960755888594, 0.2259465087237666, 0.06540556831477454, 0.005945960755888594, 0.11137126100077611, 0.22274252200155223, 0.11137126100077611, 0.11137126100077611, 0.11137126100077611, 0.44548504400310446, 0.10738033449522233, 0.10738033449522233, 0.10738033449522233, 0.10738033449522233, 0.644282006971334, 0.7472390480762783, 0.042699374175787334, 0.010674843543946834, 0.010674843543946834, 0.18147234024709616, 0.010939263731130593, 0.010939263731130593, 0.010939263731130593, 0.9626552083394921, 0.9913238727736321, 0.0027309197597069753, 0.0027309197597069753, 0.0027309197597069753, 0.9941366230226987, 0.0017052086158193802, 0.0017052086158193802, 0.0017052086158193802, 0.05007646088491267, 0.05007646088491267, 0.8512998350435153, 0.05007646088491267, 0.9973135520653938, 0.0006467662464756121, 0.0006467662464756121, 0.0006467662464756121, 0.1955273134347863, 0.1955273134347863, 0.1955273134347863, 0.1955273134347863, 0.3910546268695726, 0.10279668821364032, 0.10279668821364032, 0.4111867528545613, 0.10279668821364032, 0.10279668821364032, 0.30839006464092095, 0.011021360757173004, 0.9698797466312243, 0.011021360757173004, 0.011021360757173004, 0.0018264665091701597, 0.0018264665091701597, 0.9935977809885669, 0.0018264665091701597, 0.07992272853447395, 0.07992272853447395, 0.07992272853447395, 0.5594590997413177, 0.23976818560342186, 0.406764309641406, 0.05084553870517575, 0.203382154820703, 0.05084553870517575, 0.3050732322310545, 0.45011491558004196, 0.5340346456034396, 0.007629066365763423, 0.007629066365763423, 0.42884908582685627, 0.5465723642891306, 0.008408805604448162, 0.008408805604448162, 0.018111288014969758, 0.9417869767784274, 0.018111288014969758, 0.018111288014969758, 0.061893319536122225, 0.030946659768061113, 0.030946659768061113, 0.030946659768061113, 0.8665064735057112, 0.012947449982871236, 0.9581112987324715, 0.012947449982871236, 0.012947449982871236, 0.46307785813085117, 0.013619937003848562, 0.5039376691423968, 0.013619937003848562, 0.11312105846251337, 0.11312105846251337, 0.11312105846251337, 0.11312105846251337, 0.5656052923125668, 0.030219902390696062, 0.9065970717208819, 0.030219902390696062, 0.030219902390696062, 0.3415006468581928, 0.11383354895273094, 0.11383354895273094, 0.11383354895273094, 0.3415006468581928, 0.03316650947452797, 0.03316650947452797, 0.03316650947452797, 0.8954957558122552, 0.7928948352425668, 0.20205042133594364, 0.0015306850101207852, 0.0015306850101207852, 0.035174170336029244, 0.035174170336029244, 0.8793542584007311, 0.035174170336029244, 0.030641404665868916, 0.030641404665868916, 0.9192421399760675, 0.030641404665868916, 0.02985820353001984, 0.02985820353001984, 0.8957461059005952, 0.02985820353001984, 0.03116601249148991, 0.9557577164056905, 0.005194335415248318, 0.005194335415248318, 0.005194335415248318, 0.10121446473027063, 0.05060723236513531, 0.809715717842165, 0.05060723236513531, 0.025200027914648742, 0.025200027914648742, 0.9324010328420034, 0.025200027914648742, 0.015544121369721765, 0.015544121369721765, 0.9481914035530277, 0.015544121369721765, 0.12636801835933797, 0.12636801835933797, 0.12636801835933797, 0.12636801835933797, 0.5054720734373519, 0.022872334932002535, 0.022872334932002535, 0.022872334932002535, 0.9148933972801014, 0.4555600512295983, 0.5370009542427109, 0.002545028219159767, 0.002545028219159767, 0.002545028219159767, 0.13146029128486567, 0.13146029128486567, 0.13146029128486567, 0.13146029128486567, 0.5258411651394627, 0.14599949549556712, 0.14599949549556712, 0.14599949549556712, 0.14599949549556712, 0.43799848648670137, 0.06554502733764234, 0.06554502733764234, 0.786540328051708, 0.06554502733764234, 0.14606143981649403, 0.14606143981649403, 0.14606143981649403, 0.14606143981649403, 0.4381843194494821, 0.11847752212786658, 0.11847752212786658, 0.11847752212786658, 0.11847752212786658, 0.5923876106393329, 0.19124543537106636, 0.19124543537106636, 0.19124543537106636, 0.19124543537106636, 0.3824908707421327, 0.17304030661464898, 0.17304030661464898, 0.17304030661464898, 0.17304030661464898, 0.34608061322929795, 0.12095980912559098, 0.12095980912559098, 0.12095980912559098, 0.12095980912559098, 0.48383923650236393, 0.015891811470646888, 0.015891811470646888, 0.015891811470646888, 0.015891811470646888, 0.9217250652975195, 0.007369360911980237, 0.9727556403813913, 0.007369360911980237, 0.007369360911980237, 0.10720781413816563, 0.053603907069082815, 0.053603907069082815, 0.053603907069082815, 0.053603907069082815, 0.6968507918980766, 0.1706543642062077, 0.1706543642062077, 0.1706543642062077, 0.1706543642062077, 0.3413087284124154, 0.9833438171074055, 0.004149130029989053, 0.004149130029989053, 0.004149130029989053, 0.9863990678875175, 0.004092942190404637, 0.004092942190404637, 0.004092942190404637, 0.6024245572796425, 0.3905164215531351, 0.003027259081807249, 0.003027259081807249, 0.020347805405434398, 0.9359990486499823, 0.020347805405434398, 0.020347805405434398, 0.0485779484792501, 0.0485779484792501, 0.008096324746541683, 0.8986920468661268, 0.19910830353050968, 0.19910830353050968, 0.19910830353050968, 0.19910830353050968, 0.39821660706101936, 0.9916781220029665, 0.003388421829167311, 0.0011294739430557704, 0.0022589478861115408, 0.027339282055267762, 0.9021963078238362, 0.027339282055267762, 0.027339282055267762, 0.059978752289847795, 0.059978752289847795, 0.7797237797680213, 0.059978752289847795, 0.026367213850191525, 0.9492196986068948, 0.013183606925095763, 0.013183606925095763, 0.018000607513577585, 0.9360315907060345, 0.018000607513577585, 0.018000607513577585, 0.05366852011052226, 0.05366852011052226, 0.05366852011052226, 0.05366852011052226, 0.8050278016578339, 0.09012727850631726, 0.09012727850631726, 0.09012727850631726, 0.09012727850631726, 0.7210182280505381, 0.541688734926595, 0.450866671585609, 0.003243645119320928, 0.003243645119320928, 0.1611064734519806, 0.1611064734519806, 0.1611064734519806, 0.1611064734519806, 0.3222129469039612, 0.9939797211711655, 0.0016538764079387113, 0.0016538764079387113, 0.0016538764079387113, 0.3908929082887684, 0.2736250358021379, 0.03908929082887684, 0.03908929082887684, 0.23453574497326102, 0.9863446250587261, 0.004307181768815398, 0.004307181768815398, 0.004307181768815398], \"Term\": [\"abilities\", \"abilities\", \"abilities\", \"abilities\", \"abilities\", \"air\", \"air\", \"air\", \"air\", \"air\", \"along\", \"along\", \"along\", \"along\", \"also\", \"also\", \"also\", \"also\", \"also\", \"always\", \"always\", \"always\", \"always\", \"amaze\", \"amaze\", \"amaze\", \"amaze\", \"amazing\", \"amazing\", \"amazing\", \"amazing\", \"apartment\", \"apartment\", \"apartment\", \"apartment\", \"apartment\", \"appear\", \"appear\", \"appear\", \"appear\", \"appear\", \"area\", \"area\", \"area\", \"area\", \"areas\", \"areas\", \"areas\", \"areas\", \"areas\", \"ask\", \"ask\", \"ask\", \"ask\", \"assist\", \"assist\", \"assist\", \"assist\", \"attention\", \"attention\", \"attention\", \"attention\", \"aussie\", \"aussie\", \"aussie\", \"aussie\", \"aussie\", \"awesome\", \"awesome\", \"awesome\", \"awesome\", \"back\", \"back\", \"back\", \"back\", \"bar\", \"bar\", \"bar\", \"bar\", \"base\", \"base\", \"base\", \"base\", \"base\", \"beautiful\", \"beautiful\", \"beautiful\", \"beautiful\", \"beer\", \"beer\", \"beer\", \"beer\", \"beginner\", \"beginner\", \"beginner\", \"beginner\", \"best\", \"best\", \"best\", \"best\", \"bill\", \"bill\", \"bill\", \"bill\", \"bill\", \"bit\", \"bit\", \"bit\", \"bit\", \"bluebird\", \"bluebird\", \"bluebird\", \"bluebird\", \"bluebird\", \"boarding\", \"boarding\", \"boarding\", \"boarding\", \"boarding\", \"bowl\", \"bowl\", \"bowl\", \"bowl\", \"bowl\", \"box\", \"box\", \"box\", \"box\", \"box\", \"breathtaking\", \"breathtaking\", \"breathtaking\", \"breathtaking\", \"brilliant\", \"brilliant\", \"brilliant\", \"brilliant\", \"bring\", \"bring\", \"bring\", \"bring\", \"bring\", \"bruise\", \"bruise\", \"bruise\", \"bruise\", \"bruise\", \"building\", \"building\", \"building\", \"building\", \"built\", \"built\", \"built\", \"built\", \"built\", \"built\", \"bus\", \"bus\", \"bus\", \"bus\", \"bus\", \"cafe\", \"cafe\", \"cafe\", \"cafe\", \"cafeteria\", \"cafeteria\", \"cafeteria\", \"cafeteria\", \"cannot\", \"cannot\", \"cannot\", \"cannot\", \"car\", \"car\", \"car\", \"car\", \"car\", \"cater\", \"cater\", \"cater\", \"cater\", \"cater\", \"chain\", \"chain\", \"chain\", \"chain\", \"chains\", \"chains\", \"chains\", \"chains\", \"chair\", \"chair\", \"chair\", \"chair\", \"charge\", \"charge\", \"charge\", \"charge\", \"cheap\", \"cheap\", \"cheap\", \"cheap\", \"clean\", \"clean\", \"clean\", \"clean\", \"climb\", \"climb\", \"climb\", \"climb\", \"coffee\", \"coffee\", \"coffee\", \"coffee\", \"come\", \"come\", \"come\", \"come\", \"consider\", \"consider\", \"consider\", \"consider\", \"consider\", \"constantly\", \"constantly\", \"constantly\", \"constantly\", \"constantly\", \"continue\", \"continue\", \"continue\", \"continue\", \"continue\", \"cool\", \"cool\", \"cool\", \"cool\", \"cool\", \"could\", \"could\", \"could\", \"could\", \"crew\", \"crew\", \"crew\", \"crew\", \"currently\", \"currently\", \"currently\", \"currently\", \"currently\", \"customer_service\", \"customer_service\", \"customer_service\", \"customer_service\", \"dedicate\", \"dedicate\", \"dedicate\", \"dedicate\", \"dedicate\", \"design\", \"design\", \"design\", \"design\", \"design\", \"din\", \"din\", \"din\", \"din\", \"directly\", \"directly\", \"directly\", \"directly\", \"directly\", \"disappointing\", \"disappointing\", \"disappointing\", \"disappointing\", \"disappointing\", \"disaster\", \"disaster\", \"disaster\", \"disaster\", \"disaster\", \"drink\", \"drink\", \"drink\", \"drink\", \"drinks\", \"drinks\", \"drinks\", \"drinks\", \"drive\", \"drive\", \"drive\", \"drive\", \"driver\", \"driver\", \"driver\", \"driver\", \"drove\", \"drove\", \"drove\", \"drove\", \"dump\", \"dump\", \"dump\", \"dump\", \"dump\", \"easily_accessible\", \"easily_accessible\", \"easily_accessible\", \"easily_accessible\", \"easily_accessible\", \"easy\", \"easy\", \"easy\", \"easy\", \"eat\", \"eat\", \"eat\", \"eat\", \"either\", \"either\", \"either\", \"either\", \"either\", \"electronic\", \"electronic\", \"electronic\", \"electronic\", \"electronic\", \"encourage\", \"encourage\", \"encourage\", \"encourage\", \"encouraging\", \"encouraging\", \"encouraging\", \"encouraging\", \"enjoy\", \"enjoy\", \"enjoy\", \"enjoy\", \"european\", \"european\", \"european\", \"european\", \"european\", \"even\", \"even\", \"even\", \"even\", \"even\", \"everyone\", \"everyone\", \"everyone\", \"everyone\", \"exactly\", \"exactly\", \"exactly\", \"exactly\", \"exactly\", \"excellent\", \"excellent\", \"excellent\", \"excellent\", \"expensive\", \"expensive\", \"expensive\", \"expensive\", \"experience\", \"experience\", \"experience\", \"experience\", \"extremely\", \"extremely\", \"extremely\", \"extremely\", \"fabulous\", \"fabulous\", \"fabulous\", \"fabulous\", \"face\", \"face\", \"face\", \"face\", \"face\", \"facility\", \"facility\", \"facility\", \"facility\", \"fair\", \"fair\", \"fair\", \"fair\", \"fair\", \"familiarise\", \"familiarise\", \"familiarise\", \"familiarise\", \"familiarise\", \"family\", \"family\", \"family\", \"family\", \"fantastic\", \"fantastic\", \"fantastic\", \"fantastic\", \"feature\", \"feature\", \"feature\", \"feature\", \"feature\", \"first\", \"first\", \"first\", \"first\", \"flexible\", \"flexible\", \"flexible\", \"flexible\", \"flexible\", \"fluffy\", \"fluffy\", \"fluffy\", \"fluffy\", \"fluffy\", \"food\", \"food\", \"food\", \"food\", \"forward\", \"forward\", \"forward\", \"forward\", \"forward\", \"france\", \"france\", \"france\", \"france\", \"france\", \"freeze\", \"freeze\", \"freeze\", \"freeze\", \"freeze\", \"friendly\", \"friendly\", \"friendly\", \"friendly\", \"gate\", \"gate\", \"gate\", \"gate\", \"gate\", \"gear\", \"gear\", \"gear\", \"gear\", \"get\", \"get\", \"get\", \"get\", \"given\", \"given\", \"given\", \"given\", \"given\", \"glorious\", \"glorious\", \"glorious\", \"glorious\", \"glorious\", \"go\", \"go\", \"go\", \"go\", \"gravel\", \"gravel\", \"gravel\", \"gravel\", \"group\", \"group\", \"group\", \"group\", \"guy\", \"guy\", \"guy\", \"guy\", \"guy\", \"ha\", \"ha\", \"ha\", \"ha\", \"ha\", \"hairy\", \"hairy\", \"hairy\", \"hairy\", \"happen\", \"happen\", \"happen\", \"happen\", \"happen\", \"happy\", \"happy\", \"happy\", \"happy\", \"help\", \"help\", \"help\", \"help\", \"helpful\", \"helpful\", \"helpful\", \"helpful\", \"highway\", \"highway\", \"highway\", \"highway\", \"highway\", \"hike\", \"hike\", \"hike\", \"hike\", \"hire\", \"hire\", \"hire\", \"hire\", \"horrible\", \"horrible\", \"horrible\", \"horrible\", \"horrible\", \"hot\", \"hot\", \"hot\", \"hot\", \"ice_bar\", \"ice_bar\", \"ice_bar\", \"ice_bar\", \"ice_bar\", \"icy\", \"icy\", \"icy\", \"icy\", \"icy\", \"impressed\", \"impressed\", \"impressed\", \"impressed\", \"inclined\", \"inclined\", \"inclined\", \"inclined\", \"inclined\", \"incredibly\", \"incredibly\", \"incredibly\", \"incredibly\", \"infrastructure\", \"infrastructure\", \"infrastructure\", \"infrastructure\", \"infrastructure\", \"ing\", \"ing\", \"ing\", \"ing\", \"ing\", \"inside\", \"inside\", \"inside\", \"inside\", \"instructor\", \"instructor\", \"instructor\", \"instructor\", \"instructors\", \"instructors\", \"instructors\", \"instructors\", \"intermediate\", \"intermediate\", \"intermediate\", \"intermediate\", \"intimate\", \"intimate\", \"intimate\", \"intimate\", \"intimate\", \"job\", \"job\", \"job\", \"job\", \"journey\", \"journey\", \"journey\", \"journey\", \"jumps\", \"jumps\", \"jumps\", \"jumps\", \"jumps\", \"kid\", \"kid\", \"kid\", \"kid\", \"km\", \"km\", \"km\", \"km\", \"know\", \"know\", \"know\", \"know\", \"know\", \"lake\", \"lake\", \"lake\", \"lake\", \"laugh\", \"laugh\", \"laugh\", \"laugh\", \"lesson\", \"lesson\", \"lesson\", \"lesson\", \"lift\", \"lift\", \"lift\", \"lift\", \"like\", \"like\", \"like\", \"like\", \"little\", \"little\", \"little\", \"little\", \"local\", \"local\", \"local\", \"local\", \"local\", \"locate\", \"locate\", \"locate\", \"locate\", \"locate\", \"locker\", \"locker\", \"locker\", \"locker\", \"lodge\", \"lodge\", \"lodge\", \"lodge\", \"look\", \"look\", \"look\", \"look\", \"lot\", \"lot\", \"lot\", \"lot\", \"lunch\", \"lunch\", \"lunch\", \"lunch\", \"lunchtime\", \"lunchtime\", \"lunchtime\", \"lunchtime\", \"make\", \"make\", \"make\", \"make\", \"member\", \"member\", \"member\", \"member\", \"men\", \"men\", \"men\", \"men\", \"men\", \"men\", \"monitoring\", \"monitoring\", \"monitoring\", \"monitoring\", \"monitoring\", \"mountain\", \"mountain\", \"mountain\", \"mountain\", \"mountains\", \"mountains\", \"mountains\", \"mountains\", \"mt\", \"mt\", \"mt\", \"mt\", \"mt\", \"much\", \"much\", \"much\", \"much\", \"narrow\", \"narrow\", \"narrow\", \"narrow\", \"native\", \"native\", \"native\", \"native\", \"native\", \"need\", \"need\", \"need\", \"need\", \"need\", \"needle\", \"needle\", \"needle\", \"needle\", \"needle\", \"new\", \"new\", \"new\", \"new\", \"nice\", \"nice\", \"nice\", \"nice\", \"nonetheless\", \"nonetheless\", \"nonetheless\", \"nonetheless\", \"nonetheless\", \"north\", \"north\", \"north\", \"north\", \"north\", \"north\", \"north_island\", \"north_island\", \"north_island\", \"north_island\", \"north_island\", \"one\", \"one\", \"one\", \"one\", \"operator\", \"operator\", \"operator\", \"operator\", \"option\", \"option\", \"option\", \"option\", \"ordinary\", \"ordinary\", \"ordinary\", \"ordinary\", \"ordinary\", \"outdoor\", \"outdoor\", \"outdoor\", \"outdoor\", \"overdue\", \"overdue\", \"overdue\", \"overdue\", \"overdue\", \"pair\", \"pair\", \"pair\", \"pair\", \"pair\", \"park\", \"park\", \"park\", \"park\", \"park\", \"patience\", \"patience\", \"patience\", \"patience\", \"patient\", \"patient\", \"patient\", \"patient\", \"people\", \"people\", \"people\", \"people\", \"people\", \"phenomenal\", \"phenomenal\", \"phenomenal\", \"phenomenal\", \"phenomenal\", \"photo\", \"photo\", \"photo\", \"photo\", \"pizza\", \"pizza\", \"pizza\", \"pizza\", \"pleasant\", \"pleasant\", \"pleasant\", \"pleasant\", \"pleasant\", \"plenty\", \"plenty\", \"plenty\", \"plenty\", \"plenty\", \"present\", \"present\", \"present\", \"present\", \"present\", \"price\", \"price\", \"price\", \"price\", \"pricey\", \"pricey\", \"pricey\", \"pricey\", \"private\", \"private\", \"private\", \"private\", \"professional\", \"professional\", \"professional\", \"professional\", \"program\", \"program\", \"program\", \"program\", \"rail\", \"rail\", \"rail\", \"rail\", \"rail\", \"read\", \"read\", \"read\", \"read\", \"read\", \"really\", \"really\", \"really\", \"really\", \"recently\", \"recently\", \"recently\", \"recently\", \"recently\", \"refer\", \"refer\", \"refer\", \"refer\", \"refer\", \"regularly\", \"regularly\", \"regularly\", \"regularly\", \"regularly\", \"remarks\", \"remarks\", \"remarks\", \"remarks\", \"remarks\", \"resort\", \"resort\", \"resort\", \"resort\", \"resorts\", \"resorts\", \"resorts\", \"resorts\", \"resorts\", \"respect\", \"respect\", \"respect\", \"respect\", \"respect\", \"restaurant\", \"restaurant\", \"restaurant\", \"restaurant\", \"ring\", \"ring\", \"ring\", \"ring\", \"ring\", \"rip\", \"rip\", \"rip\", \"rip\", \"rip\", \"road\", \"road\", \"road\", \"road\", \"ruapehu\", \"ruapehu\", \"ruapehu\", \"ruapehu\", \"ruapehu\", \"run\", \"run\", \"run\", \"run\", \"runs\", \"runs\", \"runs\", \"runs\", \"saving\", \"saving\", \"saving\", \"saving\", \"saving\", \"scary\", \"scary\", \"scary\", \"scary\", \"scenery\", \"scenery\", \"scenery\", \"scenery\", \"scenic\", \"scenic\", \"scenic\", \"scenic\", \"screen\", \"screen\", \"screen\", \"screen\", \"screen\", \"seal\", \"seal\", \"seal\", \"seal\", \"seat\", \"seat\", \"seat\", \"seat\", \"seating\", \"seating\", \"seating\", \"seating\", \"see\", \"see\", \"see\", \"see\", \"selection\", \"selection\", \"selection\", \"selection\", \"september\", \"september\", \"september\", \"september\", \"september\", \"serve\", \"serve\", \"serve\", \"serve\", \"serve\", \"service\", \"service\", \"service\", \"service\", \"service\", \"shadow\", \"shadow\", \"shadow\", \"shadow\", \"shadow\", \"shadow\", \"shame\", \"shame\", \"shame\", \"shame\", \"shame\", \"shuttle\", \"shuttle\", \"shuttle\", \"shuttle\", \"shuttle\", \"sit\", \"sit\", \"sit\", \"sit\", \"skier\", \"skier\", \"skier\", \"skier\", \"slope\", \"slope\", \"slope\", \"slope\", \"smile\", \"smile\", \"smile\", \"smile\", \"snow\", \"snow\", \"snow\", \"snow\", \"southern_hemisphere\", \"southern_hemisphere\", \"southern_hemisphere\", \"southern_hemisphere\", \"southern_hemisphere\", \"speak\", \"speak\", \"speak\", \"speak\", \"speak\", \"speak\", \"spectacular\", \"spectacular\", \"spectacular\", \"spectacular\", \"staff\", \"staff\", \"staff\", \"staff\", \"standard\", \"standard\", \"standard\", \"standard\", \"standard\", \"stayed\", \"stayed\", \"stayed\", \"stayed\", \"stayed\", \"steep\", \"steep\", \"steep\", \"steep\", \"stop\", \"stop\", \"stop\", \"stop\", \"stun\", \"stun\", \"stun\", \"stun\", \"suggest\", \"suggest\", \"suggest\", \"suggest\", \"suggest\", \"summer\", \"summer\", \"summer\", \"summer\", \"super\", \"super\", \"super\", \"super\", \"surprise\", \"surprise\", \"surprise\", \"surprise\", \"surprise\", \"surround\", \"surround\", \"surround\", \"surround\", \"swipe\", \"swipe\", \"swipe\", \"swipe\", \"swipe\", \"table\", \"table\", \"table\", \"table\", \"take\", \"take\", \"take\", \"take\", \"teach\", \"teach\", \"teach\", \"teach\", \"teacher\", \"teacher\", \"teacher\", \"teacher\", \"team\", \"team\", \"team\", \"team\", \"terrain\", \"terrain\", \"terrain\", \"terrain\", \"terrain\", \"th\", \"th\", \"th\", \"th\", \"thank\", \"thank\", \"thank\", \"thank\", \"thanks\", \"thanks\", \"thanks\", \"thanks\", \"tips\", \"tips\", \"tips\", \"tips\", \"tips\", \"toilet\", \"toilet\", \"toilet\", \"toilet\", \"top\", \"top\", \"top\", \"top\", \"top\", \"touch\", \"touch\", \"touch\", \"touch\", \"touch\", \"tracked\", \"tracked\", \"tracked\", \"tracked\", \"tracked\", \"trainer\", \"trainer\", \"trainer\", \"trainer\", \"training\", \"training\", \"training\", \"training\", \"training\", \"treat\", \"treat\", \"treat\", \"treat\", \"treat\", \"trilogy\", \"trilogy\", \"trilogy\", \"trilogy\", \"trilogy\", \"true\", \"true\", \"true\", \"true\", \"true\", \"tubing\", \"tubing\", \"tubing\", \"tubing\", \"tubing\", \"variety\", \"variety\", \"variety\", \"variety\", \"variety\", \"views\", \"views\", \"views\", \"views\", \"visited\", \"visited\", \"visited\", \"visited\", \"visited\", \"visited\", \"visiting\", \"visiting\", \"visiting\", \"visiting\", \"visiting\", \"wait\", \"wait\", \"wait\", \"wait\", \"want\", \"want\", \"want\", \"want\", \"way\", \"way\", \"way\", \"way\", \"wd\", \"wd\", \"wd\", \"wd\", \"weather\", \"weather\", \"weather\", \"weather\", \"weight\", \"weight\", \"weight\", \"weight\", \"weight\", \"well\", \"well\", \"well\", \"well\", \"wheel\", \"wheel\", \"wheel\", \"wheel\", \"willing\", \"willing\", \"willing\", \"willing\", \"wind\", \"wind\", \"wind\", \"wind\", \"windy\", \"windy\", \"windy\", \"windy\", \"wish\", \"wish\", \"wish\", \"wish\", \"wish\", \"worry\", \"worry\", \"worry\", \"worry\", \"worry\", \"worth\", \"worth\", \"worth\", \"worth\", \"worthwhile\", \"worthwhile\", \"worthwhile\", \"worthwhile\", \"worthwhile\", \"would\", \"would\", \"would\", \"would\", \"wow\", \"wow\", \"wow\", \"wow\", \"wow\", \"year\", \"year\", \"year\", \"year\"]}, \"R\": 30, \"lambda.step\": 0.01, \"plot.opts\": {\"xlab\": \"PC1\", \"ylab\": \"PC2\"}, \"topic.order\": [1, 2, 3, 6, 4, 7, 5]};\n",
       "\n",
       "function LDAvis_load_lib(url, callback){\n",
       "  var s = document.createElement('script');\n",
       "  s.src = url;\n",
       "  s.async = true;\n",
       "  s.onreadystatechange = s.onload = callback;\n",
       "  s.onerror = function(){console.warn(\"failed to load library \" + url);};\n",
       "  document.getElementsByTagName(\"head\")[0].appendChild(s);\n",
       "}\n",
       "\n",
       "if(typeof(LDAvis) !== \"undefined\"){\n",
       "   // already loaded: just create the visualization\n",
       "   !function(LDAvis){\n",
       "       new LDAvis(\"#\" + \"ldavis_el4522421145915923362288695153\", ldavis_el4522421145915923362288695153_data);\n",
       "   }(LDAvis);\n",
       "}else if(typeof define === \"function\" && define.amd){\n",
       "   // require.js is available: use it to load d3/LDAvis\n",
       "   require.config({paths: {d3: \"https://d3js.org/d3.v5\"}});\n",
       "   require([\"d3\"], function(d3){\n",
       "      window.d3 = d3;\n",
       "      LDAvis_load_lib(\"https://cdn.jsdelivr.net/gh/bmabey/pyLDAvis@3.3.1/pyLDAvis/js/ldavis.v3.0.0.js\", function(){\n",
       "        new LDAvis(\"#\" + \"ldavis_el4522421145915923362288695153\", ldavis_el4522421145915923362288695153_data);\n",
       "      });\n",
       "    });\n",
       "}else{\n",
       "    // require.js not available: dynamically load d3 & LDAvis\n",
       "    LDAvis_load_lib(\"https://d3js.org/d3.v5.js\", function(){\n",
       "         LDAvis_load_lib(\"https://cdn.jsdelivr.net/gh/bmabey/pyLDAvis@3.3.1/pyLDAvis/js/ldavis.v3.0.0.js\", function(){\n",
       "                 new LDAvis(\"#\" + \"ldavis_el4522421145915923362288695153\", ldavis_el4522421145915923362288695153_data);\n",
       "            })\n",
       "         });\n",
       "}\n",
       "</script>"
      ],
      "text/plain": [
       "PreparedData(topic_coordinates=              x         y  topics  cluster       Freq\n",
       "topic                                                \n",
       "0     -0.297733  0.030267       1        1  61.673592\n",
       "1     -0.012278 -0.187069       2        1  12.177515\n",
       "2      0.047903  0.070256       3        1  10.052312\n",
       "5      0.038950  0.086812       4        1   8.027782\n",
       "3      0.076272 -0.005209       5        1   3.572144\n",
       "6      0.075687  0.002936       6        1   2.262434\n",
       "4      0.071199  0.002007       7        1   2.234221, topic_info=            Term        Freq       Total Category  logprob  loglift\n",
       "8          staff  547.000000  547.000000  Default  30.0000  30.0000\n",
       "180        drive  578.000000  578.000000  Default  29.0000  29.0000\n",
       "81          road  444.000000  444.000000  Default  28.0000  28.0000\n",
       "210         food  356.000000  356.000000  Default  27.0000  27.0000\n",
       "20    instructor  314.000000  314.000000  Default  26.0000  26.0000\n",
       "...          ...         ...         ...      ...      ...      ...\n",
       "2523      screen    3.109029    9.750348   Topic7  -6.7000   2.6583\n",
       "2880  worthwhile    1.956762    6.207075   Topic7  -7.1630   2.6469\n",
       "2651     highway    2.752913   12.234961   Topic7  -6.8217   2.3096\n",
       "850          men    2.301222    8.982522   Topic7  -7.0009   2.4394\n",
       "833         bowl    4.072686   39.388553   Topic7  -6.4300   1.5321\n",
       "\n",
       "[327 rows x 6 columns], token_table=      Topic      Freq       Term\n",
       "term                            \n",
       "1724      1  0.073824  abilities\n",
       "1724      2  0.073824  abilities\n",
       "1724      3  0.073824  abilities\n",
       "1724      4  0.073824  abilities\n",
       "1724      6  0.738240  abilities\n",
       "...     ...       ...        ...\n",
       "350       6  0.234536        wow\n",
       "676       1  0.986345       year\n",
       "676       2  0.004307       year\n",
       "676       3  0.004307       year\n",
       "676       4  0.004307       year\n",
       "\n",
       "[1283 rows x 3 columns], R=30, lambda_step=0.01, plot_opts={'xlab': 'PC1', 'ylab': 'PC2'}, topic_order=[1, 2, 3, 6, 4, 7, 5])"
      ]
     },
     "execution_count": 40,
     "metadata": {},
     "output_type": "execute_result"
    }
   ],
   "source": [
    "# Visualize the topics\n",
    "pyLDAvis.enable_notebook()\n",
    "LDAvis_prepared = pyLDAvis.gensim_models.prepare(lda_model, corpus, id2word)\n",
    "LDAvis_prepared"
   ]
  },
  {
   "cell_type": "markdown",
   "metadata": {},
   "source": [
    "Intertopic distance map shows not all topics nicely separated, still quite a bit of overlap in which keywords belong to which topic"
   ]
  },
  {
   "cell_type": "markdown",
   "metadata": {},
   "source": [
    "[2_topic_modelling_lda_gensim_approach_3.html](./2_topic_modelling_lda_gensim_approach_3.html)"
   ]
  },
  {
   "cell_type": "code",
   "execution_count": 48,
   "metadata": {},
   "outputs": [],
   "source": [
    "# saving the visualization\n",
    "pyLDAvis.save_html(LDAvis_prepared, '3_topic_modelling_lda_gensim_approach_3.html')"
   ]
  },
  {
   "cell_type": "markdown",
   "metadata": {},
   "source": [
    "##### 3b\n",
    "Now building an NMF model (to try to distinguish the topics better)"
   ]
  },
  {
   "cell_type": "code",
   "execution_count": 41,
   "metadata": {},
   "outputs": [
    {
     "data": {
      "text/html": [
       "<div>\n",
       "<style scoped>\n",
       "    .dataframe tbody tr th:only-of-type {\n",
       "        vertical-align: middle;\n",
       "    }\n",
       "\n",
       "    .dataframe tbody tr th {\n",
       "        vertical-align: top;\n",
       "    }\n",
       "\n",
       "    .dataframe thead th {\n",
       "        text-align: right;\n",
       "    }\n",
       "</style>\n",
       "<table border=\"1\" class=\"dataframe\">\n",
       "  <thead>\n",
       "    <tr style=\"text-align: right;\">\n",
       "      <th></th>\n",
       "      <th>review_year</th>\n",
       "      <th>review_month</th>\n",
       "      <th>peak</th>\n",
       "      <th>tokenised_sentences</th>\n",
       "      <th>subjectivity</th>\n",
       "      <th>sentiment</th>\n",
       "      <th>sentiment_score</th>\n",
       "    </tr>\n",
       "  </thead>\n",
       "  <tbody>\n",
       "    <tr>\n",
       "      <th>0</th>\n",
       "      <td>2021</td>\n",
       "      <td>Oct</td>\n",
       "      <td>cardrona</td>\n",
       "      <td>ticket process hire process be great easy all ...</td>\n",
       "      <td>0.569444</td>\n",
       "      <td>POSITIVE</td>\n",
       "      <td>0.990033</td>\n",
       "    </tr>\n",
       "    <tr>\n",
       "      <th>1</th>\n",
       "      <td>2021</td>\n",
       "      <td>Oct</td>\n",
       "      <td>cardrona</td>\n",
       "      <td>all be well until we meet out instructor (nick...</td>\n",
       "      <td>0.668750</td>\n",
       "      <td>NEGATIVE</td>\n",
       "      <td>-0.993660</td>\n",
       "    </tr>\n",
       "    <tr>\n",
       "      <th>2</th>\n",
       "      <td>2021</td>\n",
       "      <td>Oct</td>\n",
       "      <td>cardrona</td>\n",
       "      <td>it completely put our kid off.</td>\n",
       "      <td>0.400000</td>\n",
       "      <td>NEGATIVE</td>\n",
       "      <td>-0.995861</td>\n",
       "    </tr>\n",
       "    <tr>\n",
       "      <th>3</th>\n",
       "      <td>2021</td>\n",
       "      <td>Oct</td>\n",
       "      <td>cardrona</td>\n",
       "      <td>we then go do our own lesson with kid with lit...</td>\n",
       "      <td>0.566667</td>\n",
       "      <td>NEGATIVE</td>\n",
       "      <td>-0.938372</td>\n",
       "    </tr>\n",
       "    <tr>\n",
       "      <th>4</th>\n",
       "      <td>2021</td>\n",
       "      <td>Oct</td>\n",
       "      <td>cardrona</td>\n",
       "      <td>over all cadrona be well set up for first time...</td>\n",
       "      <td>0.477778</td>\n",
       "      <td>POSITIVE</td>\n",
       "      <td>0.970559</td>\n",
       "    </tr>\n",
       "  </tbody>\n",
       "</table>\n",
       "</div>"
      ],
      "text/plain": [
       "   review_year review_month      peak  \\\n",
       "0         2021          Oct  cardrona   \n",
       "1         2021          Oct  cardrona   \n",
       "2         2021          Oct  cardrona   \n",
       "3         2021          Oct  cardrona   \n",
       "4         2021          Oct  cardrona   \n",
       "\n",
       "                                 tokenised_sentences  subjectivity sentiment  \\\n",
       "0  ticket process hire process be great easy all ...      0.569444  POSITIVE   \n",
       "1  all be well until we meet out instructor (nick...      0.668750  NEGATIVE   \n",
       "2                     it completely put our kid off.      0.400000  NEGATIVE   \n",
       "3  we then go do our own lesson with kid with lit...      0.566667  NEGATIVE   \n",
       "4  over all cadrona be well set up for first time...      0.477778  POSITIVE   \n",
       "\n",
       "   sentiment_score  \n",
       "0         0.990033  \n",
       "1        -0.993660  \n",
       "2        -0.995861  \n",
       "3        -0.938372  \n",
       "4         0.970559  "
      ]
     },
     "execution_count": 41,
     "metadata": {},
     "output_type": "execute_result"
    }
   ],
   "source": [
    "tokenised_df.head()"
   ]
  },
  {
   "cell_type": "code",
   "execution_count": 42,
   "metadata": {},
   "outputs": [
    {
     "data": {
      "text/html": [
       "<div>\n",
       "<style scoped>\n",
       "    .dataframe tbody tr th:only-of-type {\n",
       "        vertical-align: middle;\n",
       "    }\n",
       "\n",
       "    .dataframe tbody tr th {\n",
       "        vertical-align: top;\n",
       "    }\n",
       "\n",
       "    .dataframe thead th {\n",
       "        text-align: right;\n",
       "    }\n",
       "</style>\n",
       "<table border=\"1\" class=\"dataframe\">\n",
       "  <thead>\n",
       "    <tr style=\"text-align: right;\">\n",
       "      <th></th>\n",
       "      <th>review_year</th>\n",
       "      <th>review_month</th>\n",
       "      <th>peak</th>\n",
       "      <th>tokenised_sentences</th>\n",
       "      <th>subjectivity</th>\n",
       "      <th>sentiment</th>\n",
       "      <th>sentiment_score</th>\n",
       "    </tr>\n",
       "  </thead>\n",
       "  <tbody>\n",
       "    <tr>\n",
       "      <th>0</th>\n",
       "      <td>2021</td>\n",
       "      <td>Oct</td>\n",
       "      <td>cardrona</td>\n",
       "      <td>ticket process hire process easy staff helpful...</td>\n",
       "      <td>0.569444</td>\n",
       "      <td>POSITIVE</td>\n",
       "      <td>0.990033</td>\n",
       "    </tr>\n",
       "    <tr>\n",
       "      <th>1</th>\n",
       "      <td>2021</td>\n",
       "      <td>Oct</td>\n",
       "      <td>cardrona</td>\n",
       "      <td>well meet instructor (nick) patience round gru...</td>\n",
       "      <td>0.668750</td>\n",
       "      <td>NEGATIVE</td>\n",
       "      <td>-0.993660</td>\n",
       "    </tr>\n",
       "    <tr>\n",
       "      <th>2</th>\n",
       "      <td>2021</td>\n",
       "      <td>Oct</td>\n",
       "      <td>cardrona</td>\n",
       "      <td>completely put kid off.</td>\n",
       "      <td>0.400000</td>\n",
       "      <td>NEGATIVE</td>\n",
       "      <td>-0.995861</td>\n",
       "    </tr>\n",
       "    <tr>\n",
       "      <th>3</th>\n",
       "      <td>2021</td>\n",
       "      <td>Oct</td>\n",
       "      <td>cardrona</td>\n",
       "      <td>go lesson kid little info get much well withou...</td>\n",
       "      <td>0.566667</td>\n",
       "      <td>NEGATIVE</td>\n",
       "      <td>-0.938372</td>\n",
       "    </tr>\n",
       "    <tr>\n",
       "      <th>4</th>\n",
       "      <td>2021</td>\n",
       "      <td>Oct</td>\n",
       "      <td>cardrona</td>\n",
       "      <td>cadrona well set first timer get wrong instruc...</td>\n",
       "      <td>0.477778</td>\n",
       "      <td>POSITIVE</td>\n",
       "      <td>0.970559</td>\n",
       "    </tr>\n",
       "  </tbody>\n",
       "</table>\n",
       "</div>"
      ],
      "text/plain": [
       "   review_year review_month      peak  \\\n",
       "0         2021          Oct  cardrona   \n",
       "1         2021          Oct  cardrona   \n",
       "2         2021          Oct  cardrona   \n",
       "3         2021          Oct  cardrona   \n",
       "4         2021          Oct  cardrona   \n",
       "\n",
       "                                 tokenised_sentences  subjectivity sentiment  \\\n",
       "0  ticket process hire process easy staff helpful...      0.569444  POSITIVE   \n",
       "1  well meet instructor (nick) patience round gru...      0.668750  NEGATIVE   \n",
       "2                            completely put kid off.      0.400000  NEGATIVE   \n",
       "3  go lesson kid little info get much well withou...      0.566667  NEGATIVE   \n",
       "4  cadrona well set first timer get wrong instruc...      0.477778  POSITIVE   \n",
       "\n",
       "   sentiment_score  \n",
       "0         0.990033  \n",
       "1        -0.993660  \n",
       "2        -0.995861  \n",
       "3        -0.938372  \n",
       "4         0.970559  "
      ]
     },
     "execution_count": 42,
     "metadata": {},
     "output_type": "execute_result"
    }
   ],
   "source": [
    "def remove_all_stopwords_and_extra_ones(text):\n",
    "    tokens = [word for word in text.split() if word not in stop_words]\n",
    "    return ' '.join(tokens)\n",
    "\n",
    "tokenised_df['tokenised_sentences'] = tokenised_df['tokenised_sentences'].apply(lambda x: remove_all_stopwords_and_extra_ones(x))\n",
    "tokenised_df.head()"
   ]
  },
  {
   "cell_type": "code",
   "execution_count": 44,
   "metadata": {},
   "outputs": [
    {
     "name": "stderr",
     "output_type": "stream",
     "text": [
      "c:\\Users\\Nick\\Documents\\d998_nzski_sentiment_analysis\\venv\\lib\\site-packages\\sklearn\\decomposition\\_nmf.py:1422: FutureWarning: `alpha` was deprecated in version 1.0 and will be removed in 1.2. Use `alpha_W` and `alpha_H` instead\n",
      "  warnings.warn(\n"
     ]
    },
    {
     "data": {
      "text/plain": [
       "NMF(alpha=0.1, init='nndsvd', l1_ratio=0.5, n_components=7, random_state=1)"
      ]
     },
     "execution_count": 44,
     "metadata": {},
     "output_type": "execute_result"
    }
   ],
   "source": [
    "vectorizer = TfidfVectorizer(analyzer='word', token_pattern=r'\\b[a-zA-Z]{3,}\\b', ngram_range=(1,2), lowercase=False, \n",
    "min_df=5, # don't want terms to be used that don't appear often\n",
    "stop_words='english' # not checking non-English stopwords for now\n",
    ")\n",
    "matrix = vectorizer.fit_transform(tokenised_df['tokenised_sentences'].values)\n",
    "\n",
    "nmf = NMF(n_components=7, random_state=1, alpha=.1, l1_ratio=.5, init='nndsvd') # not tuned\n",
    "nmf.fit(matrix)"
   ]
  },
  {
   "cell_type": "code",
   "execution_count": 45,
   "metadata": {},
   "outputs": [
    {
     "name": "stderr",
     "output_type": "stream",
     "text": [
      "c:\\Users\\Nick\\Documents\\d998_nzski_sentiment_analysis\\venv\\lib\\site-packages\\sklearn\\utils\\deprecation.py:87: FutureWarning: Function get_feature_names is deprecated; get_feature_names is deprecated in 1.0 and will be removed in 1.2. Please use get_feature_names_out instead.\n",
      "  warnings.warn(msg, category=FutureWarning)\n"
     ]
    },
    {
     "data": {
      "text/html": [
       "<div>\n",
       "<style scoped>\n",
       "    .dataframe tbody tr th:only-of-type {\n",
       "        vertical-align: middle;\n",
       "    }\n",
       "\n",
       "    .dataframe tbody tr th {\n",
       "        vertical-align: top;\n",
       "    }\n",
       "\n",
       "    .dataframe thead th {\n",
       "        text-align: right;\n",
       "    }\n",
       "</style>\n",
       "<table border=\"1\" class=\"dataframe\">\n",
       "  <thead>\n",
       "    <tr style=\"text-align: right;\">\n",
       "      <th></th>\n",
       "      <th>topic_1</th>\n",
       "      <th>topic_2</th>\n",
       "      <th>topic_3</th>\n",
       "      <th>topic_4</th>\n",
       "      <th>topic_5</th>\n",
       "      <th>topic_6</th>\n",
       "      <th>topic_7</th>\n",
       "    </tr>\n",
       "  </thead>\n",
       "  <tbody>\n",
       "    <tr>\n",
       "      <th>0</th>\n",
       "      <td>run</td>\n",
       "      <td>staff</td>\n",
       "      <td>snow</td>\n",
       "      <td>drive</td>\n",
       "      <td>lesson</td>\n",
       "      <td>mountain</td>\n",
       "      <td>experience</td>\n",
       "    </tr>\n",
       "    <tr>\n",
       "      <th>1</th>\n",
       "      <td>area</td>\n",
       "      <td>helpful</td>\n",
       "      <td>season</td>\n",
       "      <td>worth</td>\n",
       "      <td>instructor</td>\n",
       "      <td>drive mountain</td>\n",
       "      <td>year</td>\n",
       "    </tr>\n",
       "    <tr>\n",
       "      <th>2</th>\n",
       "      <td>beginner</td>\n",
       "      <td>friendly</td>\n",
       "      <td>lot</td>\n",
       "      <td>easy</td>\n",
       "      <td>day</td>\n",
       "      <td>bus</td>\n",
       "      <td>family</td>\n",
       "    </tr>\n",
       "    <tr>\n",
       "      <th>3</th>\n",
       "      <td>lift</td>\n",
       "      <td>staff friendly</td>\n",
       "      <td>plenty snow</td>\n",
       "      <td>road</td>\n",
       "      <td>kid</td>\n",
       "      <td>gear</td>\n",
       "      <td>come</td>\n",
       "    </tr>\n",
       "    <tr>\n",
       "      <th>4</th>\n",
       "      <td>slope</td>\n",
       "      <td>friendly helpful</td>\n",
       "      <td>lot snow</td>\n",
       "      <td>queenstown</td>\n",
       "      <td>private</td>\n",
       "      <td>beautiful</td>\n",
       "      <td>old</td>\n",
       "    </tr>\n",
       "    <tr>\n",
       "      <th>5</th>\n",
       "      <td>really</td>\n",
       "      <td>staff helpful</td>\n",
       "      <td>weather</td>\n",
       "      <td>worth drive</td>\n",
       "      <td>group</td>\n",
       "      <td>hire</td>\n",
       "      <td>year old</td>\n",
       "    </tr>\n",
       "    <tr>\n",
       "      <th>6</th>\n",
       "      <td>lot</td>\n",
       "      <td>helpful friendly</td>\n",
       "      <td>play</td>\n",
       "      <td>bus</td>\n",
       "      <td>private lesson</td>\n",
       "      <td>road</td>\n",
       "      <td>amaze</td>\n",
       "    </tr>\n",
       "    <tr>\n",
       "      <th>7</th>\n",
       "      <td>skier</td>\n",
       "      <td>friendly staff</td>\n",
       "      <td>make</td>\n",
       "      <td>trip</td>\n",
       "      <td>awesome</td>\n",
       "      <td>like</td>\n",
       "      <td>overall</td>\n",
       "    </tr>\n",
       "    <tr>\n",
       "      <th>8</th>\n",
       "      <td>resort</td>\n",
       "      <td>helpful staff</td>\n",
       "      <td>fresh</td>\n",
       "      <td>car</td>\n",
       "      <td>snowboard</td>\n",
       "      <td>biking</td>\n",
       "      <td>best</td>\n",
       "    </tr>\n",
       "    <tr>\n",
       "      <th>9</th>\n",
       "      <td>intermediate</td>\n",
       "      <td>super</td>\n",
       "      <td>plenty</td>\n",
       "      <td>easy drive</td>\n",
       "      <td>fantastic</td>\n",
       "      <td>mountain biking</td>\n",
       "      <td>amaze experience</td>\n",
       "    </tr>\n",
       "    <tr>\n",
       "      <th>10</th>\n",
       "      <td>green</td>\n",
       "      <td>help</td>\n",
       "      <td>icy</td>\n",
       "      <td>minute</td>\n",
       "      <td>hour</td>\n",
       "      <td>summer</td>\n",
       "      <td>skiing</td>\n",
       "    </tr>\n",
       "    <tr>\n",
       "      <th>11</th>\n",
       "      <td>enjoy</td>\n",
       "      <td>facility</td>\n",
       "      <td>condition</td>\n",
       "      <td>views</td>\n",
       "      <td>group lesson</td>\n",
       "      <td>best</td>\n",
       "      <td>new</td>\n",
       "    </tr>\n",
       "    <tr>\n",
       "      <th>12</th>\n",
       "      <td>beginner area</td>\n",
       "      <td>super friendly</td>\n",
       "      <td>great</td>\n",
       "      <td>bit</td>\n",
       "      <td>great</td>\n",
       "      <td>way</td>\n",
       "      <td>ago</td>\n",
       "    </tr>\n",
       "    <tr>\n",
       "      <th>13</th>\n",
       "      <td>runs</td>\n",
       "      <td>really</td>\n",
       "      <td>fresh snow</td>\n",
       "      <td>drive queenstown</td>\n",
       "      <td>book</td>\n",
       "      <td>enjoy mountain</td>\n",
       "      <td>wonderful</td>\n",
       "    </tr>\n",
       "    <tr>\n",
       "      <th>14</th>\n",
       "      <td>food</td>\n",
       "      <td>happy</td>\n",
       "      <td>chain</td>\n",
       "      <td>way</td>\n",
       "      <td>patient</td>\n",
       "      <td>lift</td>\n",
       "      <td>spent</td>\n",
       "    </tr>\n",
       "    <tr>\n",
       "      <th>15</th>\n",
       "      <td>nice</td>\n",
       "      <td>instructor</td>\n",
       "      <td>beautiful</td>\n",
       "      <td>worth trip</td>\n",
       "      <td>lesson instructor</td>\n",
       "      <td>stay</td>\n",
       "      <td>year ago</td>\n",
       "    </tr>\n",
       "    <tr>\n",
       "      <th>16</th>\n",
       "      <td>like</td>\n",
       "      <td>service</td>\n",
       "      <td>play snow</td>\n",
       "      <td>resort</td>\n",
       "      <td>lessons</td>\n",
       "      <td>enjoy</td>\n",
       "      <td>make</td>\n",
       "    </tr>\n",
       "    <tr>\n",
       "      <th>17</th>\n",
       "      <td>chair</td>\n",
       "      <td>excellent</td>\n",
       "      <td>quality</td>\n",
       "      <td>minute drive</td>\n",
       "      <td>package</td>\n",
       "      <td>try</td>\n",
       "      <td>resort</td>\n",
       "    </tr>\n",
       "    <tr>\n",
       "      <th>18</th>\n",
       "      <td>advanced</td>\n",
       "      <td>patient</td>\n",
       "      <td>machine</td>\n",
       "      <td>close</td>\n",
       "      <td>hire</td>\n",
       "      <td>favourite mountain</td>\n",
       "      <td>enjoy</td>\n",
       "    </tr>\n",
       "    <tr>\n",
       "      <th>19</th>\n",
       "      <td>people</td>\n",
       "      <td>professional</td>\n",
       "      <td>snow chain</td>\n",
       "      <td>drive mountain</td>\n",
       "      <td>club</td>\n",
       "      <td>bus mountain</td>\n",
       "      <td>child</td>\n",
       "    </tr>\n",
       "  </tbody>\n",
       "</table>\n",
       "</div>"
      ],
      "text/plain": [
       "          topic_1           topic_2      topic_3           topic_4  \\\n",
       "0             run             staff         snow             drive   \n",
       "1            area           helpful       season             worth   \n",
       "2        beginner          friendly          lot              easy   \n",
       "3            lift    staff friendly  plenty snow              road   \n",
       "4           slope  friendly helpful     lot snow        queenstown   \n",
       "5          really     staff helpful      weather       worth drive   \n",
       "6             lot  helpful friendly         play               bus   \n",
       "7           skier    friendly staff         make              trip   \n",
       "8          resort     helpful staff        fresh               car   \n",
       "9    intermediate             super       plenty        easy drive   \n",
       "10          green              help          icy            minute   \n",
       "11          enjoy          facility    condition             views   \n",
       "12  beginner area    super friendly        great               bit   \n",
       "13           runs            really   fresh snow  drive queenstown   \n",
       "14           food             happy        chain               way   \n",
       "15           nice        instructor    beautiful        worth trip   \n",
       "16           like           service    play snow            resort   \n",
       "17          chair         excellent      quality      minute drive   \n",
       "18       advanced           patient      machine             close   \n",
       "19         people      professional   snow chain    drive mountain   \n",
       "\n",
       "              topic_5             topic_6           topic_7  \n",
       "0              lesson            mountain        experience  \n",
       "1          instructor      drive mountain              year  \n",
       "2                 day                 bus            family  \n",
       "3                 kid                gear              come  \n",
       "4             private           beautiful               old  \n",
       "5               group                hire          year old  \n",
       "6      private lesson                road             amaze  \n",
       "7             awesome                like           overall  \n",
       "8           snowboard              biking              best  \n",
       "9           fantastic     mountain biking  amaze experience  \n",
       "10               hour              summer            skiing  \n",
       "11       group lesson                best               new  \n",
       "12              great                 way               ago  \n",
       "13               book      enjoy mountain         wonderful  \n",
       "14            patient                lift             spent  \n",
       "15  lesson instructor                stay          year ago  \n",
       "16            lessons               enjoy              make  \n",
       "17            package                 try            resort  \n",
       "18               hire  favourite mountain             enjoy  \n",
       "19               club        bus mountain             child  "
      ]
     },
     "execution_count": 45,
     "metadata": {},
     "output_type": "execute_result"
    }
   ],
   "source": [
    "feature_names = vectorizer.get_feature_names()\n",
    "n_top_words = 20\n",
    "\n",
    "df_topic_dict = {}\n",
    "for idx, topic in enumerate(nmf.components_[:10]):\n",
    "    topic_id = f'topic_{idx+1}'\n",
    "    top_words = [feature_names[i] for i in topic.argsort()[:-n_top_words-1:-1]]\n",
    "    df_topic_dict[topic_id] = top_words\n",
    "df_topic = pd.DataFrame(df_topic_dict)\n",
    "df_topic"
   ]
  },
  {
   "cell_type": "markdown",
   "metadata": {},
   "source": [
    "We can see more distinguished topics now:\n",
    "- topic 1: overall enjoyment/beginner-friendliness\n",
    "- topic 2: staff (how friendly and helpful they were)\n",
    "- topic 3: snow quality\n",
    "- topic 4: commuting to the location\n",
    "- topic 5: lesson quality\n",
    "- topic 6 (less interpretable): equipment/views\n",
    "- topic 7 (less interpretable): family-friendliness\n",
    "\n",
    "After consulting with internal stakeholders who had more domain knowledge and expertise, it was determined that the main topics were:\n",
    "- terrain\n",
    "- customer service\n",
    "- accessibility\n",
    "- snow conditions\n",
    "- lessons and instructions"
   ]
  },
  {
   "cell_type": "markdown",
   "metadata": {},
   "source": []
  }
 ],
 "metadata": {
  "interpreter": {
   "hash": "d5b36f775831cb004682a0671ff86ade3c4154246a9b60eb95c5d55017aa98a9"
  },
  "kernelspec": {
   "display_name": "Python 3.9.6 64-bit ('venv': venv)",
   "language": "python",
   "name": "python3"
  },
  "language_info": {
   "codemirror_mode": {
    "name": "ipython",
    "version": 3
   },
   "file_extension": ".py",
   "mimetype": "text/x-python",
   "name": "python",
   "nbconvert_exporter": "python",
   "pygments_lexer": "ipython3",
   "version": "3.9.6"
  },
  "orig_nbformat": 4
 },
 "nbformat": 4,
 "nbformat_minor": 2
}
